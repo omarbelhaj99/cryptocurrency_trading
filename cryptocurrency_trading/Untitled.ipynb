{
 "cells": [
  {
   "cell_type": "markdown",
   "id": "337dbc0c",
   "metadata": {},
   "source": [
    "# Scraping new data from 2021-09-01 to 2022-01-11\n"
   ]
  },
  {
   "cell_type": "markdown",
   "id": "3d696684",
   "metadata": {
    "heading_collapsed": true
   },
   "source": [
    "## Getting price data"
   ]
  },
  {
   "cell_type": "code",
   "execution_count": 24,
   "id": "1f378e65",
   "metadata": {
    "hidden": true,
    "scrolled": true
   },
   "outputs": [
    {
     "name": "stdout",
     "output_type": "stream",
     "text": [
      "[Errno 2] No such file or directory: 'Scrapers'\n",
      "/home/omar/code/omarbelhaj99/cryptocurrency_trading/cryptocurrency_trading/Scrapers\n"
     ]
    }
   ],
   "source": [
    "cd Scrapers"
   ]
  },
  {
   "cell_type": "code",
   "execution_count": 25,
   "id": "0cb0b211",
   "metadata": {
    "hidden": true,
    "scrolled": true
   },
   "outputs": [],
   "source": [
    "from financial_data_scraper import get_price_data"
   ]
  },
  {
   "cell_type": "code",
   "execution_count": 28,
   "id": "42ec0d58",
   "metadata": {
    "hidden": true
   },
   "outputs": [],
   "source": [
    "startdate = '31 august 2021'"
   ]
  },
  {
   "cell_type": "code",
   "execution_count": 30,
   "id": "fc3c2374",
   "metadata": {
    "hidden": true,
    "scrolled": false
   },
   "outputs": [],
   "source": [
    "price_data = get_price_data(startdate)"
   ]
  },
  {
   "cell_type": "markdown",
   "id": "45f411e2",
   "metadata": {},
   "source": [
    "## Getting twitter data "
   ]
  },
  {
   "cell_type": "code",
   "execution_count": 34,
   "id": "016a003b",
   "metadata": {},
   "outputs": [
    {
     "name": "stdout",
     "output_type": "stream",
     "text": [
      "Requirement already satisfied: tqdm in /home/omar/.pyenv/versions/3.8.6/envs/cryptocurrency_trading/lib/python3.8/site-packages (4.62.2)\n",
      "\u001b[33mWARNING: You are using pip version 21.2.4; however, version 21.3.1 is available.\n",
      "You should consider upgrading via the '/home/omar/.pyenv/versions/3.8.6/envs/cryptocurrency_trading/bin/python -m pip install --upgrade pip' command.\u001b[0m\n",
      "Note: you may need to restart the kernel to use updated packages.\n"
     ]
    }
   ],
   "source": [
    "pip install tqdm"
   ]
  },
  {
   "cell_type": "code",
   "execution_count": 37,
   "id": "1d986690",
   "metadata": {
    "scrolled": true
   },
   "outputs": [
    {
     "data": {
      "text/html": [
       "<style>.container { width:70% !important; }</style>"
      ],
      "text/plain": [
       "<IPython.core.display.HTML object>"
      ]
     },
     "metadata": {},
     "output_type": "display_data"
    },
    {
     "ename": "ImportError",
     "evalue": "cannot import name 'tqdm' from 'tqdm' (/home/omar/.pyenv/versions/3.8.6/envs/cryptocurrency_trading/lib/python3.8/site-packages/tqdm/__init__.py)",
     "output_type": "error",
     "traceback": [
      "\u001b[0;31m---------------------------------------------------------------------------\u001b[0m",
      "\u001b[0;31mImportError\u001b[0m                               Traceback (most recent call last)",
      "\u001b[0;32m/tmp/ipykernel_25386/3983841618.py\u001b[0m in \u001b[0;36m<module>\u001b[0;34m\u001b[0m\n\u001b[0;32m----> 1\u001b[0;31m \u001b[0;32mfrom\u001b[0m \u001b[0mtwitter_scrape\u001b[0m \u001b[0;32mimport\u001b[0m \u001b[0mscrape_tweets\u001b[0m\u001b[0;34m,\u001b[0m \u001b[0mget_tweet_count\u001b[0m\u001b[0;34m\u001b[0m\u001b[0;34m\u001b[0m\u001b[0m\n\u001b[0m",
      "\u001b[0;32m~/code/omarbelhaj99/cryptocurrency_trading/cryptocurrency_trading/Scrapers/twitter_scrape.py\u001b[0m in \u001b[0;36m<module>\u001b[0;34m\u001b[0m\n\u001b[1;32m      7\u001b[0m \u001b[0;32mimport\u001b[0m \u001b[0mpandas\u001b[0m \u001b[0;32mas\u001b[0m \u001b[0mpd\u001b[0m\u001b[0;34m\u001b[0m\u001b[0;34m\u001b[0m\u001b[0m\n\u001b[1;32m      8\u001b[0m \u001b[0;32mfrom\u001b[0m \u001b[0mdatetime\u001b[0m \u001b[0;32mimport\u001b[0m \u001b[0mdatetime\u001b[0m\u001b[0;34m\u001b[0m\u001b[0;34m\u001b[0m\u001b[0m\n\u001b[0;32m----> 9\u001b[0;31m \u001b[0;32mfrom\u001b[0m \u001b[0mtqdm\u001b[0m \u001b[0;32mimport\u001b[0m \u001b[0mtqdm\u001b[0m\u001b[0;34m\u001b[0m\u001b[0;34m\u001b[0m\u001b[0m\n\u001b[0m\u001b[1;32m     10\u001b[0m \u001b[0;32mimport\u001b[0m \u001b[0mtime\u001b[0m\u001b[0;34m\u001b[0m\u001b[0;34m\u001b[0m\u001b[0m\n\u001b[1;32m     11\u001b[0m \u001b[0;32mfrom\u001b[0m \u001b[0mdotenv\u001b[0m \u001b[0;32mimport\u001b[0m \u001b[0mload_dotenv\u001b[0m\u001b[0;34m\u001b[0m\u001b[0;34m\u001b[0m\u001b[0m\n",
      "\u001b[0;31mImportError\u001b[0m: cannot import name 'tqdm' from 'tqdm' (/home/omar/.pyenv/versions/3.8.6/envs/cryptocurrency_trading/lib/python3.8/site-packages/tqdm/__init__.py)"
     ]
    }
   ],
   "source": [
    "from twitter_scrape import scrape_tweets, get_tweet_count"
   ]
  }
 ],
 "metadata": {
  "kernelspec": {
   "display_name": "Python 3 (ipykernel)",
   "language": "python",
   "name": "python3"
  },
  "language_info": {
   "codemirror_mode": {
    "name": "ipython",
    "version": 3
   },
   "file_extension": ".py",
   "mimetype": "text/x-python",
   "name": "python",
   "nbconvert_exporter": "python",
   "pygments_lexer": "ipython3",
   "version": "3.8.6"
  },
  "toc": {
   "base_numbering": 1,
   "nav_menu": {},
   "number_sections": true,
   "sideBar": true,
   "skip_h1_title": false,
   "title_cell": "Table of Contents",
   "title_sidebar": "Contents",
   "toc_cell": false,
   "toc_position": {},
   "toc_section_display": true,
   "toc_window_display": false
  }
 },
 "nbformat": 4,
 "nbformat_minor": 5
}
