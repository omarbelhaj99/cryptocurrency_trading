{
 "cells": [
  {
   "cell_type": "markdown",
   "id": "d73ea848",
   "metadata": {},
   "source": [
    "#  Creating new features "
   ]
  },
  {
   "cell_type": "markdown",
   "id": "75e125d9",
   "metadata": {
    "heading_collapsed": true
   },
   "source": [
    "## Getting additional features from the Alpha vantage API "
   ]
  },
  {
   "cell_type": "markdown",
   "id": "e8f08d55",
   "metadata": {
    "hidden": true
   },
   "source": [
    "### Bitcoin FCAS Rating "
   ]
  },
  {
   "cell_type": "code",
   "execution_count": 1,
   "id": "e407c43a",
   "metadata": {
    "hidden": true
   },
   "outputs": [],
   "source": [
    "# imports \n",
    "import requests\n",
    "import pandas as pd "
   ]
  },
  {
   "cell_type": "code",
   "execution_count": 2,
   "id": "fccc6dc3",
   "metadata": {
    "hidden": true
   },
   "outputs": [],
   "source": [
    "API_key = 'BPXVULLGKWW3Z16Y'"
   ]
  },
  {
   "cell_type": "code",
   "execution_count": 3,
   "id": "46b7a000",
   "metadata": {
    "hidden": true,
    "scrolled": false
   },
   "outputs": [
    {
     "name": "stdout",
     "output_type": "stream",
     "text": [
      "Empty DataFrame\n",
      "Columns: []\n",
      "Index: []\n"
     ]
    }
   ],
   "source": [
    "# Crypto rating \n",
    "symbol = 'BTC'\n",
    "url = f'https://www.alphavantage.co/query?function=CRYPTO_RATING&symbol={symbol}&apikey={API_key}'\n",
    "r = requests.get(url)\n",
    "data = r.json()\n",
    "df = pd.DataFrame(data)\n",
    "print(df)"
   ]
  },
  {
   "cell_type": "markdown",
   "id": "ca17206f",
   "metadata": {
    "heading_collapsed": true
   },
   "source": [
    "## Getting blockchain features from blockchain.info API "
   ]
  },
  {
   "cell_type": "markdown",
   "id": "5b1c327c",
   "metadata": {
    "heading_collapsed": true,
    "hidden": true
   },
   "source": [
    "### mining difficulty"
   ]
  },
  {
   "cell_type": "code",
   "execution_count": 4,
   "id": "e9044742",
   "metadata": {
    "hidden": true
   },
   "outputs": [
    {
     "data": {
      "text/plain": [
       "24371874614345.0"
      ]
     },
     "execution_count": 4,
     "metadata": {},
     "output_type": "execute_result"
    }
   ],
   "source": [
    "url = 'https://blockchain.info/q/getdifficulty'\n",
    "r = requests.get(url)\n",
    "mining_difficulty = r.json()\n",
    "\n",
    "mining_difficulty"
   ]
  },
  {
   "cell_type": "markdown",
   "id": "c59c7771",
   "metadata": {
    "hidden": true
   },
   "source": [
    "### Block count"
   ]
  },
  {
   "cell_type": "code",
   "execution_count": 5,
   "id": "fe43a18e",
   "metadata": {
    "hidden": true
   },
   "outputs": [
    {
     "data": {
      "text/plain": [
       "718517"
      ]
     },
     "execution_count": 5,
     "metadata": {},
     "output_type": "execute_result"
    }
   ],
   "source": [
    "url = 'https://blockchain.info/q/getblockcount'\n",
    "r = requests.get(url)\n",
    "block_count = r.json()\n",
    "block_count"
   ]
  },
  {
   "cell_type": "markdown",
   "id": "0c736ab8",
   "metadata": {},
   "source": [
    "## Transforming features to get technical analysis features"
   ]
  },
  {
   "cell_type": "markdown",
   "id": "313025fb",
   "metadata": {
    "heading_collapsed": true
   },
   "source": [
    "### Getting the price and volume data from financialmodelingprep.com API "
   ]
  },
  {
   "cell_type": "code",
   "execution_count": 6,
   "id": "cd7c1b76",
   "metadata": {
    "hidden": true,
    "scrolled": true
   },
   "outputs": [
    {
     "data": {
      "text/html": [
       "<div>\n",
       "<style scoped>\n",
       "    .dataframe tbody tr th:only-of-type {\n",
       "        vertical-align: middle;\n",
       "    }\n",
       "\n",
       "    .dataframe tbody tr th {\n",
       "        vertical-align: top;\n",
       "    }\n",
       "\n",
       "    .dataframe thead th {\n",
       "        text-align: right;\n",
       "    }\n",
       "</style>\n",
       "<table border=\"1\" class=\"dataframe\">\n",
       "  <thead>\n",
       "    <tr style=\"text-align: right;\">\n",
       "      <th></th>\n",
       "      <th>date</th>\n",
       "      <th>open</th>\n",
       "      <th>high</th>\n",
       "      <th>low</th>\n",
       "      <th>close</th>\n",
       "      <th>adjClose</th>\n",
       "      <th>volume</th>\n",
       "      <th>unadjustedVolume</th>\n",
       "      <th>change</th>\n",
       "      <th>changePercent</th>\n",
       "      <th>vwap</th>\n",
       "      <th>label</th>\n",
       "      <th>changeOverTime</th>\n",
       "    </tr>\n",
       "  </thead>\n",
       "  <tbody>\n",
       "    <tr>\n",
       "      <th>0</th>\n",
       "      <td>2022-01-12</td>\n",
       "      <td>42776.830200</td>\n",
       "      <td>42942.709400</td>\n",
       "      <td>42588.767200</td>\n",
       "      <td>42839.807600</td>\n",
       "      <td>42839.807600</td>\n",
       "      <td>2.654798e+10</td>\n",
       "      <td>2.654798e+10</td>\n",
       "      <td>62.97740</td>\n",
       "      <td>0.147</td>\n",
       "      <td>42790.42807</td>\n",
       "      <td>January 12, 22</td>\n",
       "      <td>0.00147</td>\n",
       "    </tr>\n",
       "    <tr>\n",
       "      <th>1</th>\n",
       "      <td>2022-01-11</td>\n",
       "      <td>41861.042700</td>\n",
       "      <td>42148.080100</td>\n",
       "      <td>41703.983200</td>\n",
       "      <td>42148.080100</td>\n",
       "      <td>42148.080100</td>\n",
       "      <td>3.467735e+10</td>\n",
       "      <td>3.467735e+10</td>\n",
       "      <td>287.03740</td>\n",
       "      <td>0.686</td>\n",
       "      <td>42000.04780</td>\n",
       "      <td>January 11, 22</td>\n",
       "      <td>0.00686</td>\n",
       "    </tr>\n",
       "    <tr>\n",
       "      <th>2</th>\n",
       "      <td>2022-01-10</td>\n",
       "      <td>41932.756900</td>\n",
       "      <td>42253.057500</td>\n",
       "      <td>41772.873600</td>\n",
       "      <td>41919.103900</td>\n",
       "      <td>41919.103900</td>\n",
       "      <td>2.200912e+10</td>\n",
       "      <td>2.200912e+10</td>\n",
       "      <td>-13.65300</td>\n",
       "      <td>-0.033</td>\n",
       "      <td>41981.67833</td>\n",
       "      <td>January 10, 22</td>\n",
       "      <td>-0.00033</td>\n",
       "    </tr>\n",
       "    <tr>\n",
       "      <th>3</th>\n",
       "      <td>2022-01-09</td>\n",
       "      <td>41808.563900</td>\n",
       "      <td>42710.280700</td>\n",
       "      <td>41473.902200</td>\n",
       "      <td>41963.416500</td>\n",
       "      <td>41963.416500</td>\n",
       "      <td>2.250029e+10</td>\n",
       "      <td>2.250029e+10</td>\n",
       "      <td>154.85260</td>\n",
       "      <td>0.370</td>\n",
       "      <td>42049.19980</td>\n",
       "      <td>January 09, 22</td>\n",
       "      <td>0.00370</td>\n",
       "    </tr>\n",
       "    <tr>\n",
       "      <th>4</th>\n",
       "      <td>2022-01-08</td>\n",
       "      <td>41578.373000</td>\n",
       "      <td>42270.547300</td>\n",
       "      <td>40465.070800</td>\n",
       "      <td>41862.367700</td>\n",
       "      <td>41862.367700</td>\n",
       "      <td>2.811234e+10</td>\n",
       "      <td>2.811234e+10</td>\n",
       "      <td>283.99470</td>\n",
       "      <td>0.683</td>\n",
       "      <td>41532.66193</td>\n",
       "      <td>January 08, 22</td>\n",
       "      <td>0.00683</td>\n",
       "    </tr>\n",
       "    <tr>\n",
       "      <th>...</th>\n",
       "      <td>...</td>\n",
       "      <td>...</td>\n",
       "      <td>...</td>\n",
       "      <td>...</td>\n",
       "      <td>...</td>\n",
       "      <td>...</td>\n",
       "      <td>...</td>\n",
       "      <td>...</td>\n",
       "      <td>...</td>\n",
       "      <td>...</td>\n",
       "      <td>...</td>\n",
       "      <td>...</td>\n",
       "      <td>...</td>\n",
       "    </tr>\n",
       "    <tr>\n",
       "      <th>1821</th>\n",
       "      <td>2017-01-17</td>\n",
       "      <td>830.945984</td>\n",
       "      <td>910.560974</td>\n",
       "      <td>830.796021</td>\n",
       "      <td>907.937988</td>\n",
       "      <td>907.937988</td>\n",
       "      <td>1.550950e+08</td>\n",
       "      <td>1.550950e+08</td>\n",
       "      <td>76.99200</td>\n",
       "      <td>9.266</td>\n",
       "      <td>883.09833</td>\n",
       "      <td>January 17, 17</td>\n",
       "      <td>0.09266</td>\n",
       "    </tr>\n",
       "    <tr>\n",
       "      <th>1822</th>\n",
       "      <td>2017-01-16</td>\n",
       "      <td>821.783020</td>\n",
       "      <td>834.530029</td>\n",
       "      <td>820.270996</td>\n",
       "      <td>831.533997</td>\n",
       "      <td>831.533997</td>\n",
       "      <td>8.275520e+07</td>\n",
       "      <td>8.275520e+07</td>\n",
       "      <td>9.75098</td>\n",
       "      <td>1.187</td>\n",
       "      <td>828.77834</td>\n",
       "      <td>January 16, 17</td>\n",
       "      <td>0.01187</td>\n",
       "    </tr>\n",
       "    <tr>\n",
       "      <th>1823</th>\n",
       "      <td>2017-01-15</td>\n",
       "      <td>818.142029</td>\n",
       "      <td>823.307007</td>\n",
       "      <td>812.870972</td>\n",
       "      <td>821.797974</td>\n",
       "      <td>821.797974</td>\n",
       "      <td>7.101360e+07</td>\n",
       "      <td>7.101360e+07</td>\n",
       "      <td>3.65595</td>\n",
       "      <td>0.447</td>\n",
       "      <td>819.32532</td>\n",
       "      <td>January 15, 17</td>\n",
       "      <td>0.00447</td>\n",
       "    </tr>\n",
       "    <tr>\n",
       "      <th>1824</th>\n",
       "      <td>2017-01-14</td>\n",
       "      <td>825.142029</td>\n",
       "      <td>835.085022</td>\n",
       "      <td>812.455994</td>\n",
       "      <td>818.411987</td>\n",
       "      <td>818.411987</td>\n",
       "      <td>9.306330e+07</td>\n",
       "      <td>9.306330e+07</td>\n",
       "      <td>-6.73004</td>\n",
       "      <td>-0.816</td>\n",
       "      <td>821.98433</td>\n",
       "      <td>January 14, 17</td>\n",
       "      <td>-0.00816</td>\n",
       "    </tr>\n",
       "    <tr>\n",
       "      <th>1825</th>\n",
       "      <td>2017-01-13</td>\n",
       "      <td>803.737000</td>\n",
       "      <td>829.000977</td>\n",
       "      <td>780.002991</td>\n",
       "      <td>823.984009</td>\n",
       "      <td>823.984009</td>\n",
       "      <td>1.689680e+08</td>\n",
       "      <td>1.689680e+08</td>\n",
       "      <td>20.24701</td>\n",
       "      <td>2.519</td>\n",
       "      <td>810.99599</td>\n",
       "      <td>January 13, 17</td>\n",
       "      <td>0.02519</td>\n",
       "    </tr>\n",
       "  </tbody>\n",
       "</table>\n",
       "<p>1826 rows × 13 columns</p>\n",
       "</div>"
      ],
      "text/plain": [
       "            date          open          high           low         close  \\\n",
       "0     2022-01-12  42776.830200  42942.709400  42588.767200  42839.807600   \n",
       "1     2022-01-11  41861.042700  42148.080100  41703.983200  42148.080100   \n",
       "2     2022-01-10  41932.756900  42253.057500  41772.873600  41919.103900   \n",
       "3     2022-01-09  41808.563900  42710.280700  41473.902200  41963.416500   \n",
       "4     2022-01-08  41578.373000  42270.547300  40465.070800  41862.367700   \n",
       "...          ...           ...           ...           ...           ...   \n",
       "1821  2017-01-17    830.945984    910.560974    830.796021    907.937988   \n",
       "1822  2017-01-16    821.783020    834.530029    820.270996    831.533997   \n",
       "1823  2017-01-15    818.142029    823.307007    812.870972    821.797974   \n",
       "1824  2017-01-14    825.142029    835.085022    812.455994    818.411987   \n",
       "1825  2017-01-13    803.737000    829.000977    780.002991    823.984009   \n",
       "\n",
       "          adjClose        volume  unadjustedVolume     change  changePercent  \\\n",
       "0     42839.807600  2.654798e+10      2.654798e+10   62.97740          0.147   \n",
       "1     42148.080100  3.467735e+10      3.467735e+10  287.03740          0.686   \n",
       "2     41919.103900  2.200912e+10      2.200912e+10  -13.65300         -0.033   \n",
       "3     41963.416500  2.250029e+10      2.250029e+10  154.85260          0.370   \n",
       "4     41862.367700  2.811234e+10      2.811234e+10  283.99470          0.683   \n",
       "...            ...           ...               ...        ...            ...   \n",
       "1821    907.937988  1.550950e+08      1.550950e+08   76.99200          9.266   \n",
       "1822    831.533997  8.275520e+07      8.275520e+07    9.75098          1.187   \n",
       "1823    821.797974  7.101360e+07      7.101360e+07    3.65595          0.447   \n",
       "1824    818.411987  9.306330e+07      9.306330e+07   -6.73004         -0.816   \n",
       "1825    823.984009  1.689680e+08      1.689680e+08   20.24701          2.519   \n",
       "\n",
       "             vwap           label  changeOverTime  \n",
       "0     42790.42807  January 12, 22         0.00147  \n",
       "1     42000.04780  January 11, 22         0.00686  \n",
       "2     41981.67833  January 10, 22        -0.00033  \n",
       "3     42049.19980  January 09, 22         0.00370  \n",
       "4     41532.66193  January 08, 22         0.00683  \n",
       "...           ...             ...             ...  \n",
       "1821    883.09833  January 17, 17         0.09266  \n",
       "1822    828.77834  January 16, 17         0.01187  \n",
       "1823    819.32532  January 15, 17         0.00447  \n",
       "1824    821.98433  January 14, 17        -0.00816  \n",
       "1825    810.99599  January 13, 17         0.02519  \n",
       "\n",
       "[1826 rows x 13 columns]"
      ]
     },
     "execution_count": 6,
     "metadata": {},
     "output_type": "execute_result"
    }
   ],
   "source": [
    "api_key='a58413697e8263de9c95cab92049ea3f'\n",
    "symbol='BTCUSD'\n",
    "query=f'https://financialmodelingprep.com/api/v3/historical-price-full/{symbol}?apikey={api_key}'\n",
    "response=requests.get(query)\n",
    "df = pd.DataFrame(response.json()['historical'])\n",
    "df"
   ]
  },
  {
   "cell_type": "code",
   "execution_count": 7,
   "id": "b1e6f761",
   "metadata": {
    "hidden": true
   },
   "outputs": [
    {
     "data": {
      "text/html": [
       "<div>\n",
       "<style scoped>\n",
       "    .dataframe tbody tr th:only-of-type {\n",
       "        vertical-align: middle;\n",
       "    }\n",
       "\n",
       "    .dataframe tbody tr th {\n",
       "        vertical-align: top;\n",
       "    }\n",
       "\n",
       "    .dataframe thead th {\n",
       "        text-align: right;\n",
       "    }\n",
       "</style>\n",
       "<table border=\"1\" class=\"dataframe\">\n",
       "  <thead>\n",
       "    <tr style=\"text-align: right;\">\n",
       "      <th></th>\n",
       "      <th>date</th>\n",
       "      <th>open</th>\n",
       "      <th>high</th>\n",
       "      <th>low</th>\n",
       "      <th>close</th>\n",
       "      <th>adjClose</th>\n",
       "      <th>volume</th>\n",
       "      <th>unadjustedVolume</th>\n",
       "      <th>change</th>\n",
       "      <th>changePercent</th>\n",
       "      <th>vwap</th>\n",
       "      <th>label</th>\n",
       "      <th>changeOverTime</th>\n",
       "    </tr>\n",
       "  </thead>\n",
       "  <tbody>\n",
       "    <tr>\n",
       "      <th>0</th>\n",
       "      <td>2022-01-12</td>\n",
       "      <td>42776.8302</td>\n",
       "      <td>42942.7094</td>\n",
       "      <td>42588.7672</td>\n",
       "      <td>42839.8076</td>\n",
       "      <td>42839.8076</td>\n",
       "      <td>2.654798e+10</td>\n",
       "      <td>2.654798e+10</td>\n",
       "      <td>62.9774</td>\n",
       "      <td>0.147</td>\n",
       "      <td>42790.42807</td>\n",
       "      <td>January 12, 22</td>\n",
       "      <td>0.00147</td>\n",
       "    </tr>\n",
       "    <tr>\n",
       "      <th>1</th>\n",
       "      <td>2022-01-11</td>\n",
       "      <td>41861.0427</td>\n",
       "      <td>42148.0801</td>\n",
       "      <td>41703.9832</td>\n",
       "      <td>42148.0801</td>\n",
       "      <td>42148.0801</td>\n",
       "      <td>3.467735e+10</td>\n",
       "      <td>3.467735e+10</td>\n",
       "      <td>287.0374</td>\n",
       "      <td>0.686</td>\n",
       "      <td>42000.04780</td>\n",
       "      <td>January 11, 22</td>\n",
       "      <td>0.00686</td>\n",
       "    </tr>\n",
       "    <tr>\n",
       "      <th>2</th>\n",
       "      <td>2022-01-10</td>\n",
       "      <td>41932.7569</td>\n",
       "      <td>42253.0575</td>\n",
       "      <td>41772.8736</td>\n",
       "      <td>41919.1039</td>\n",
       "      <td>41919.1039</td>\n",
       "      <td>2.200912e+10</td>\n",
       "      <td>2.200912e+10</td>\n",
       "      <td>-13.6530</td>\n",
       "      <td>-0.033</td>\n",
       "      <td>41981.67833</td>\n",
       "      <td>January 10, 22</td>\n",
       "      <td>-0.00033</td>\n",
       "    </tr>\n",
       "    <tr>\n",
       "      <th>3</th>\n",
       "      <td>2022-01-09</td>\n",
       "      <td>41808.5639</td>\n",
       "      <td>42710.2807</td>\n",
       "      <td>41473.9022</td>\n",
       "      <td>41963.4165</td>\n",
       "      <td>41963.4165</td>\n",
       "      <td>2.250029e+10</td>\n",
       "      <td>2.250029e+10</td>\n",
       "      <td>154.8526</td>\n",
       "      <td>0.370</td>\n",
       "      <td>42049.19980</td>\n",
       "      <td>January 09, 22</td>\n",
       "      <td>0.00370</td>\n",
       "    </tr>\n",
       "    <tr>\n",
       "      <th>4</th>\n",
       "      <td>2022-01-08</td>\n",
       "      <td>41578.3730</td>\n",
       "      <td>42270.5473</td>\n",
       "      <td>40465.0708</td>\n",
       "      <td>41862.3677</td>\n",
       "      <td>41862.3677</td>\n",
       "      <td>2.811234e+10</td>\n",
       "      <td>2.811234e+10</td>\n",
       "      <td>283.9947</td>\n",
       "      <td>0.683</td>\n",
       "      <td>41532.66193</td>\n",
       "      <td>January 08, 22</td>\n",
       "      <td>0.00683</td>\n",
       "    </tr>\n",
       "  </tbody>\n",
       "</table>\n",
       "</div>"
      ],
      "text/plain": [
       "         date        open        high         low       close    adjClose  \\\n",
       "0  2022-01-12  42776.8302  42942.7094  42588.7672  42839.8076  42839.8076   \n",
       "1  2022-01-11  41861.0427  42148.0801  41703.9832  42148.0801  42148.0801   \n",
       "2  2022-01-10  41932.7569  42253.0575  41772.8736  41919.1039  41919.1039   \n",
       "3  2022-01-09  41808.5639  42710.2807  41473.9022  41963.4165  41963.4165   \n",
       "4  2022-01-08  41578.3730  42270.5473  40465.0708  41862.3677  41862.3677   \n",
       "\n",
       "         volume  unadjustedVolume    change  changePercent         vwap  \\\n",
       "0  2.654798e+10      2.654798e+10   62.9774          0.147  42790.42807   \n",
       "1  3.467735e+10      3.467735e+10  287.0374          0.686  42000.04780   \n",
       "2  2.200912e+10      2.200912e+10  -13.6530         -0.033  41981.67833   \n",
       "3  2.250029e+10      2.250029e+10  154.8526          0.370  42049.19980   \n",
       "4  2.811234e+10      2.811234e+10  283.9947          0.683  41532.66193   \n",
       "\n",
       "            label  changeOverTime  \n",
       "0  January 12, 22         0.00147  \n",
       "1  January 11, 22         0.00686  \n",
       "2  January 10, 22        -0.00033  \n",
       "3  January 09, 22         0.00370  \n",
       "4  January 08, 22         0.00683  "
      ]
     },
     "execution_count": 7,
     "metadata": {},
     "output_type": "execute_result"
    }
   ],
   "source": [
    "df.head()"
   ]
  },
  {
   "cell_type": "code",
   "execution_count": 8,
   "id": "e51d0fcf",
   "metadata": {
    "hidden": true
   },
   "outputs": [],
   "source": [
    "df['date']= pd.to_datetime(df['date'])"
   ]
  },
  {
   "cell_type": "code",
   "execution_count": 9,
   "id": "5c2d0034",
   "metadata": {
    "hidden": true
   },
   "outputs": [],
   "source": [
    "df.set_index('date', inplace = True)"
   ]
  },
  {
   "cell_type": "markdown",
   "id": "8a173886",
   "metadata": {},
   "source": [
    "### Computing moving averages"
   ]
  },
  {
   "cell_type": "code",
   "execution_count": 10,
   "id": "e1d2a9bf",
   "metadata": {
    "scrolled": false
   },
   "outputs": [
    {
     "data": {
      "text/plain": [
       "[None,\n",
       " None,\n",
       " None,\n",
       " None,\n",
       " None,\n",
       " None,\n",
       " None,\n",
       " None,\n",
       " None,\n",
       " None,\n",
       " None,\n",
       " None,\n",
       " None,\n",
       " None]"
      ]
     },
     "execution_count": 10,
     "metadata": {},
     "output_type": "execute_result"
    },
    {
     "data": {
      "image/png": "[encoded data removed]",
      "text/plain": [
       "<Figure size 648x360 with 1 Axes>"
      ]
     },
     "metadata": {
      "needs_background": "light"
     },
     "output_type": "display_data"
    }
   ],
   "source": [
    "# Moving Averages Code\n",
    "\n",
    "# Load the necessary packages and modules\n",
    "from pandas_datareader import data as pdr\n",
    "import matplotlib.pyplot as plt\n",
    "import yfinance\n",
    "import pandas as pd\n",
    "\n",
    "\n",
    "# Simple Moving Average \n",
    "def SMA(data, ndays): \n",
    "    SMA = pd.Series(data['close'].rolling(ndays).mean(), name = 'SMA') \n",
    "    data = data.join(SMA) \n",
    "    return data\n",
    "\n",
    "# Exponentially-weighted Moving Average \n",
    "def EWMA(data, ndays): \n",
    "    EMA = pd.Series(data['close'].ewm(span = ndays, min_periods = ndays - 1).mean(), \n",
    "                 name = 'EWMA_' + str(ndays)) \n",
    "    data = data.join(EMA) \n",
    "    return data\n",
    "\n",
    "# Retrieve the BTC data from our dataset:\n",
    "data = df\n",
    "close = data['close']\n",
    "\n",
    "# Compute the 50-day \n",
    "n = 50\n",
    "SMA_BTC = SMA(data,n)\n",
    "SMA_BTC = SMA_BTC.dropna()\n",
    "SMA = SMA_BTC['SMA']\n",
    "\n",
    "# Compute the 200-day EWMA \n",
    "ew = 200\n",
    "EWMA_BTC = EWMA(data,ew)\n",
    "EWMA_BTC = EWMA_BTC.dropna()\n",
    "EWMA = EWMA_BTC['EWMA_200']\n",
    "\n",
    "# Plotting the BTC Price Series chart and Moving Averages below\n",
    "plt.figure(figsize=(9,5))\n",
    "plt.plot(data['close'],lw=1, label='BTC Prices')\n",
    "plt.plot(SMA,'g',lw=1, label='50-day SMA (green)')\n",
    "plt.plot(EWMA,'r', lw=1, label='200-day EWMA (red)')\n",
    "plt.legend(loc=2,prop={'size':11})\n",
    "plt.grid(True)\n",
    "plt.setp(plt.gca().get_xticklabels(), rotation=30)"
   ]
  },
  {
   "cell_type": "code",
   "execution_count": 11,
   "id": "16692793",
   "metadata": {
    "scrolled": true
   },
   "outputs": [
    {
     "data": {
      "text/html": [
       "<div>\n",
       "<style scoped>\n",
       "    .dataframe tbody tr th:only-of-type {\n",
       "        vertical-align: middle;\n",
       "    }\n",
       "\n",
       "    .dataframe tbody tr th {\n",
       "        vertical-align: top;\n",
       "    }\n",
       "\n",
       "    .dataframe thead th {\n",
       "        text-align: right;\n",
       "    }\n",
       "</style>\n",
       "<table border=\"1\" class=\"dataframe\">\n",
       "  <thead>\n",
       "    <tr style=\"text-align: right;\">\n",
       "      <th></th>\n",
       "      <th>open</th>\n",
       "      <th>high</th>\n",
       "      <th>low</th>\n",
       "      <th>close</th>\n",
       "      <th>adjClose</th>\n",
       "      <th>volume</th>\n",
       "      <th>unadjustedVolume</th>\n",
       "      <th>change</th>\n",
       "      <th>changePercent</th>\n",
       "      <th>vwap</th>\n",
       "      <th>changeOverTime</th>\n",
       "    </tr>\n",
       "    <tr>\n",
       "      <th>date</th>\n",
       "      <th></th>\n",
       "      <th></th>\n",
       "      <th></th>\n",
       "      <th></th>\n",
       "      <th></th>\n",
       "      <th></th>\n",
       "      <th></th>\n",
       "      <th></th>\n",
       "      <th></th>\n",
       "      <th></th>\n",
       "      <th></th>\n",
       "    </tr>\n",
       "  </thead>\n",
       "  <tbody>\n",
       "    <tr>\n",
       "      <th>2022-01-12</th>\n",
       "      <td>42776.830200</td>\n",
       "      <td>42942.709400</td>\n",
       "      <td>42588.767200</td>\n",
       "      <td>42839.807600</td>\n",
       "      <td>42839.807600</td>\n",
       "      <td>2.654798e+10</td>\n",
       "      <td>2.654798e+10</td>\n",
       "      <td>62.97740</td>\n",
       "      <td>0.147</td>\n",
       "      <td>42790.42807</td>\n",
       "      <td>0.00147</td>\n",
       "    </tr>\n",
       "    <tr>\n",
       "      <th>2022-01-11</th>\n",
       "      <td>41861.042700</td>\n",
       "      <td>42148.080100</td>\n",
       "      <td>41703.983200</td>\n",
       "      <td>42148.080100</td>\n",
       "      <td>42148.080100</td>\n",
       "      <td>3.467735e+10</td>\n",
       "      <td>3.467735e+10</td>\n",
       "      <td>287.03740</td>\n",
       "      <td>0.686</td>\n",
       "      <td>42000.04780</td>\n",
       "      <td>0.00686</td>\n",
       "    </tr>\n",
       "    <tr>\n",
       "      <th>2022-01-10</th>\n",
       "      <td>41932.756900</td>\n",
       "      <td>42253.057500</td>\n",
       "      <td>41772.873600</td>\n",
       "      <td>41919.103900</td>\n",
       "      <td>41919.103900</td>\n",
       "      <td>2.200912e+10</td>\n",
       "      <td>2.200912e+10</td>\n",
       "      <td>-13.65300</td>\n",
       "      <td>-0.033</td>\n",
       "      <td>41981.67833</td>\n",
       "      <td>-0.00033</td>\n",
       "    </tr>\n",
       "    <tr>\n",
       "      <th>2022-01-09</th>\n",
       "      <td>41808.563900</td>\n",
       "      <td>42710.280700</td>\n",
       "      <td>41473.902200</td>\n",
       "      <td>41963.416500</td>\n",
       "      <td>41963.416500</td>\n",
       "      <td>2.250029e+10</td>\n",
       "      <td>2.250029e+10</td>\n",
       "      <td>154.85260</td>\n",
       "      <td>0.370</td>\n",
       "      <td>42049.19980</td>\n",
       "      <td>0.00370</td>\n",
       "    </tr>\n",
       "    <tr>\n",
       "      <th>2022-01-08</th>\n",
       "      <td>41578.373000</td>\n",
       "      <td>42270.547300</td>\n",
       "      <td>40465.070800</td>\n",
       "      <td>41862.367700</td>\n",
       "      <td>41862.367700</td>\n",
       "      <td>2.811234e+10</td>\n",
       "      <td>2.811234e+10</td>\n",
       "      <td>283.99470</td>\n",
       "      <td>0.683</td>\n",
       "      <td>41532.66193</td>\n",
       "      <td>0.00683</td>\n",
       "    </tr>\n",
       "    <tr>\n",
       "      <th>...</th>\n",
       "      <td>...</td>\n",
       "      <td>...</td>\n",
       "      <td>...</td>\n",
       "      <td>...</td>\n",
       "      <td>...</td>\n",
       "      <td>...</td>\n",
       "      <td>...</td>\n",
       "      <td>...</td>\n",
       "      <td>...</td>\n",
       "      <td>...</td>\n",
       "      <td>...</td>\n",
       "    </tr>\n",
       "    <tr>\n",
       "      <th>2017-01-17</th>\n",
       "      <td>830.945984</td>\n",
       "      <td>910.560974</td>\n",
       "      <td>830.796021</td>\n",
       "      <td>907.937988</td>\n",
       "      <td>907.937988</td>\n",
       "      <td>1.550950e+08</td>\n",
       "      <td>1.550950e+08</td>\n",
       "      <td>76.99200</td>\n",
       "      <td>9.266</td>\n",
       "      <td>883.09833</td>\n",
       "      <td>0.09266</td>\n",
       "    </tr>\n",
       "    <tr>\n",
       "      <th>2017-01-16</th>\n",
       "      <td>821.783020</td>\n",
       "      <td>834.530029</td>\n",
       "      <td>820.270996</td>\n",
       "      <td>831.533997</td>\n",
       "      <td>831.533997</td>\n",
       "      <td>8.275520e+07</td>\n",
       "      <td>8.275520e+07</td>\n",
       "      <td>9.75098</td>\n",
       "      <td>1.187</td>\n",
       "      <td>828.77834</td>\n",
       "      <td>0.01187</td>\n",
       "    </tr>\n",
       "    <tr>\n",
       "      <th>2017-01-15</th>\n",
       "      <td>818.142029</td>\n",
       "      <td>823.307007</td>\n",
       "      <td>812.870972</td>\n",
       "      <td>821.797974</td>\n",
       "      <td>821.797974</td>\n",
       "      <td>7.101360e+07</td>\n",
       "      <td>7.101360e+07</td>\n",
       "      <td>3.65595</td>\n",
       "      <td>0.447</td>\n",
       "      <td>819.32532</td>\n",
       "      <td>0.00447</td>\n",
       "    </tr>\n",
       "    <tr>\n",
       "      <th>2017-01-14</th>\n",
       "      <td>825.142029</td>\n",
       "      <td>835.085022</td>\n",
       "      <td>812.455994</td>\n",
       "      <td>818.411987</td>\n",
       "      <td>818.411987</td>\n",
       "      <td>9.306330e+07</td>\n",
       "      <td>9.306330e+07</td>\n",
       "      <td>-6.73004</td>\n",
       "      <td>-0.816</td>\n",
       "      <td>821.98433</td>\n",
       "      <td>-0.00816</td>\n",
       "    </tr>\n",
       "    <tr>\n",
       "      <th>2017-01-13</th>\n",
       "      <td>803.737000</td>\n",
       "      <td>829.000977</td>\n",
       "      <td>780.002991</td>\n",
       "      <td>823.984009</td>\n",
       "      <td>823.984009</td>\n",
       "      <td>1.689680e+08</td>\n",
       "      <td>1.689680e+08</td>\n",
       "      <td>20.24701</td>\n",
       "      <td>2.519</td>\n",
       "      <td>810.99599</td>\n",
       "      <td>0.02519</td>\n",
       "    </tr>\n",
       "  </tbody>\n",
       "</table>\n",
       "<p>1826 rows × 11 columns</p>\n",
       "</div>"
      ],
      "text/plain": [
       "                    open          high           low         close  \\\n",
       "date                                                                 \n",
       "2022-01-12  42776.830200  42942.709400  42588.767200  42839.807600   \n",
       "2022-01-11  41861.042700  42148.080100  41703.983200  42148.080100   \n",
       "2022-01-10  41932.756900  42253.057500  41772.873600  41919.103900   \n",
       "2022-01-09  41808.563900  42710.280700  41473.902200  41963.416500   \n",
       "2022-01-08  41578.373000  42270.547300  40465.070800  41862.367700   \n",
       "...                  ...           ...           ...           ...   \n",
       "2017-01-17    830.945984    910.560974    830.796021    907.937988   \n",
       "2017-01-16    821.783020    834.530029    820.270996    831.533997   \n",
       "2017-01-15    818.142029    823.307007    812.870972    821.797974   \n",
       "2017-01-14    825.142029    835.085022    812.455994    818.411987   \n",
       "2017-01-13    803.737000    829.000977    780.002991    823.984009   \n",
       "\n",
       "                adjClose        volume  unadjustedVolume     change  \\\n",
       "date                                                                  \n",
       "2022-01-12  42839.807600  2.654798e+10      2.654798e+10   62.97740   \n",
       "2022-01-11  42148.080100  3.467735e+10      3.467735e+10  287.03740   \n",
       "2022-01-10  41919.103900  2.200912e+10      2.200912e+10  -13.65300   \n",
       "2022-01-09  41963.416500  2.250029e+10      2.250029e+10  154.85260   \n",
       "2022-01-08  41862.367700  2.811234e+10      2.811234e+10  283.99470   \n",
       "...                  ...           ...               ...        ...   \n",
       "2017-01-17    907.937988  1.550950e+08      1.550950e+08   76.99200   \n",
       "2017-01-16    831.533997  8.275520e+07      8.275520e+07    9.75098   \n",
       "2017-01-15    821.797974  7.101360e+07      7.101360e+07    3.65595   \n",
       "2017-01-14    818.411987  9.306330e+07      9.306330e+07   -6.73004   \n",
       "2017-01-13    823.984009  1.689680e+08      1.689680e+08   20.24701   \n",
       "\n",
       "            changePercent         vwap  changeOverTime  \n",
       "date                                                    \n",
       "2022-01-12          0.147  42790.42807         0.00147  \n",
       "2022-01-11          0.686  42000.04780         0.00686  \n",
       "2022-01-10         -0.033  41981.67833        -0.00033  \n",
       "2022-01-09          0.370  42049.19980         0.00370  \n",
       "2022-01-08          0.683  41532.66193         0.00683  \n",
       "...                   ...          ...             ...  \n",
       "2017-01-17          9.266    883.09833         0.09266  \n",
       "2017-01-16          1.187    828.77834         0.01187  \n",
       "2017-01-15          0.447    819.32532         0.00447  \n",
       "2017-01-14         -0.816    821.98433        -0.00816  \n",
       "2017-01-13          2.519    810.99599         0.02519  \n",
       "\n",
       "[1826 rows x 11 columns]"
      ]
     },
     "execution_count": 11,
     "metadata": {},
     "output_type": "execute_result"
    }
   ],
   "source": [
    "df.drop(columns = ['label'])"
   ]
  },
  {
   "cell_type": "markdown",
   "id": "688aedaf",
   "metadata": {},
   "source": [
    "### Bollinger bands"
   ]
  },
  {
   "cell_type": "code",
   "execution_count": 12,
   "id": "b4496116",
   "metadata": {},
   "outputs": [
    {
     "data": {
      "text/plain": [
       "<AxesSubplot:xlabel='date'>"
      ]
     },
     "execution_count": 12,
     "metadata": {},
     "output_type": "execute_result"
    },
    {
     "data": {
      "image/png": "[encoded data removed]",
      "text/plain": [
       "<Figure size 648x360 with 1 Axes>"
      ]
     },
     "metadata": {
      "needs_background": "light"
     },
     "output_type": "display_data"
    }
   ],
   "source": [
    "# Compute the Bollinger Bands \n",
    "def BBANDS(data, window=n):\n",
    "    MA = data.close.rolling(window=n).mean()\n",
    "    SD = data.close.rolling(window=n).std()\n",
    "    data['UpperBB'] = MA + (2 * SD) \n",
    "    data['LowerBB'] = MA - (2 * SD)\n",
    "    return data\n",
    " \n",
    "# Compute the Bollinger Bands for BTC using the 50-day Moving average\n",
    "n = 50\n",
    "BTC_BBANDS = BBANDS(data, n)\n",
    "#print(BTC_BBANDS)\n",
    "\n",
    "# Create the plot\n",
    "pd.concat([BTC_BBANDS.close,BTC_BBANDS.UpperBB,BTC_BBANDS.LowerBB],axis=1).plot(figsize=(9,5),grid=True)"
   ]
  },
  {
   "cell_type": "markdown",
   "id": "437d0ab0",
   "metadata": {},
   "source": [
    "### RSI"
   ]
  },
  {
   "cell_type": "code",
   "execution_count": 13,
   "id": "9d8b14ef",
   "metadata": {},
   "outputs": [],
   "source": [
    "def rsi(df, periods = 14, ema = True):\n",
    "    \"\"\"\n",
    "    Returns a pd.Series with the relative strength index.\n",
    "    \"\"\"\n",
    "    close_delta = df['close'].diff()\n",
    "\n",
    "    # Make two series: one for lower closes and one for higher closes\n",
    "    up = close_delta.clip(lower=0)\n",
    "    down = -1 * close_delta.clip(upper=0)\n",
    "    \n",
    "    if ema == True:\n",
    "    # Use exponential moving average\n",
    "        ma_up = up.ewm(com = periods - 1, adjust=True, min_periods = periods).mean()\n",
    "        ma_down = down.ewm(com = periods - 1, adjust=True, min_periods = periods).mean()\n",
    "    else:\n",
    "        # Use simple moving average\n",
    "        ma_up = up.rolling(window = periods, adjust=False).mean()\n",
    "        ma_down = down.rolling(window = periods, adjust=False).mean()\n",
    "        \n",
    "    rsi = ma_up / ma_down\n",
    "    rsi = 100 - (100/(1 + rsi))\n",
    "    return rsi"
   ]
  },
  {
   "cell_type": "code",
   "execution_count": 14,
   "id": "1b58dd3d",
   "metadata": {},
   "outputs": [],
   "source": [
    "rsi = rsi(df)"
   ]
  },
  {
   "cell_type": "code",
   "execution_count": 15,
   "id": "c32c55eb",
   "metadata": {},
   "outputs": [
    {
     "data": {
      "text/plain": [
       "[None,\n",
       " None,\n",
       " None,\n",
       " None,\n",
       " None,\n",
       " None,\n",
       " None,\n",
       " None,\n",
       " None,\n",
       " None,\n",
       " None,\n",
       " None,\n",
       " None,\n",
       " None]"
      ]
     },
     "execution_count": 15,
     "metadata": {},
     "output_type": "execute_result"
    },
    {
     "data": {
      "image/png": "[encoded data removed]",
      "text/plain": [
       "<Figure size 648x360 with 1 Axes>"
      ]
     },
     "metadata": {
      "needs_background": "light"
     },
     "output_type": "display_data"
    }
   ],
   "source": [
    "plt.figure(figsize=(9,5))\n",
    "plt.plot(data['close'],lw=1, label='BTC Prices')\n",
    "plt.legend(loc=2,prop={'size':11})\n",
    "plt.grid(True)\n",
    "plt.setp(plt.gca().get_xticklabels(), rotation=30)"
   ]
  },
  {
   "cell_type": "code",
   "execution_count": 16,
   "id": "815e71e1",
   "metadata": {
    "scrolled": false
   },
   "outputs": [
    {
     "data": {
      "text/plain": [
       "[<matplotlib.lines.Line2D at 0x7ff77a476310>]"
      ]
     },
     "execution_count": 16,
     "metadata": {},
     "output_type": "execute_result"
    },
    {
     "data": {
      "image/png": "[encoded data removed]",
      "text/plain": [
       "<Figure size 432x288 with 1 Axes>"
      ]
     },
     "metadata": {
      "needs_background": "light"
     },
     "output_type": "display_data"
    }
   ],
   "source": [
    "plt.plot(rsi,'g',lw=1, label='50-day SMA (green)')"
   ]
  },
  {
   "cell_type": "code",
   "execution_count": 17,
   "id": "51ce3c13",
   "metadata": {
    "scrolled": true
   },
   "outputs": [],
   "source": [
    "df['rsi'] = rsi.tolist()"
   ]
  },
  {
   "cell_type": "code",
   "execution_count": 18,
   "id": "f3023261",
   "metadata": {},
   "outputs": [
    {
     "data": {
      "text/html": [
       "<div>\n",
       "<style scoped>\n",
       "    .dataframe tbody tr th:only-of-type {\n",
       "        vertical-align: middle;\n",
       "    }\n",
       "\n",
       "    .dataframe tbody tr th {\n",
       "        vertical-align: top;\n",
       "    }\n",
       "\n",
       "    .dataframe thead th {\n",
       "        text-align: right;\n",
       "    }\n",
       "</style>\n",
       "<table border=\"1\" class=\"dataframe\">\n",
       "  <thead>\n",
       "    <tr style=\"text-align: right;\">\n",
       "      <th></th>\n",
       "      <th>open</th>\n",
       "      <th>high</th>\n",
       "      <th>low</th>\n",
       "      <th>close</th>\n",
       "      <th>adjClose</th>\n",
       "      <th>volume</th>\n",
       "      <th>unadjustedVolume</th>\n",
       "      <th>change</th>\n",
       "      <th>changePercent</th>\n",
       "      <th>vwap</th>\n",
       "      <th>label</th>\n",
       "      <th>changeOverTime</th>\n",
       "      <th>UpperBB</th>\n",
       "      <th>LowerBB</th>\n",
       "      <th>rsi</th>\n",
       "    </tr>\n",
       "    <tr>\n",
       "      <th>date</th>\n",
       "      <th></th>\n",
       "      <th></th>\n",
       "      <th></th>\n",
       "      <th></th>\n",
       "      <th></th>\n",
       "      <th></th>\n",
       "      <th></th>\n",
       "      <th></th>\n",
       "      <th></th>\n",
       "      <th></th>\n",
       "      <th></th>\n",
       "      <th></th>\n",
       "      <th></th>\n",
       "      <th></th>\n",
       "      <th></th>\n",
       "    </tr>\n",
       "  </thead>\n",
       "  <tbody>\n",
       "    <tr>\n",
       "      <th>2022-01-12</th>\n",
       "      <td>42776.830200</td>\n",
       "      <td>42942.709400</td>\n",
       "      <td>42588.767200</td>\n",
       "      <td>42839.807600</td>\n",
       "      <td>42839.807600</td>\n",
       "      <td>2.654798e+10</td>\n",
       "      <td>2.654798e+10</td>\n",
       "      <td>62.97740</td>\n",
       "      <td>0.147</td>\n",
       "      <td>42790.42807</td>\n",
       "      <td>January 12, 22</td>\n",
       "      <td>0.00147</td>\n",
       "      <td>NaN</td>\n",
       "      <td>NaN</td>\n",
       "      <td>NaN</td>\n",
       "    </tr>\n",
       "    <tr>\n",
       "      <th>2022-01-11</th>\n",
       "      <td>41861.042700</td>\n",
       "      <td>42148.080100</td>\n",
       "      <td>41703.983200</td>\n",
       "      <td>42148.080100</td>\n",
       "      <td>42148.080100</td>\n",
       "      <td>3.467735e+10</td>\n",
       "      <td>3.467735e+10</td>\n",
       "      <td>287.03740</td>\n",
       "      <td>0.686</td>\n",
       "      <td>42000.04780</td>\n",
       "      <td>January 11, 22</td>\n",
       "      <td>0.00686</td>\n",
       "      <td>NaN</td>\n",
       "      <td>NaN</td>\n",
       "      <td>NaN</td>\n",
       "    </tr>\n",
       "    <tr>\n",
       "      <th>2022-01-10</th>\n",
       "      <td>41932.756900</td>\n",
       "      <td>42253.057500</td>\n",
       "      <td>41772.873600</td>\n",
       "      <td>41919.103900</td>\n",
       "      <td>41919.103900</td>\n",
       "      <td>2.200912e+10</td>\n",
       "      <td>2.200912e+10</td>\n",
       "      <td>-13.65300</td>\n",
       "      <td>-0.033</td>\n",
       "      <td>41981.67833</td>\n",
       "      <td>January 10, 22</td>\n",
       "      <td>-0.00033</td>\n",
       "      <td>NaN</td>\n",
       "      <td>NaN</td>\n",
       "      <td>NaN</td>\n",
       "    </tr>\n",
       "    <tr>\n",
       "      <th>2022-01-09</th>\n",
       "      <td>41808.563900</td>\n",
       "      <td>42710.280700</td>\n",
       "      <td>41473.902200</td>\n",
       "      <td>41963.416500</td>\n",
       "      <td>41963.416500</td>\n",
       "      <td>2.250029e+10</td>\n",
       "      <td>2.250029e+10</td>\n",
       "      <td>154.85260</td>\n",
       "      <td>0.370</td>\n",
       "      <td>42049.19980</td>\n",
       "      <td>January 09, 22</td>\n",
       "      <td>0.00370</td>\n",
       "      <td>NaN</td>\n",
       "      <td>NaN</td>\n",
       "      <td>NaN</td>\n",
       "    </tr>\n",
       "    <tr>\n",
       "      <th>2022-01-08</th>\n",
       "      <td>41578.373000</td>\n",
       "      <td>42270.547300</td>\n",
       "      <td>40465.070800</td>\n",
       "      <td>41862.367700</td>\n",
       "      <td>41862.367700</td>\n",
       "      <td>2.811234e+10</td>\n",
       "      <td>2.811234e+10</td>\n",
       "      <td>283.99470</td>\n",
       "      <td>0.683</td>\n",
       "      <td>41532.66193</td>\n",
       "      <td>January 08, 22</td>\n",
       "      <td>0.00683</td>\n",
       "      <td>NaN</td>\n",
       "      <td>NaN</td>\n",
       "      <td>NaN</td>\n",
       "    </tr>\n",
       "    <tr>\n",
       "      <th>...</th>\n",
       "      <td>...</td>\n",
       "      <td>...</td>\n",
       "      <td>...</td>\n",
       "      <td>...</td>\n",
       "      <td>...</td>\n",
       "      <td>...</td>\n",
       "      <td>...</td>\n",
       "      <td>...</td>\n",
       "      <td>...</td>\n",
       "      <td>...</td>\n",
       "      <td>...</td>\n",
       "      <td>...</td>\n",
       "      <td>...</td>\n",
       "      <td>...</td>\n",
       "      <td>...</td>\n",
       "    </tr>\n",
       "    <tr>\n",
       "      <th>2017-01-17</th>\n",
       "      <td>830.945984</td>\n",
       "      <td>910.560974</td>\n",
       "      <td>830.796021</td>\n",
       "      <td>907.937988</td>\n",
       "      <td>907.937988</td>\n",
       "      <td>1.550950e+08</td>\n",
       "      <td>1.550950e+08</td>\n",
       "      <td>76.99200</td>\n",
       "      <td>9.266</td>\n",
       "      <td>883.09833</td>\n",
       "      <td>January 17, 17</td>\n",
       "      <td>0.09266</td>\n",
       "      <td>1281.970226</td>\n",
       "      <td>807.535687</td>\n",
       "      <td>37.329518</td>\n",
       "    </tr>\n",
       "    <tr>\n",
       "      <th>2017-01-16</th>\n",
       "      <td>821.783020</td>\n",
       "      <td>834.530029</td>\n",
       "      <td>820.270996</td>\n",
       "      <td>831.533997</td>\n",
       "      <td>831.533997</td>\n",
       "      <td>8.275520e+07</td>\n",
       "      <td>8.275520e+07</td>\n",
       "      <td>9.75098</td>\n",
       "      <td>1.187</td>\n",
       "      <td>828.77834</td>\n",
       "      <td>January 16, 17</td>\n",
       "      <td>0.01187</td>\n",
       "      <td>1275.916982</td>\n",
       "      <td>797.908689</td>\n",
       "      <td>27.055836</td>\n",
       "    </tr>\n",
       "    <tr>\n",
       "      <th>2017-01-15</th>\n",
       "      <td>818.142029</td>\n",
       "      <td>823.307007</td>\n",
       "      <td>812.870972</td>\n",
       "      <td>821.797974</td>\n",
       "      <td>821.797974</td>\n",
       "      <td>7.101360e+07</td>\n",
       "      <td>7.101360e+07</td>\n",
       "      <td>3.65595</td>\n",
       "      <td>0.447</td>\n",
       "      <td>819.32532</td>\n",
       "      <td>January 15, 17</td>\n",
       "      <td>0.00447</td>\n",
       "      <td>1264.588066</td>\n",
       "      <td>791.196327</td>\n",
       "      <td>26.071180</td>\n",
       "    </tr>\n",
       "    <tr>\n",
       "      <th>2017-01-14</th>\n",
       "      <td>825.142029</td>\n",
       "      <td>835.085022</td>\n",
       "      <td>812.455994</td>\n",
       "      <td>818.411987</td>\n",
       "      <td>818.411987</td>\n",
       "      <td>9.306330e+07</td>\n",
       "      <td>9.306330e+07</td>\n",
       "      <td>-6.73004</td>\n",
       "      <td>-0.816</td>\n",
       "      <td>821.98433</td>\n",
       "      <td>January 14, 17</td>\n",
       "      <td>-0.00816</td>\n",
       "      <td>1252.598559</td>\n",
       "      <td>785.237513</td>\n",
       "      <td>25.720595</td>\n",
       "    </tr>\n",
       "    <tr>\n",
       "      <th>2017-01-13</th>\n",
       "      <td>803.737000</td>\n",
       "      <td>829.000977</td>\n",
       "      <td>780.002991</td>\n",
       "      <td>823.984009</td>\n",
       "      <td>823.984009</td>\n",
       "      <td>1.689680e+08</td>\n",
       "      <td>1.689680e+08</td>\n",
       "      <td>20.24701</td>\n",
       "      <td>2.519</td>\n",
       "      <td>810.99599</td>\n",
       "      <td>January 13, 17</td>\n",
       "      <td>0.02519</td>\n",
       "      <td>1240.184899</td>\n",
       "      <td>780.404532</td>\n",
       "      <td>27.449554</td>\n",
       "    </tr>\n",
       "  </tbody>\n",
       "</table>\n",
       "<p>1826 rows × 15 columns</p>\n",
       "</div>"
      ],
      "text/plain": [
       "                    open          high           low         close  \\\n",
       "date                                                                 \n",
       "2022-01-12  42776.830200  42942.709400  42588.767200  42839.807600   \n",
       "2022-01-11  41861.042700  42148.080100  41703.983200  42148.080100   \n",
       "2022-01-10  41932.756900  42253.057500  41772.873600  41919.103900   \n",
       "2022-01-09  41808.563900  42710.280700  41473.902200  41963.416500   \n",
       "2022-01-08  41578.373000  42270.547300  40465.070800  41862.367700   \n",
       "...                  ...           ...           ...           ...   \n",
       "2017-01-17    830.945984    910.560974    830.796021    907.937988   \n",
       "2017-01-16    821.783020    834.530029    820.270996    831.533997   \n",
       "2017-01-15    818.142029    823.307007    812.870972    821.797974   \n",
       "2017-01-14    825.142029    835.085022    812.455994    818.411987   \n",
       "2017-01-13    803.737000    829.000977    780.002991    823.984009   \n",
       "\n",
       "                adjClose        volume  unadjustedVolume     change  \\\n",
       "date                                                                  \n",
       "2022-01-12  42839.807600  2.654798e+10      2.654798e+10   62.97740   \n",
       "2022-01-11  42148.080100  3.467735e+10      3.467735e+10  287.03740   \n",
       "2022-01-10  41919.103900  2.200912e+10      2.200912e+10  -13.65300   \n",
       "2022-01-09  41963.416500  2.250029e+10      2.250029e+10  154.85260   \n",
       "2022-01-08  41862.367700  2.811234e+10      2.811234e+10  283.99470   \n",
       "...                  ...           ...               ...        ...   \n",
       "2017-01-17    907.937988  1.550950e+08      1.550950e+08   76.99200   \n",
       "2017-01-16    831.533997  8.275520e+07      8.275520e+07    9.75098   \n",
       "2017-01-15    821.797974  7.101360e+07      7.101360e+07    3.65595   \n",
       "2017-01-14    818.411987  9.306330e+07      9.306330e+07   -6.73004   \n",
       "2017-01-13    823.984009  1.689680e+08      1.689680e+08   20.24701   \n",
       "\n",
       "            changePercent         vwap           label  changeOverTime  \\\n",
       "date                                                                     \n",
       "2022-01-12          0.147  42790.42807  January 12, 22         0.00147   \n",
       "2022-01-11          0.686  42000.04780  January 11, 22         0.00686   \n",
       "2022-01-10         -0.033  41981.67833  January 10, 22        -0.00033   \n",
       "2022-01-09          0.370  42049.19980  January 09, 22         0.00370   \n",
       "2022-01-08          0.683  41532.66193  January 08, 22         0.00683   \n",
       "...                   ...          ...             ...             ...   \n",
       "2017-01-17          9.266    883.09833  January 17, 17         0.09266   \n",
       "2017-01-16          1.187    828.77834  January 16, 17         0.01187   \n",
       "2017-01-15          0.447    819.32532  January 15, 17         0.00447   \n",
       "2017-01-14         -0.816    821.98433  January 14, 17        -0.00816   \n",
       "2017-01-13          2.519    810.99599  January 13, 17         0.02519   \n",
       "\n",
       "                UpperBB     LowerBB        rsi  \n",
       "date                                            \n",
       "2022-01-12          NaN         NaN        NaN  \n",
       "2022-01-11          NaN         NaN        NaN  \n",
       "2022-01-10          NaN         NaN        NaN  \n",
       "2022-01-09          NaN         NaN        NaN  \n",
       "2022-01-08          NaN         NaN        NaN  \n",
       "...                 ...         ...        ...  \n",
       "2017-01-17  1281.970226  807.535687  37.329518  \n",
       "2017-01-16  1275.916982  797.908689  27.055836  \n",
       "2017-01-15  1264.588066  791.196327  26.071180  \n",
       "2017-01-14  1252.598559  785.237513  25.720595  \n",
       "2017-01-13  1240.184899  780.404532  27.449554  \n",
       "\n",
       "[1826 rows x 15 columns]"
      ]
     },
     "execution_count": 18,
     "metadata": {},
     "output_type": "execute_result"
    }
   ],
   "source": [
    "df"
   ]
  },
  {
   "cell_type": "markdown",
   "id": "c9424be2",
   "metadata": {},
   "source": [
    "### Standard deviation and volatility"
   ]
  },
  {
   "cell_type": "code",
   "execution_count": 19,
   "id": "059e164e",
   "metadata": {},
   "outputs": [],
   "source": [
    "import statistics as st\n",
    "import numpy as np"
   ]
  },
  {
   "cell_type": "code",
   "execution_count": 20,
   "id": "dd4255a1",
   "metadata": {},
   "outputs": [],
   "source": [
    "# Calculate daily log return \n",
    "df['returns'] = (np.log(df.close /\n",
    "    df.close.shift(-1)))"
   ]
  },
  {
   "cell_type": "code",
   "execution_count": 21,
   "id": "cba48a2d",
   "metadata": {},
   "outputs": [],
   "source": [
    "# calculate daily standard deviation of returns\n",
    "daily_std = np.std(df.returns)"
   ]
  },
  {
   "cell_type": "code",
   "execution_count": 22,
   "id": "a3f0bd61",
   "metadata": {},
   "outputs": [],
   "source": [
    "df.sort_index(inplace = True)"
   ]
  },
  {
   "cell_type": "code",
   "execution_count": 23,
   "id": "d444f470",
   "metadata": {
    "scrolled": true
   },
   "outputs": [
    {
     "data": {
      "text/plain": [
       "date\n",
       "2017-01-13            NaN\n",
       "2017-01-14            NaN\n",
       "2017-01-15            NaN\n",
       "2017-01-16            NaN\n",
       "2017-01-17            NaN\n",
       "                 ...     \n",
       "2022-01-08    2612.617804\n",
       "2022-01-09    2644.944028\n",
       "2022-01-10    2532.626061\n",
       "2022-01-11    2373.697445\n",
       "2022-01-12    2290.659982\n",
       "Name: close, Length: 1826, dtype: float64"
      ]
     },
     "execution_count": 23,
     "metadata": {},
     "output_type": "execute_result"
    }
   ],
   "source": [
    "n= 14\n",
    "# volatility is the 14 days standard deviation \n",
    "def volatility(df,n):\n",
    "    volatil = df.close.rolling(n).std(ddof=0)\n",
    "    return volatil \n",
    "df['volatility'] = volatility(df,n)\n",
    "volatility(df,n)"
   ]
  },
  {
   "cell_type": "markdown",
   "id": "7e063d4e",
   "metadata": {},
   "source": [
    "### Moving Average Convergence Divergence (MACD)"
   ]
  },
  {
   "cell_type": "code",
   "execution_count": 24,
   "id": "88007be2",
   "metadata": {},
   "outputs": [
    {
     "ename": "NameError",
     "evalue": "name 'exp3' is not defined",
     "output_type": "error",
     "traceback": [
      "\u001b[0;31m---------------------------------------------------------------------------\u001b[0m",
      "\u001b[0;31mNameError\u001b[0m                                 Traceback (most recent call last)",
      "\u001b[0;32m/tmp/ipykernel_4011/3698463793.py\u001b[0m in \u001b[0;36m<module>\u001b[0;34m\u001b[0m\n\u001b[1;32m      7\u001b[0m \u001b[0mplt\u001b[0m\u001b[0;34m.\u001b[0m\u001b[0mplot\u001b[0m\u001b[0;34m(\u001b[0m\u001b[0mdf\u001b[0m\u001b[0;34m.\u001b[0m\u001b[0mclose\u001b[0m\u001b[0;34m,\u001b[0m \u001b[0mlabel\u001b[0m\u001b[0;34m=\u001b[0m\u001b[0;34m'BTC'\u001b[0m\u001b[0;34m)\u001b[0m\u001b[0;34m\u001b[0m\u001b[0;34m\u001b[0m\u001b[0m\n\u001b[1;32m      8\u001b[0m \u001b[0mplt\u001b[0m\u001b[0;34m.\u001b[0m\u001b[0mplot\u001b[0m\u001b[0;34m(\u001b[0m\u001b[0mmacd\u001b[0m\u001b[0;34m(\u001b[0m\u001b[0mdf\u001b[0m\u001b[0;34m)\u001b[0m\u001b[0;34m,\u001b[0m \u001b[0mlabel\u001b[0m\u001b[0;34m=\u001b[0m\u001b[0;34m'BTC MACD'\u001b[0m\u001b[0;34m,\u001b[0m \u001b[0mcolor\u001b[0m\u001b[0;34m=\u001b[0m\u001b[0;34m'orange'\u001b[0m\u001b[0;34m)\u001b[0m\u001b[0;34m\u001b[0m\u001b[0;34m\u001b[0m\u001b[0m\n\u001b[0;32m----> 9\u001b[0;31m \u001b[0mplt\u001b[0m\u001b[0;34m.\u001b[0m\u001b[0mplot\u001b[0m\u001b[0;34m(\u001b[0m\u001b[0mexp3\u001b[0m\u001b[0;34m,\u001b[0m \u001b[0mlabel\u001b[0m\u001b[0;34m=\u001b[0m\u001b[0;34m'Signal Line'\u001b[0m\u001b[0;34m,\u001b[0m \u001b[0mcolor\u001b[0m\u001b[0;34m=\u001b[0m\u001b[0;34m'Magenta'\u001b[0m\u001b[0;34m)\u001b[0m\u001b[0;34m\u001b[0m\u001b[0;34m\u001b[0m\u001b[0m\n\u001b[0m\u001b[1;32m     10\u001b[0m \u001b[0mplt\u001b[0m\u001b[0;34m.\u001b[0m\u001b[0mlegend\u001b[0m\u001b[0;34m(\u001b[0m\u001b[0mloc\u001b[0m\u001b[0;34m=\u001b[0m\u001b[0;34m'upper left'\u001b[0m\u001b[0;34m)\u001b[0m\u001b[0;34m\u001b[0m\u001b[0;34m\u001b[0m\u001b[0m\n\u001b[1;32m     11\u001b[0m \u001b[0mplt\u001b[0m\u001b[0;34m.\u001b[0m\u001b[0mshow\u001b[0m\u001b[0;34m(\u001b[0m\u001b[0;34m)\u001b[0m\u001b[0;34m\u001b[0m\u001b[0;34m\u001b[0m\u001b[0m\n",
      "\u001b[0;31mNameError\u001b[0m: name 'exp3' is not defined"
     ]
    },
    {
     "data": {
      "image/png": "[encoded data removed]",
      "text/plain": [
       "<Figure size 432x288 with 1 Axes>"
      ]
     },
     "metadata": {
      "needs_background": "light"
     },
     "output_type": "display_data"
    }
   ],
   "source": [
    "def macd(df):\n",
    "    exp1 = df.close.ewm(span=12, adjust=False).mean()\n",
    "    exp2 = df.close.ewm(span=26, adjust=False).mean()\n",
    "    exp3 = df.close.ewm(span=9, adjust=False).mean()\n",
    "    macd = exp1-exp2\n",
    "    return macd\n",
    "plt.plot(df.close, label='BTC')\n",
    "plt.plot(macd(df), label='BTC MACD', color='orange')\n",
    "plt.plot(exp3, label='Signal Line', color='Magenta')\n",
    "plt.legend(loc='upper left')\n",
    "plt.show()\n"
   ]
  },
  {
   "cell_type": "code",
   "execution_count": null,
   "id": "962557ff",
   "metadata": {},
   "outputs": [],
   "source": [
    "df['macd'] = macd(df)"
   ]
  },
  {
   "cell_type": "code",
   "execution_count": null,
   "id": "af1c07e6",
   "metadata": {},
   "outputs": [],
   "source": [
    "df['macd'][0:26] = 'NaN'"
   ]
  },
  {
   "cell_type": "code",
   "execution_count": null,
   "id": "e6c4337d",
   "metadata": {},
   "outputs": [],
   "source": [
    "df"
   ]
  },
  {
   "cell_type": "code",
   "execution_count": null,
   "id": "12743194",
   "metadata": {},
   "outputs": [],
   "source": [
    "# Saving the dataframe to a csv file \n",
    "df.to_csv()"
   ]
  },
  {
   "cell_type": "code",
   "execution_count": null,
   "id": "eeea34c3",
   "metadata": {},
   "outputs": [],
   "source": []
  }
 ],
 "metadata": {
  "kernelspec": {
   "display_name": "Python 3 (ipykernel)",
   "language": "python",
   "name": "python3"
  },
  "language_info": {
   "codemirror_mode": {
    "name": "ipython",
    "version": 3
   },
   "file_extension": ".py",
   "mimetype": "text/x-python",
   "name": "python",
   "nbconvert_exporter": "python",
   "pygments_lexer": "ipython3",
   "version": "3.8.6"
  },
  "toc": {
   "base_numbering": 1,
   "nav_menu": {},
   "number_sections": true,
   "sideBar": true,
   "skip_h1_title": false,
   "title_cell": "Table of Contents",
   "title_sidebar": "Contents",
   "toc_cell": false,
   "toc_position": {},
   "toc_section_display": true,
   "toc_window_display": false
  }
 },
 "nbformat": 4,
 "nbformat_minor": 5
}
