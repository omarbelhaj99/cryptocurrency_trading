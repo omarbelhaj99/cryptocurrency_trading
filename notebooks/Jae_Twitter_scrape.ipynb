{
 "cells": [
  {
   "cell_type": "code",
   "execution_count": 1,
   "id": "36e967c7",
   "metadata": {},
   "outputs": [
    {
     "data": {
      "text/html": [
       "<style>.container { width:70% !important; }</style>"
      ],
      "text/plain": [
       "<IPython.core.display.HTML object>"
      ]
     },
     "metadata": {},
     "output_type": "display_data"
    }
   ],
   "source": [
    "from IPython.core.display import display, HTML\n",
    "display(HTML('<style>.container { width:70% !important; }</style>'))"
   ]
  },
  {
   "cell_type": "code",
   "execution_count": 2,
   "id": "c6701cba",
   "metadata": {},
   "outputs": [],
   "source": [
    "import os\n",
    "import requests\n",
    "import pandas as pd\n",
    "from datetime import datetime\n",
    "from tqdm.notebook import tqdm\n",
    "import time"
   ]
  },
  {
   "cell_type": "code",
   "execution_count": 3,
   "id": "9eee76e6",
   "metadata": {},
   "outputs": [],
   "source": [
    "start = datetime(2018, 1, 1)\n",
    "end = datetime(2021, 9, 1)\n",
    "dt_range = pd.date_range(start = start, end = end)\n",
    "dt_range = pd.DataFrame(dt_range, columns=['date'])"
   ]
  },
  {
   "cell_type": "code",
   "execution_count": 4,
   "id": "32be8d6c",
   "metadata": {},
   "outputs": [
    {
     "data": {
      "text/html": [
       "<div>\n",
       "<style scoped>\n",
       "    .dataframe tbody tr th:only-of-type {\n",
       "        vertical-align: middle;\n",
       "    }\n",
       "\n",
       "    .dataframe tbody tr th {\n",
       "        vertical-align: top;\n",
       "    }\n",
       "\n",
       "    .dataframe thead th {\n",
       "        text-align: right;\n",
       "    }\n",
       "</style>\n",
       "<table border=\"1\" class=\"dataframe\">\n",
       "  <thead>\n",
       "    <tr style=\"text-align: right;\">\n",
       "      <th></th>\n",
       "      <th>date</th>\n",
       "    </tr>\n",
       "  </thead>\n",
       "  <tbody>\n",
       "    <tr>\n",
       "      <th>0</th>\n",
       "      <td>2018-01-01</td>\n",
       "    </tr>\n",
       "    <tr>\n",
       "      <th>1</th>\n",
       "      <td>2018-01-02</td>\n",
       "    </tr>\n",
       "  </tbody>\n",
       "</table>\n",
       "</div>"
      ],
      "text/plain": [
       "        date\n",
       "0 2018-01-01\n",
       "1 2018-01-02"
      ]
     },
     "execution_count": 4,
     "metadata": {},
     "output_type": "execute_result"
    }
   ],
   "source": [
    "dt_range.head(2)"
   ]
  },
  {
   "cell_type": "code",
   "execution_count": 5,
   "id": "497cfa79",
   "metadata": {},
   "outputs": [
    {
     "data": {
      "text/plain": [
       "'2018-01-01T00:00:00Z'"
      ]
     },
     "execution_count": 5,
     "metadata": {},
     "output_type": "execute_result"
    }
   ],
   "source": [
    "dt_range.loc[0, 'date'].strftime(\"%Y-%m-%dT%H:%M:%SZ\")"
   ]
  },
  {
   "cell_type": "markdown",
   "id": "b031ef5e",
   "metadata": {},
   "source": [
    "# Twitter Scrape\n",
    "Maximum tweet count per query is 500"
   ]
  },
  {
   "cell_type": "code",
   "execution_count": 9,
   "id": "de061f22",
   "metadata": {},
   "outputs": [
    {
     "ename": "KeyError",
     "evalue": "'TWITTER_KEY'",
     "output_type": "error",
     "traceback": [
      "\u001b[0;31m---------------------------------------------------------------------------\u001b[0m",
      "\u001b[0;31mKeyError\u001b[0m                                  Traceback (most recent call last)",
      "\u001b[0;32m/var/folders/fz/d7fk9pr97s50bq63swg0t4l40000gn/T/ipykernel_44794/3847440566.py\u001b[0m in \u001b[0;36m<module>\u001b[0;34m\u001b[0m\n\u001b[1;32m      1\u001b[0m \u001b[0;31m# api token\u001b[0m\u001b[0;34m\u001b[0m\u001b[0;34m\u001b[0m\u001b[0;34m\u001b[0m\u001b[0m\n\u001b[0;32m----> 2\u001b[0;31m \u001b[0mtoken\u001b[0m \u001b[0;34m=\u001b[0m \u001b[0mos\u001b[0m\u001b[0;34m.\u001b[0m\u001b[0menviron\u001b[0m\u001b[0;34m[\u001b[0m\u001b[0;34m'TWITTER_KEY'\u001b[0m\u001b[0;34m]\u001b[0m\u001b[0;34m\u001b[0m\u001b[0;34m\u001b[0m\u001b[0m\n\u001b[0m",
      "\u001b[0;32m~/.pyenv/versions/3.8.6/lib/python3.8/os.py\u001b[0m in \u001b[0;36m__getitem__\u001b[0;34m(self, key)\u001b[0m\n\u001b[1;32m    673\u001b[0m         \u001b[0;32mexcept\u001b[0m \u001b[0mKeyError\u001b[0m\u001b[0;34m:\u001b[0m\u001b[0;34m\u001b[0m\u001b[0;34m\u001b[0m\u001b[0m\n\u001b[1;32m    674\u001b[0m             \u001b[0;31m# raise KeyError with the original key value\u001b[0m\u001b[0;34m\u001b[0m\u001b[0;34m\u001b[0m\u001b[0;34m\u001b[0m\u001b[0m\n\u001b[0;32m--> 675\u001b[0;31m             \u001b[0;32mraise\u001b[0m \u001b[0mKeyError\u001b[0m\u001b[0;34m(\u001b[0m\u001b[0mkey\u001b[0m\u001b[0;34m)\u001b[0m \u001b[0;32mfrom\u001b[0m \u001b[0;32mNone\u001b[0m\u001b[0;34m\u001b[0m\u001b[0;34m\u001b[0m\u001b[0m\n\u001b[0m\u001b[1;32m    676\u001b[0m         \u001b[0;32mreturn\u001b[0m \u001b[0mself\u001b[0m\u001b[0;34m.\u001b[0m\u001b[0mdecodevalue\u001b[0m\u001b[0;34m(\u001b[0m\u001b[0mvalue\u001b[0m\u001b[0;34m)\u001b[0m\u001b[0;34m\u001b[0m\u001b[0;34m\u001b[0m\u001b[0m\n\u001b[1;32m    677\u001b[0m \u001b[0;34m\u001b[0m\u001b[0m\n",
      "\u001b[0;31mKeyError\u001b[0m: 'TWITTER_KEY'"
     ]
    }
   ],
   "source": [
    "# api token\n",
    "\n",
    "token = os.environ['TWITTER_KEY']\n"
   ]
  },
  {
   "cell_type": "code",
   "execution_count": 10,
   "id": "6e5ac907",
   "metadata": {},
   "outputs": [],
   "source": [
    "# define api end point\n",
    "url = 'https://api.twitter.com/2/tweets/search/all'"
   ]
  },
  {
   "cell_type": "code",
   "execution_count": 11,
   "id": "8f75ef61",
   "metadata": {},
   "outputs": [
    {
     "ename": "NameError",
     "evalue": "name 'token' is not defined",
     "output_type": "error",
     "traceback": [
      "\u001b[0;31m---------------------------------------------------------------------------\u001b[0m",
      "\u001b[0;31mNameError\u001b[0m                                 Traceback (most recent call last)",
      "\u001b[0;32m/var/folders/fz/d7fk9pr97s50bq63swg0t4l40000gn/T/ipykernel_44794/3817884428.py\u001b[0m in \u001b[0;36m<module>\u001b[0;34m\u001b[0m\n\u001b[0;32m----> 1\u001b[0;31m \u001b[0mheader\u001b[0m \u001b[0;34m=\u001b[0m \u001b[0;34m{\u001b[0m\u001b[0;34m\"Authorization\"\u001b[0m\u001b[0;34m:\u001b[0m \u001b[0;34mf\"Bearer {token}\"\u001b[0m\u001b[0;34m}\u001b[0m\u001b[0;34m\u001b[0m\u001b[0;34m\u001b[0m\u001b[0m\n\u001b[0m",
      "\u001b[0;31mNameError\u001b[0m: name 'token' is not defined"
     ]
    }
   ],
   "source": [
    "header = {\"Authorization\": f\"Bearer {token}\"}"
   ]
  },
  {
   "cell_type": "code",
   "execution_count": 103,
   "id": "a38cf1a7",
   "metadata": {},
   "outputs": [],
   "source": [
    "params = {\n",
    "    \"query\":'bitcoin',\n",
    "    \"start_time\":\"2021-08-12T00:00:00Z\",\n",
    "    \"end_time\":\"2021-08-12T01:00:00Z\",\n",
    "    \"max_results\":500\n",
    "}"
   ]
  },
  {
   "cell_type": "code",
   "execution_count": null,
   "id": "13d53e92",
   "metadata": {},
   "outputs": [],
   "source": [
    "start = dt_range['date'].iloc[0].strftime(\"%Y-%m-%dT%H:%M:%SZ\")\n",
    "end = dt_range['date'].iloc[-1].strftime(\"%Y-%m-%dT%H:%M:%SZ\")\n",
    "print(start)\n",
    "print(end)"
   ]
  },
  {
   "cell_type": "code",
   "execution_count": 119,
   "id": "8c96a4d6",
   "metadata": {
    "collapsed": true
   },
   "outputs": [
    {
     "data": {
      "application/vnd.jupyter.widget-view+json": {
       "model_id": "2af829d8749647f7b606c54560847f51",
       "version_major": 2,
       "version_minor": 0
      },
      "text/plain": [
       "  0%|          | 0/1049 [00:00<?, ?it/s]"
      ]
     },
     "metadata": {},
     "output_type": "display_data"
    },
    {
     "name": "stdout",
     "output_type": "stream",
     "text": [
      "skipping - 2019-08-15T00:00:00Z\n",
      "skipping - 2019-08-16T00:00:00Z\n",
      "skipping - 2019-08-17T00:00:00Z\n",
      "skipping - 2019-08-18T00:00:00Z\n",
      "skipping - 2019-08-19T00:00:00Z\n",
      "skipping - 2019-08-20T00:00:00Z\n",
      "skipping - 2019-08-21T00:00:00Z\n",
      "skipping - 2019-08-22T00:00:00Z\n",
      "skipping - 2019-08-23T00:00:00Z\n",
      "skipping - 2019-08-24T00:00:00Z\n",
      "skipping - 2019-08-25T00:00:00Z\n",
      "skipping - 2019-08-26T00:00:00Z\n",
      "skipping - 2019-08-27T00:00:00Z\n",
      "skipping - 2019-08-28T00:00:00Z\n",
      "skipping - 2019-08-29T00:00:00Z\n",
      "skipping - 2019-08-30T00:00:00Z\n",
      "skipping - 2019-08-31T00:00:00Z\n",
      "skipping - 2019-09-01T00:00:00Z\n",
      "skipping - 2019-09-02T00:00:00Z\n",
      "skipping - 2019-09-03T00:00:00Z\n",
      "skipping - 2019-09-04T00:00:00Z\n",
      "skipping - 2019-09-05T00:00:00Z\n",
      "skipping - 2019-09-06T00:00:00Z\n",
      "skipping - 2019-09-07T00:00:00Z\n",
      "skipping - 2019-09-08T00:00:00Z\n",
      "skipping - 2019-09-09T00:00:00Z\n",
      "skipping - 2019-09-10T00:00:00Z\n",
      "skipping - 2019-09-11T00:00:00Z\n",
      "skipping - 2019-09-12T00:00:00Z\n",
      "skipping - 2019-09-13T00:00:00Z\n",
      "skipping - 2019-09-14T00:00:00Z\n",
      "skipping - 2019-09-15T00:00:00Z\n",
      "skipping - 2019-09-16T00:00:00Z\n",
      "skipping - 2019-09-17T00:00:00Z\n",
      "skipping - 2019-09-18T00:00:00Z\n",
      "skipping - 2019-09-19T00:00:00Z\n",
      "skipping - 2019-09-20T00:00:00Z\n",
      "skipping - 2019-09-21T00:00:00Z\n",
      "skipping - 2019-09-22T00:00:00Z\n",
      "skipping - 2019-09-23T00:00:00Z\n",
      "skipping - 2019-09-24T00:00:00Z\n",
      "skipping - 2019-09-25T00:00:00Z\n",
      "skipping - 2019-09-26T00:00:00Z\n",
      "skipping - 2019-09-27T00:00:00Z\n",
      "skipping - 2019-09-28T00:00:00Z\n",
      "skipping - 2019-09-29T00:00:00Z\n",
      "skipping - 2020-07-26T00:00:00Z\n",
      "skipping - 2020-07-27T00:00:00Z\n",
      "skipping - 2020-07-28T00:00:00Z\n",
      "skipping - 2020-07-29T00:00:00Z\n",
      "skipping - 2020-07-30T00:00:00Z\n",
      "skipping - 2020-07-31T00:00:00Z\n",
      "skipping - 2020-08-01T00:00:00Z\n",
      "skipping - 2020-08-02T00:00:00Z\n",
      "skipping - 2020-08-03T00:00:00Z\n",
      "skipping - 2020-08-04T00:00:00Z\n",
      "skipping - 2020-08-05T00:00:00Z\n",
      "skipping - 2020-08-06T00:00:00Z\n",
      "skipping - 2020-08-07T00:00:00Z\n",
      "skipping - 2020-08-08T00:00:00Z\n",
      "skipping - 2020-08-09T00:00:00Z\n",
      "skipping - 2020-08-10T00:00:00Z\n",
      "skipping - 2020-08-11T00:00:00Z\n",
      "skipping - 2020-08-12T00:00:00Z\n",
      "skipping - 2020-08-13T00:00:00Z\n",
      "skipping - 2020-08-14T00:00:00Z\n",
      "skipping - 2020-08-15T00:00:00Z\n",
      "skipping - 2020-08-16T00:00:00Z\n",
      "skipping - 2020-08-17T00:00:00Z\n",
      "skipping - 2020-08-18T00:00:00Z\n",
      "skipping - 2020-08-19T00:00:00Z\n",
      "skipping - 2020-08-20T00:00:00Z\n"
     ]
    },
    {
     "ename": "KeyboardInterrupt",
     "evalue": "",
     "output_type": "error",
     "traceback": [
      "\u001b[0;31m---------------------------------------------------------------------------\u001b[0m",
      "\u001b[0;31mJSONDecodeError\u001b[0m                           Traceback (most recent call last)",
      "\u001b[0;32m/tmp/ipykernel_20475/2352696399.py\u001b[0m in \u001b[0;36m<module>\u001b[0;34m\u001b[0m\n\u001b[1;32m     11\u001b[0m             \u001b[0mresponse\u001b[0m \u001b[0;34m=\u001b[0m \u001b[0mrequests\u001b[0m\u001b[0;34m.\u001b[0m\u001b[0mget\u001b[0m\u001b[0;34m(\u001b[0m\u001b[0murl\u001b[0m\u001b[0;34m,\u001b[0m \u001b[0mheaders\u001b[0m \u001b[0;34m=\u001b[0m \u001b[0mheader\u001b[0m\u001b[0;34m,\u001b[0m \u001b[0mparams\u001b[0m \u001b[0;34m=\u001b[0m \u001b[0mparams\u001b[0m\u001b[0;34m)\u001b[0m\u001b[0;34m\u001b[0m\u001b[0;34m\u001b[0m\u001b[0m\n\u001b[0;32m---> 12\u001b[0;31m             \u001b[0mdf_temp\u001b[0m \u001b[0;34m=\u001b[0m \u001b[0mpd\u001b[0m\u001b[0;34m.\u001b[0m\u001b[0mDataFrame\u001b[0m\u001b[0;34m(\u001b[0m\u001b[0mresponse\u001b[0m\u001b[0;34m.\u001b[0m\u001b[0mjson\u001b[0m\u001b[0;34m(\u001b[0m\u001b[0;34m)\u001b[0m\u001b[0;34m[\u001b[0m\u001b[0;34m'data'\u001b[0m\u001b[0;34m]\u001b[0m\u001b[0;34m)\u001b[0m\u001b[0;34m\u001b[0m\u001b[0;34m\u001b[0m\u001b[0m\n\u001b[0m\u001b[1;32m     13\u001b[0m             \u001b[0mdf_temp\u001b[0m\u001b[0;34m[\u001b[0m\u001b[0;34m'start'\u001b[0m\u001b[0;34m]\u001b[0m \u001b[0;34m=\u001b[0m \u001b[0mstart\u001b[0m\u001b[0;34m\u001b[0m\u001b[0;34m\u001b[0m\u001b[0m\n",
      "\u001b[0;32m~/.pyenv/versions/3.8.6/envs/cryptocurrency_trading/lib/python3.8/site-packages/requests/models.py\u001b[0m in \u001b[0;36mjson\u001b[0;34m(self, **kwargs)\u001b[0m\n\u001b[1;32m    909\u001b[0m                     \u001b[0;32mpass\u001b[0m\u001b[0;34m\u001b[0m\u001b[0;34m\u001b[0m\u001b[0m\n\u001b[0;32m--> 910\u001b[0;31m         \u001b[0;32mreturn\u001b[0m \u001b[0mcomplexjson\u001b[0m\u001b[0;34m.\u001b[0m\u001b[0mloads\u001b[0m\u001b[0;34m(\u001b[0m\u001b[0mself\u001b[0m\u001b[0;34m.\u001b[0m\u001b[0mtext\u001b[0m\u001b[0;34m,\u001b[0m \u001b[0;34m**\u001b[0m\u001b[0mkwargs\u001b[0m\u001b[0;34m)\u001b[0m\u001b[0;34m\u001b[0m\u001b[0;34m\u001b[0m\u001b[0m\n\u001b[0m\u001b[1;32m    911\u001b[0m \u001b[0;34m\u001b[0m\u001b[0m\n",
      "\u001b[0;32m~/.pyenv/versions/3.8.6/lib/python3.8/json/__init__.py\u001b[0m in \u001b[0;36mloads\u001b[0;34m(s, cls, object_hook, parse_float, parse_int, parse_constant, object_pairs_hook, **kw)\u001b[0m\n\u001b[1;32m    356\u001b[0m             parse_constant is None and object_pairs_hook is None and not kw):\n\u001b[0;32m--> 357\u001b[0;31m         \u001b[0;32mreturn\u001b[0m \u001b[0m_default_decoder\u001b[0m\u001b[0;34m.\u001b[0m\u001b[0mdecode\u001b[0m\u001b[0;34m(\u001b[0m\u001b[0ms\u001b[0m\u001b[0;34m)\u001b[0m\u001b[0;34m\u001b[0m\u001b[0;34m\u001b[0m\u001b[0m\n\u001b[0m\u001b[1;32m    358\u001b[0m     \u001b[0;32mif\u001b[0m \u001b[0mcls\u001b[0m \u001b[0;32mis\u001b[0m \u001b[0;32mNone\u001b[0m\u001b[0;34m:\u001b[0m\u001b[0;34m\u001b[0m\u001b[0;34m\u001b[0m\u001b[0m\n",
      "\u001b[0;32m~/.pyenv/versions/3.8.6/lib/python3.8/json/decoder.py\u001b[0m in \u001b[0;36mdecode\u001b[0;34m(self, s, _w)\u001b[0m\n\u001b[1;32m    336\u001b[0m         \"\"\"\n\u001b[0;32m--> 337\u001b[0;31m         \u001b[0mobj\u001b[0m\u001b[0;34m,\u001b[0m \u001b[0mend\u001b[0m \u001b[0;34m=\u001b[0m \u001b[0mself\u001b[0m\u001b[0;34m.\u001b[0m\u001b[0mraw_decode\u001b[0m\u001b[0;34m(\u001b[0m\u001b[0ms\u001b[0m\u001b[0;34m,\u001b[0m \u001b[0midx\u001b[0m\u001b[0;34m=\u001b[0m\u001b[0m_w\u001b[0m\u001b[0;34m(\u001b[0m\u001b[0ms\u001b[0m\u001b[0;34m,\u001b[0m \u001b[0;36m0\u001b[0m\u001b[0;34m)\u001b[0m\u001b[0;34m.\u001b[0m\u001b[0mend\u001b[0m\u001b[0;34m(\u001b[0m\u001b[0;34m)\u001b[0m\u001b[0;34m)\u001b[0m\u001b[0;34m\u001b[0m\u001b[0;34m\u001b[0m\u001b[0m\n\u001b[0m\u001b[1;32m    338\u001b[0m         \u001b[0mend\u001b[0m \u001b[0;34m=\u001b[0m \u001b[0m_w\u001b[0m\u001b[0;34m(\u001b[0m\u001b[0ms\u001b[0m\u001b[0;34m,\u001b[0m \u001b[0mend\u001b[0m\u001b[0;34m)\u001b[0m\u001b[0;34m.\u001b[0m\u001b[0mend\u001b[0m\u001b[0;34m(\u001b[0m\u001b[0;34m)\u001b[0m\u001b[0;34m\u001b[0m\u001b[0;34m\u001b[0m\u001b[0m\n",
      "\u001b[0;32m~/.pyenv/versions/3.8.6/lib/python3.8/json/decoder.py\u001b[0m in \u001b[0;36mraw_decode\u001b[0;34m(self, s, idx)\u001b[0m\n\u001b[1;32m    354\u001b[0m         \u001b[0;32mexcept\u001b[0m \u001b[0mStopIteration\u001b[0m \u001b[0;32mas\u001b[0m \u001b[0merr\u001b[0m\u001b[0;34m:\u001b[0m\u001b[0;34m\u001b[0m\u001b[0;34m\u001b[0m\u001b[0m\n\u001b[0;32m--> 355\u001b[0;31m             \u001b[0;32mraise\u001b[0m \u001b[0mJSONDecodeError\u001b[0m\u001b[0;34m(\u001b[0m\u001b[0;34m\"Expecting value\"\u001b[0m\u001b[0;34m,\u001b[0m \u001b[0ms\u001b[0m\u001b[0;34m,\u001b[0m \u001b[0merr\u001b[0m\u001b[0;34m.\u001b[0m\u001b[0mvalue\u001b[0m\u001b[0;34m)\u001b[0m \u001b[0;32mfrom\u001b[0m \u001b[0;32mNone\u001b[0m\u001b[0;34m\u001b[0m\u001b[0;34m\u001b[0m\u001b[0m\n\u001b[0m\u001b[1;32m    356\u001b[0m         \u001b[0;32mreturn\u001b[0m \u001b[0mobj\u001b[0m\u001b[0;34m,\u001b[0m \u001b[0mend\u001b[0m\u001b[0;34m\u001b[0m\u001b[0;34m\u001b[0m\u001b[0m\n",
      "\u001b[0;31mJSONDecodeError\u001b[0m: Expecting value: line 1 column 1 (char 0)",
      "\nDuring handling of the above exception, another exception occurred:\n",
      "\u001b[0;31mKeyboardInterrupt\u001b[0m                         Traceback (most recent call last)",
      "\u001b[0;32m/tmp/ipykernel_20475/2352696399.py\u001b[0m in \u001b[0;36m<module>\u001b[0;34m\u001b[0m\n\u001b[1;32m     20\u001b[0m                 \u001b[0mprint\u001b[0m\u001b[0;34m(\u001b[0m\u001b[0;34mf'skipping - {start}'\u001b[0m\u001b[0;34m)\u001b[0m\u001b[0;34m\u001b[0m\u001b[0;34m\u001b[0m\u001b[0m\n\u001b[1;32m     21\u001b[0m                 \u001b[0;32mbreak\u001b[0m\u001b[0;34m\u001b[0m\u001b[0;34m\u001b[0m\u001b[0m\n\u001b[0;32m---> 22\u001b[0;31m             \u001b[0mtime\u001b[0m\u001b[0;34m.\u001b[0m\u001b[0msleep\u001b[0m\u001b[0;34m(\u001b[0m\u001b[0;36m2\u001b[0m\u001b[0;34m)\u001b[0m\u001b[0;34m\u001b[0m\u001b[0;34m\u001b[0m\u001b[0m\n\u001b[0m\u001b[1;32m     23\u001b[0m \u001b[0;34m\u001b[0m\u001b[0m\n\u001b[1;32m     24\u001b[0m     \u001b[0mtime\u001b[0m\u001b[0;34m.\u001b[0m\u001b[0msleep\u001b[0m\u001b[0;34m(\u001b[0m\u001b[0;36m.5\u001b[0m\u001b[0;34m)\u001b[0m\u001b[0;34m\u001b[0m\u001b[0;34m\u001b[0m\u001b[0m\n",
      "\u001b[0;31mKeyboardInterrupt\u001b[0m: "
     ]
    }
   ],
   "source": [
    "results = []\n",
    "for idx in tqdm(dt_range.index[291:]):\n",
    "    start = dt_range['date'].iloc[idx].strftime(\"%Y-%m-%dT%H:%M:%SZ\")\n",
    "    if idx == dt_range.index[-1]:\n",
    "        end = (datetime.today - pd.Timedelta(hours = 2)).strftime(\"%Y-%m-%dT%H:%M:%SZ\")\n",
    "    else:\n",
    "        end = dt_range['date'].iloc[idx+1].strftime(\"%Y-%m-%dT%H:%M:%SZ\")\n",
    "    error_counter = 0\n",
    "    while True:\n",
    "        try:\n",
    "            response = requests.get(url, headers = header, params = params)\n",
    "            df_temp = pd.DataFrame(response.json()['data'])\n",
    "            df_temp['start'] = start\n",
    "            df_temp['end'] = end\n",
    "            results.append(df_temp)\n",
    "            break\n",
    "        except:\n",
    "            error_counter += 1\n",
    "            if error_counter == 5:\n",
    "                print(f'skipping - {start}')\n",
    "                break\n",
    "            time.sleep(2)\n",
    "            \n",
    "    time.sleep(.5)"
   ]
  },
  {
   "cell_type": "markdown",
   "id": "88785360",
   "metadata": {},
   "source": [
    "# Twitter Count\n",
    "Max return is 30"
   ]
  },
  {
   "cell_type": "code",
   "execution_count": null,
   "id": "0277bde6",
   "metadata": {},
   "outputs": [],
   "source": [
    "# sample params\n",
    "params = {\n",
    "    \"query\":'bitcoin',\n",
    "    \"start_time\":f\"{start}\",\n",
    "    \"end_time\":f\"{end}\",\n",
    "    \"granularity\":'day'\n",
    "}"
   ]
  },
  {
   "cell_type": "code",
   "execution_count": 80,
   "id": "b9e7ce30",
   "metadata": {},
   "outputs": [
    {
     "data": {
      "application/vnd.jupyter.widget-view+json": {
       "model_id": "5be0c89aa5cb434890019a975233532c",
       "version_major": 2,
       "version_minor": 0
      },
      "text/plain": [
       "  0%|          | 0/45 [00:00<?, ?it/s]"
      ]
     },
     "metadata": {},
     "output_type": "display_data"
    }
   ],
   "source": [
    "# loop through date range\n",
    "results = []\n",
    "counter = 0\n",
    "for i in tqdm(range(0, len(dt_range), 30)):\n",
    "    start = dt_range['date'].iloc[i].strftime(\"%Y-%m-%dT%H:%M:%SZ\")\n",
    "    if i+29 < len(dt_range):\n",
    "        end = dt_range['date'].iloc[i+29].strftime(\"%Y-%m-%dT%H:%M:%SZ\")\n",
    "    else:\n",
    "        end = (datetime.today() - pd.Timedelta(hours = 2)).strftime(\"%Y-%m-%dT%H:%M:%SZ\")\n",
    "    params = {\n",
    "        \"query\":'bitcoin',\n",
    "        \"start_time\":f\"{start}\",\n",
    "        \"end_time\":f\"{end}\",\n",
    "        \"granularity\":'day'\n",
    "        }\n",
    "    response = requests.get(url, headers = header, params = params)\n",
    "    results.append(pd.DataFrame(response.json()['data']))\n",
    "    time.sleep(.5)"
   ]
  },
  {
   "cell_type": "code",
   "execution_count": 90,
   "id": "b7803eb4",
   "metadata": {},
   "outputs": [],
   "source": [
    "df_count = pd.concat(results, axis = 0).reset_index(drop = True)\n",
    "df_count['tweet_count'] = df_count['tweet_count'].astype(int)"
   ]
  },
  {
   "cell_type": "code",
   "execution_count": 92,
   "id": "620b5aa6",
   "metadata": {},
   "outputs": [
    {
     "data": {
      "image/png": "[encoded data removed]",
      "text/plain": [
       "<Figure size 432x288 with 1 Axes>"
      ]
     },
     "metadata": {
      "needs_background": "light"
     },
     "output_type": "display_data"
    }
   ],
   "source": [
    "df_count['tweet_count'].plot();"
   ]
  },
  {
   "cell_type": "code",
   "execution_count": 93,
   "id": "bd6bb4d4",
   "metadata": {},
   "outputs": [],
   "source": [
    "df_count.to_csv(\"../cryptocurrency_trading/data/tweet_count_010921.csv\")"
   ]
  },
  {
   "cell_type": "code",
   "execution_count": null,
   "id": "a646483b",
   "metadata": {},
   "outputs": [],
   "source": []
  },
  {
   "cell_type": "code",
   "execution_count": null,
   "id": "b6bb81b4",
   "metadata": {},
   "outputs": [],
   "source": []
  },
  {
   "cell_type": "code",
   "execution_count": null,
   "id": "05b7fdcc",
   "metadata": {},
   "outputs": [],
   "source": []
  },
  {
   "cell_type": "code",
   "execution_count": null,
   "id": "b79060a0",
   "metadata": {},
   "outputs": [],
   "source": []
  },
  {
   "cell_type": "code",
   "execution_count": null,
   "id": "ce570f02",
   "metadata": {},
   "outputs": [],
   "source": []
  },
  {
   "cell_type": "code",
   "execution_count": null,
   "id": "447aef7b",
   "metadata": {},
   "outputs": [],
   "source": []
  },
  {
   "cell_type": "code",
   "execution_count": null,
   "id": "c72808d0",
   "metadata": {},
   "outputs": [],
   "source": []
  },
  {
   "cell_type": "code",
   "execution_count": null,
   "id": "271e3a41",
   "metadata": {},
   "outputs": [],
   "source": []
  },
  {
   "cell_type": "code",
   "execution_count": null,
   "id": "6658d618",
   "metadata": {},
   "outputs": [],
   "source": []
  }
 ],
 "metadata": {
  "kernelspec": {
   "display_name": "Python 3 (ipykernel)",
   "language": "python",
   "name": "python3"
  },
  "language_info": {
   "codemirror_mode": {
    "name": "ipython",
    "version": 3
   },
   "file_extension": ".py",
   "mimetype": "text/x-python",
   "name": "python",
   "nbconvert_exporter": "python",
   "pygments_lexer": "ipython3",
   "version": "3.8.6"
  },
  "toc": {
   "base_numbering": 1,
   "nav_menu": {},
   "number_sections": true,
   "sideBar": true,
   "skip_h1_title": false,
   "title_cell": "Table of Contents",
   "title_sidebar": "Contents",
   "toc_cell": false,
   "toc_position": {},
   "toc_section_display": true,
   "toc_window_display": false
  }
 },
 "nbformat": 4,
 "nbformat_minor": 5
}
