{
 "cells": [
  {
   "cell_type": "code",
   "execution_count": 1,
   "id": "3113fa6a",
   "metadata": {},
   "outputs": [],
   "source": [
    "import requests\n",
    "import pandas as pd\n"
   ]
  },
  {
   "cell_type": "markdown",
   "id": "90fafd48",
   "metadata": {},
   "source": [
    "# Data"
   ]
  },
  {
   "cell_type": "markdown",
   "id": "1e0bbe68",
   "metadata": {},
   "source": [
    "## Raw Data"
   ]
  },
  {
   "cell_type": "code",
   "execution_count": 2,
   "id": "12e29218",
   "metadata": {},
   "outputs": [],
   "source": [
    "api_key='a58413697e8263de9c95cab92049ea3f'\n",
    "symbol='BTCUSD'\n",
    "query=f'https://financialmodelingprep.com/api/v3/historical-price-full/{symbol}?apikey={api_key}'"
   ]
  },
  {
   "cell_type": "code",
   "execution_count": 3,
   "id": "6ca3bdfa",
   "metadata": {},
   "outputs": [],
   "source": [
    "response=requests.get(query)\n"
   ]
  },
  {
   "cell_type": "code",
   "execution_count": 4,
   "id": "b38e2ac4",
   "metadata": {},
   "outputs": [],
   "source": [
    "df = pd.DataFrame(response.json()['historical'])"
   ]
  },
  {
   "cell_type": "code",
   "execution_count": 5,
   "id": "9fd894ae",
   "metadata": {},
   "outputs": [
    {
     "data": {
      "text/html": [
       "<div>\n",
       "<style scoped>\n",
       "    .dataframe tbody tr th:only-of-type {\n",
       "        vertical-align: middle;\n",
       "    }\n",
       "\n",
       "    .dataframe tbody tr th {\n",
       "        vertical-align: top;\n",
       "    }\n",
       "\n",
       "    .dataframe thead th {\n",
       "        text-align: right;\n",
       "    }\n",
       "</style>\n",
       "<table border=\"1\" class=\"dataframe\">\n",
       "  <thead>\n",
       "    <tr style=\"text-align: right;\">\n",
       "      <th></th>\n",
       "      <th>date</th>\n",
       "      <th>open</th>\n",
       "      <th>high</th>\n",
       "      <th>low</th>\n",
       "      <th>close</th>\n",
       "      <th>adjClose</th>\n",
       "      <th>volume</th>\n",
       "      <th>unadjustedVolume</th>\n",
       "      <th>change</th>\n",
       "      <th>changePercent</th>\n",
       "      <th>vwap</th>\n",
       "      <th>label</th>\n",
       "      <th>changeOverTime</th>\n",
       "    </tr>\n",
       "  </thead>\n",
       "  <tbody>\n",
       "    <tr>\n",
       "      <th>0</th>\n",
       "      <td>2021-09-03</td>\n",
       "      <td>49341.066406</td>\n",
       "      <td>49462.562500</td>\n",
       "      <td>48457.988281</td>\n",
       "      <td>49462.562500</td>\n",
       "      <td>49462.562500</td>\n",
       "      <td>4.080373e+10</td>\n",
       "      <td>4.080373e+10</td>\n",
       "      <td>121.49609</td>\n",
       "      <td>0.246</td>\n",
       "      <td>49127.70443</td>\n",
       "      <td>September 03, 21</td>\n",
       "      <td>0.00246</td>\n",
       "    </tr>\n",
       "    <tr>\n",
       "      <th>1</th>\n",
       "      <td>2021-09-02</td>\n",
       "      <td>48807.847656</td>\n",
       "      <td>50343.421875</td>\n",
       "      <td>48652.320313</td>\n",
       "      <td>49327.722656</td>\n",
       "      <td>49327.722656</td>\n",
       "      <td>3.950807e+10</td>\n",
       "      <td>3.950807e+10</td>\n",
       "      <td>519.87500</td>\n",
       "      <td>1.065</td>\n",
       "      <td>49441.15495</td>\n",
       "      <td>September 02, 21</td>\n",
       "      <td>0.01065</td>\n",
       "    </tr>\n",
       "    <tr>\n",
       "      <th>2</th>\n",
       "      <td>2021-09-01</td>\n",
       "      <td>47099.773438</td>\n",
       "      <td>49111.089844</td>\n",
       "      <td>46562.437500</td>\n",
       "      <td>48847.027344</td>\n",
       "      <td>48847.027344</td>\n",
       "      <td>3.913940e+10</td>\n",
       "      <td>3.913940e+10</td>\n",
       "      <td>1747.25391</td>\n",
       "      <td>3.710</td>\n",
       "      <td>48173.51823</td>\n",
       "      <td>September 01, 21</td>\n",
       "      <td>0.03710</td>\n",
       "    </tr>\n",
       "    <tr>\n",
       "      <th>3</th>\n",
       "      <td>2021-08-31</td>\n",
       "      <td>47024.339844</td>\n",
       "      <td>48189.550781</td>\n",
       "      <td>46750.093750</td>\n",
       "      <td>47166.687500</td>\n",
       "      <td>47166.687500</td>\n",
       "      <td>3.473036e+10</td>\n",
       "      <td>3.473036e+10</td>\n",
       "      <td>142.34766</td>\n",
       "      <td>0.303</td>\n",
       "      <td>47368.77734</td>\n",
       "      <td>August 31, 21</td>\n",
       "      <td>0.00303</td>\n",
       "    </tr>\n",
       "    <tr>\n",
       "      <th>4</th>\n",
       "      <td>2021-08-30</td>\n",
       "      <td>48834.851563</td>\n",
       "      <td>48925.605469</td>\n",
       "      <td>46950.273438</td>\n",
       "      <td>47054.984375</td>\n",
       "      <td>47054.984375</td>\n",
       "      <td>3.184701e+10</td>\n",
       "      <td>3.184701e+10</td>\n",
       "      <td>-1779.86719</td>\n",
       "      <td>-3.645</td>\n",
       "      <td>47643.62109</td>\n",
       "      <td>August 30, 21</td>\n",
       "      <td>-0.03645</td>\n",
       "    </tr>\n",
       "    <tr>\n",
       "      <th>...</th>\n",
       "      <td>...</td>\n",
       "      <td>...</td>\n",
       "      <td>...</td>\n",
       "      <td>...</td>\n",
       "      <td>...</td>\n",
       "      <td>...</td>\n",
       "      <td>...</td>\n",
       "      <td>...</td>\n",
       "      <td>...</td>\n",
       "      <td>...</td>\n",
       "      <td>...</td>\n",
       "      <td>...</td>\n",
       "      <td>...</td>\n",
       "    </tr>\n",
       "    <tr>\n",
       "      <th>1822</th>\n",
       "      <td>2016-09-07</td>\n",
       "      <td>610.572998</td>\n",
       "      <td>614.544983</td>\n",
       "      <td>608.513000</td>\n",
       "      <td>614.544006</td>\n",
       "      <td>614.544006</td>\n",
       "      <td>7.503240e+07</td>\n",
       "      <td>7.503240e+07</td>\n",
       "      <td>3.97101</td>\n",
       "      <td>0.650</td>\n",
       "      <td>612.53400</td>\n",
       "      <td>September 07, 16</td>\n",
       "      <td>0.00650</td>\n",
       "    </tr>\n",
       "    <tr>\n",
       "      <th>1823</th>\n",
       "      <td>2016-09-06</td>\n",
       "      <td>606.505981</td>\n",
       "      <td>610.830017</td>\n",
       "      <td>605.091003</td>\n",
       "      <td>610.435974</td>\n",
       "      <td>610.435974</td>\n",
       "      <td>7.852910e+07</td>\n",
       "      <td>7.852910e+07</td>\n",
       "      <td>3.92999</td>\n",
       "      <td>0.648</td>\n",
       "      <td>608.78566</td>\n",
       "      <td>September 06, 16</td>\n",
       "      <td>0.00648</td>\n",
       "    </tr>\n",
       "    <tr>\n",
       "      <th>1824</th>\n",
       "      <td>2016-09-05</td>\n",
       "      <td>608.989990</td>\n",
       "      <td>609.054993</td>\n",
       "      <td>602.242004</td>\n",
       "      <td>606.590027</td>\n",
       "      <td>606.590027</td>\n",
       "      <td>8.244680e+07</td>\n",
       "      <td>8.244680e+07</td>\n",
       "      <td>-2.39996</td>\n",
       "      <td>-0.394</td>\n",
       "      <td>605.96234</td>\n",
       "      <td>September 05, 16</td>\n",
       "      <td>-0.00394</td>\n",
       "    </tr>\n",
       "    <tr>\n",
       "      <th>1825</th>\n",
       "      <td>2016-09-04</td>\n",
       "      <td>598.590027</td>\n",
       "      <td>611.836975</td>\n",
       "      <td>596.848022</td>\n",
       "      <td>608.633972</td>\n",
       "      <td>608.633972</td>\n",
       "      <td>9.794290e+07</td>\n",
       "      <td>9.794290e+07</td>\n",
       "      <td>10.04395</td>\n",
       "      <td>1.678</td>\n",
       "      <td>605.77299</td>\n",
       "      <td>September 04, 16</td>\n",
       "      <td>0.01678</td>\n",
       "    </tr>\n",
       "    <tr>\n",
       "      <th>1826</th>\n",
       "      <td>2016-09-03</td>\n",
       "      <td>575.554993</td>\n",
       "      <td>599.500000</td>\n",
       "      <td>574.056030</td>\n",
       "      <td>598.211975</td>\n",
       "      <td>598.211975</td>\n",
       "      <td>1.590140e+08</td>\n",
       "      <td>1.590140e+08</td>\n",
       "      <td>22.65698</td>\n",
       "      <td>3.937</td>\n",
       "      <td>590.58934</td>\n",
       "      <td>September 03, 16</td>\n",
       "      <td>0.03937</td>\n",
       "    </tr>\n",
       "  </tbody>\n",
       "</table>\n",
       "<p>1827 rows × 13 columns</p>\n",
       "</div>"
      ],
      "text/plain": [
       "            date          open          high           low         close  \\\n",
       "0     2021-09-03  49341.066406  49462.562500  48457.988281  49462.562500   \n",
       "1     2021-09-02  48807.847656  50343.421875  48652.320313  49327.722656   \n",
       "2     2021-09-01  47099.773438  49111.089844  46562.437500  48847.027344   \n",
       "3     2021-08-31  47024.339844  48189.550781  46750.093750  47166.687500   \n",
       "4     2021-08-30  48834.851563  48925.605469  46950.273438  47054.984375   \n",
       "...          ...           ...           ...           ...           ...   \n",
       "1822  2016-09-07    610.572998    614.544983    608.513000    614.544006   \n",
       "1823  2016-09-06    606.505981    610.830017    605.091003    610.435974   \n",
       "1824  2016-09-05    608.989990    609.054993    602.242004    606.590027   \n",
       "1825  2016-09-04    598.590027    611.836975    596.848022    608.633972   \n",
       "1826  2016-09-03    575.554993    599.500000    574.056030    598.211975   \n",
       "\n",
       "          adjClose        volume  unadjustedVolume      change  changePercent  \\\n",
       "0     49462.562500  4.080373e+10      4.080373e+10   121.49609          0.246   \n",
       "1     49327.722656  3.950807e+10      3.950807e+10   519.87500          1.065   \n",
       "2     48847.027344  3.913940e+10      3.913940e+10  1747.25391          3.710   \n",
       "3     47166.687500  3.473036e+10      3.473036e+10   142.34766          0.303   \n",
       "4     47054.984375  3.184701e+10      3.184701e+10 -1779.86719         -3.645   \n",
       "...            ...           ...               ...         ...            ...   \n",
       "1822    614.544006  7.503240e+07      7.503240e+07     3.97101          0.650   \n",
       "1823    610.435974  7.852910e+07      7.852910e+07     3.92999          0.648   \n",
       "1824    606.590027  8.244680e+07      8.244680e+07    -2.39996         -0.394   \n",
       "1825    608.633972  9.794290e+07      9.794290e+07    10.04395          1.678   \n",
       "1826    598.211975  1.590140e+08      1.590140e+08    22.65698          3.937   \n",
       "\n",
       "             vwap             label  changeOverTime  \n",
       "0     49127.70443  September 03, 21         0.00246  \n",
       "1     49441.15495  September 02, 21         0.01065  \n",
       "2     48173.51823  September 01, 21         0.03710  \n",
       "3     47368.77734     August 31, 21         0.00303  \n",
       "4     47643.62109     August 30, 21        -0.03645  \n",
       "...           ...               ...             ...  \n",
       "1822    612.53400  September 07, 16         0.00650  \n",
       "1823    608.78566  September 06, 16         0.00648  \n",
       "1824    605.96234  September 05, 16        -0.00394  \n",
       "1825    605.77299  September 04, 16         0.01678  \n",
       "1826    590.58934  September 03, 16         0.03937  \n",
       "\n",
       "[1827 rows x 13 columns]"
      ]
     },
     "execution_count": 5,
     "metadata": {},
     "output_type": "execute_result"
    }
   ],
   "source": [
    "df"
   ]
  },
  {
   "cell_type": "code",
   "execution_count": 6,
   "id": "430a3364",
   "metadata": {},
   "outputs": [],
   "source": [
    "from sklearn.metrics import mean_squared_error, mean_absolute_error, r2_score, max_error, mean_absolute_percentage_error\n",
    "import math"
   ]
  },
  {
   "cell_type": "markdown",
   "id": "8078a1ee",
   "metadata": {},
   "source": [
    "# 3 year Data"
   ]
  },
  {
   "cell_type": "code",
   "execution_count": 7,
   "id": "987c6fb4",
   "metadata": {},
   "outputs": [],
   "source": [
    "df['date'] = pd.to_datetime(df['date'])"
   ]
  },
  {
   "cell_type": "code",
   "execution_count": 8,
   "id": "7c514e60",
   "metadata": {},
   "outputs": [],
   "source": [
    "df_2 = df[['date', 'adjClose']]"
   ]
  },
  {
   "cell_type": "code",
   "execution_count": 9,
   "id": "44481391",
   "metadata": {},
   "outputs": [],
   "source": [
    "date = pd.to_datetime('2018-09-01')"
   ]
  },
  {
   "cell_type": "code",
   "execution_count": 10,
   "id": "b7515b2d",
   "metadata": {},
   "outputs": [],
   "source": [
    "df_3years = df_2[df_2['date']>date]"
   ]
  },
  {
   "cell_type": "code",
   "execution_count": 11,
   "id": "ef3c7427",
   "metadata": {},
   "outputs": [],
   "source": [
    "df_3years = df_3years.set_index('date')"
   ]
  },
  {
   "cell_type": "code",
   "execution_count": 12,
   "id": "7bf67388",
   "metadata": {
    "scrolled": false
   },
   "outputs": [
    {
     "data": {
      "text/html": [
       "<div>\n",
       "<style scoped>\n",
       "    .dataframe tbody tr th:only-of-type {\n",
       "        vertical-align: middle;\n",
       "    }\n",
       "\n",
       "    .dataframe tbody tr th {\n",
       "        vertical-align: top;\n",
       "    }\n",
       "\n",
       "    .dataframe thead th {\n",
       "        text-align: right;\n",
       "    }\n",
       "</style>\n",
       "<table border=\"1\" class=\"dataframe\">\n",
       "  <thead>\n",
       "    <tr style=\"text-align: right;\">\n",
       "      <th></th>\n",
       "      <th>adjClose</th>\n",
       "    </tr>\n",
       "    <tr>\n",
       "      <th>date</th>\n",
       "      <th></th>\n",
       "    </tr>\n",
       "  </thead>\n",
       "  <tbody>\n",
       "    <tr>\n",
       "      <th>2021-09-03</th>\n",
       "      <td>49462.562500</td>\n",
       "    </tr>\n",
       "    <tr>\n",
       "      <th>2021-09-02</th>\n",
       "      <td>49327.722656</td>\n",
       "    </tr>\n",
       "    <tr>\n",
       "      <th>2021-09-01</th>\n",
       "      <td>48847.027344</td>\n",
       "    </tr>\n",
       "    <tr>\n",
       "      <th>2021-08-31</th>\n",
       "      <td>47166.687500</td>\n",
       "    </tr>\n",
       "    <tr>\n",
       "      <th>2021-08-30</th>\n",
       "      <td>47054.984375</td>\n",
       "    </tr>\n",
       "    <tr>\n",
       "      <th>...</th>\n",
       "      <td>...</td>\n",
       "    </tr>\n",
       "    <tr>\n",
       "      <th>2018-09-06</th>\n",
       "      <td>6529.169922</td>\n",
       "    </tr>\n",
       "    <tr>\n",
       "      <th>2018-09-05</th>\n",
       "      <td>6792.830078</td>\n",
       "    </tr>\n",
       "    <tr>\n",
       "      <th>2018-09-04</th>\n",
       "      <td>7361.660156</td>\n",
       "    </tr>\n",
       "    <tr>\n",
       "      <th>2018-09-03</th>\n",
       "      <td>7260.060059</td>\n",
       "    </tr>\n",
       "    <tr>\n",
       "      <th>2018-09-02</th>\n",
       "      <td>7272.720215</td>\n",
       "    </tr>\n",
       "  </tbody>\n",
       "</table>\n",
       "<p>1098 rows × 1 columns</p>\n",
       "</div>"
      ],
      "text/plain": [
       "                adjClose\n",
       "date                    \n",
       "2021-09-03  49462.562500\n",
       "2021-09-02  49327.722656\n",
       "2021-09-01  48847.027344\n",
       "2021-08-31  47166.687500\n",
       "2021-08-30  47054.984375\n",
       "...                  ...\n",
       "2018-09-06   6529.169922\n",
       "2018-09-05   6792.830078\n",
       "2018-09-04   7361.660156\n",
       "2018-09-03   7260.060059\n",
       "2018-09-02   7272.720215\n",
       "\n",
       "[1098 rows x 1 columns]"
      ]
     },
     "execution_count": 12,
     "metadata": {},
     "output_type": "execute_result"
    }
   ],
   "source": [
    "df_3years"
   ]
  },
  {
   "cell_type": "markdown",
   "id": "bbc3dd0e",
   "metadata": {},
   "source": [
    "## Time Series plot"
   ]
  },
  {
   "cell_type": "code",
   "execution_count": 13,
   "id": "d4d9320e",
   "metadata": {},
   "outputs": [
    {
     "data": {
      "text/plain": [
       "<AxesSubplot:xlabel='date'>"
      ]
     },
     "execution_count": 13,
     "metadata": {},
     "output_type": "execute_result"
    },
    {
     "data": {
      "image/png": "[encoded data removed]",
      "text/plain": [
       "<Figure size 432x288 with 1 Axes>"
      ]
     },
     "metadata": {
      "needs_background": "light"
     },
     "output_type": "display_data"
    }
   ],
   "source": [
    "df_3years.plot()"
   ]
  },
  {
   "cell_type": "markdown",
   "id": "453dc107",
   "metadata": {},
   "source": [
    "# ML approach to TS"
   ]
  },
  {
   "cell_type": "markdown",
   "id": "2e82c73d",
   "metadata": {},
   "source": [
    "## Continuous (train ➔ test) split "
   ]
  },
  {
   "cell_type": "code",
   "execution_count": 14,
   "id": "bb6ae691",
   "metadata": {},
   "outputs": [],
   "source": [
    "# 80/20 Train-test split\n",
    "train_size = 0.8\n",
    "index = round(train_size*df_3years.shape[0])\n",
    "df_train = df_3years.iloc[:index]\n",
    "df_test = df_3years.iloc[index:]"
   ]
  },
  {
   "cell_type": "code",
   "execution_count": 15,
   "id": "f16483e6",
   "metadata": {},
   "outputs": [],
   "source": [
    "from sklearn.metrics import r2_score"
   ]
  },
  {
   "cell_type": "markdown",
   "id": "ca1d6e5a",
   "metadata": {},
   "source": [
    "## Test split"
   ]
  },
  {
   "cell_type": "code",
   "execution_count": 16,
   "id": "1c6efeca",
   "metadata": {},
   "outputs": [
    {
     "data": {
      "text/html": [
       "<div>\n",
       "<style scoped>\n",
       "    .dataframe tbody tr th:only-of-type {\n",
       "        vertical-align: middle;\n",
       "    }\n",
       "\n",
       "    .dataframe tbody tr th {\n",
       "        vertical-align: top;\n",
       "    }\n",
       "\n",
       "    .dataframe thead th {\n",
       "        text-align: right;\n",
       "    }\n",
       "</style>\n",
       "<table border=\"1\" class=\"dataframe\">\n",
       "  <thead>\n",
       "    <tr style=\"text-align: right;\">\n",
       "      <th></th>\n",
       "      <th>adjClose</th>\n",
       "    </tr>\n",
       "    <tr>\n",
       "      <th>date</th>\n",
       "      <th></th>\n",
       "    </tr>\n",
       "  </thead>\n",
       "  <tbody>\n",
       "    <tr>\n",
       "      <th>2019-04-09</th>\n",
       "      <td>5204.958496</td>\n",
       "    </tr>\n",
       "    <tr>\n",
       "      <th>2019-04-08</th>\n",
       "      <td>5289.770996</td>\n",
       "    </tr>\n",
       "    <tr>\n",
       "      <th>2019-04-07</th>\n",
       "      <td>5198.896973</td>\n",
       "    </tr>\n",
       "    <tr>\n",
       "      <th>2019-04-06</th>\n",
       "      <td>5059.817383</td>\n",
       "    </tr>\n",
       "    <tr>\n",
       "      <th>2019-04-05</th>\n",
       "      <td>5036.681152</td>\n",
       "    </tr>\n",
       "    <tr>\n",
       "      <th>...</th>\n",
       "      <td>...</td>\n",
       "    </tr>\n",
       "    <tr>\n",
       "      <th>2018-09-06</th>\n",
       "      <td>6529.169922</td>\n",
       "    </tr>\n",
       "    <tr>\n",
       "      <th>2018-09-05</th>\n",
       "      <td>6792.830078</td>\n",
       "    </tr>\n",
       "    <tr>\n",
       "      <th>2018-09-04</th>\n",
       "      <td>7361.660156</td>\n",
       "    </tr>\n",
       "    <tr>\n",
       "      <th>2018-09-03</th>\n",
       "      <td>7260.060059</td>\n",
       "    </tr>\n",
       "    <tr>\n",
       "      <th>2018-09-02</th>\n",
       "      <td>7272.720215</td>\n",
       "    </tr>\n",
       "  </tbody>\n",
       "</table>\n",
       "<p>220 rows × 1 columns</p>\n",
       "</div>"
      ],
      "text/plain": [
       "               adjClose\n",
       "date                   \n",
       "2019-04-09  5204.958496\n",
       "2019-04-08  5289.770996\n",
       "2019-04-07  5198.896973\n",
       "2019-04-06  5059.817383\n",
       "2019-04-05  5036.681152\n",
       "...                 ...\n",
       "2018-09-06  6529.169922\n",
       "2018-09-05  6792.830078\n",
       "2018-09-04  7361.660156\n",
       "2018-09-03  7260.060059\n",
       "2018-09-02  7272.720215\n",
       "\n",
       "[220 rows x 1 columns]"
      ]
     },
     "execution_count": 16,
     "metadata": {},
     "output_type": "execute_result"
    }
   ],
   "source": [
    "df_test"
   ]
  },
  {
   "cell_type": "markdown",
   "id": "51b5de94",
   "metadata": {},
   "source": [
    "## Train split"
   ]
  },
  {
   "cell_type": "code",
   "execution_count": 17,
   "id": "cce8df7f",
   "metadata": {},
   "outputs": [
    {
     "data": {
      "text/html": [
       "<div>\n",
       "<style scoped>\n",
       "    .dataframe tbody tr th:only-of-type {\n",
       "        vertical-align: middle;\n",
       "    }\n",
       "\n",
       "    .dataframe tbody tr th {\n",
       "        vertical-align: top;\n",
       "    }\n",
       "\n",
       "    .dataframe thead th {\n",
       "        text-align: right;\n",
       "    }\n",
       "</style>\n",
       "<table border=\"1\" class=\"dataframe\">\n",
       "  <thead>\n",
       "    <tr style=\"text-align: right;\">\n",
       "      <th></th>\n",
       "      <th>adjClose</th>\n",
       "    </tr>\n",
       "    <tr>\n",
       "      <th>date</th>\n",
       "      <th></th>\n",
       "    </tr>\n",
       "  </thead>\n",
       "  <tbody>\n",
       "    <tr>\n",
       "      <th>2021-09-03</th>\n",
       "      <td>49462.562500</td>\n",
       "    </tr>\n",
       "    <tr>\n",
       "      <th>2021-09-02</th>\n",
       "      <td>49327.722656</td>\n",
       "    </tr>\n",
       "    <tr>\n",
       "      <th>2021-09-01</th>\n",
       "      <td>48847.027344</td>\n",
       "    </tr>\n",
       "    <tr>\n",
       "      <th>2021-08-31</th>\n",
       "      <td>47166.687500</td>\n",
       "    </tr>\n",
       "    <tr>\n",
       "      <th>2021-08-30</th>\n",
       "      <td>47054.984375</td>\n",
       "    </tr>\n",
       "    <tr>\n",
       "      <th>...</th>\n",
       "      <td>...</td>\n",
       "    </tr>\n",
       "    <tr>\n",
       "      <th>2019-04-14</th>\n",
       "      <td>5167.722168</td>\n",
       "    </tr>\n",
       "    <tr>\n",
       "      <th>2019-04-13</th>\n",
       "      <td>5096.586426</td>\n",
       "    </tr>\n",
       "    <tr>\n",
       "      <th>2019-04-12</th>\n",
       "      <td>5089.539063</td>\n",
       "    </tr>\n",
       "    <tr>\n",
       "      <th>2019-04-11</th>\n",
       "      <td>5064.487793</td>\n",
       "    </tr>\n",
       "    <tr>\n",
       "      <th>2019-04-10</th>\n",
       "      <td>5324.551758</td>\n",
       "    </tr>\n",
       "  </tbody>\n",
       "</table>\n",
       "<p>878 rows × 1 columns</p>\n",
       "</div>"
      ],
      "text/plain": [
       "                adjClose\n",
       "date                    \n",
       "2021-09-03  49462.562500\n",
       "2021-09-02  49327.722656\n",
       "2021-09-01  48847.027344\n",
       "2021-08-31  47166.687500\n",
       "2021-08-30  47054.984375\n",
       "...                  ...\n",
       "2019-04-14   5167.722168\n",
       "2019-04-13   5096.586426\n",
       "2019-04-12   5089.539063\n",
       "2019-04-11   5064.487793\n",
       "2019-04-10   5324.551758\n",
       "\n",
       "[878 rows x 1 columns]"
      ]
     },
     "execution_count": 17,
     "metadata": {},
     "output_type": "execute_result"
    }
   ],
   "source": [
    "df_train"
   ]
  },
  {
   "cell_type": "markdown",
   "id": "9489ec40",
   "metadata": {},
   "source": [
    "### Whatever value was in the previous time period, we use that to predict the next value. Using .shift, we shift the data by 1. "
   ]
  },
  {
   "cell_type": "code",
   "execution_count": 18,
   "id": "17bf905d",
   "metadata": {},
   "outputs": [
    {
     "data": {
      "text/html": [
       "<div>\n",
       "<style scoped>\n",
       "    .dataframe tbody tr th:only-of-type {\n",
       "        vertical-align: middle;\n",
       "    }\n",
       "\n",
       "    .dataframe tbody tr th {\n",
       "        vertical-align: top;\n",
       "    }\n",
       "\n",
       "    .dataframe thead th {\n",
       "        text-align: right;\n",
       "    }\n",
       "</style>\n",
       "<table border=\"1\" class=\"dataframe\">\n",
       "  <thead>\n",
       "    <tr style=\"text-align: right;\">\n",
       "      <th></th>\n",
       "      <th>adjClose</th>\n",
       "    </tr>\n",
       "    <tr>\n",
       "      <th>date</th>\n",
       "      <th></th>\n",
       "    </tr>\n",
       "  </thead>\n",
       "  <tbody>\n",
       "    <tr>\n",
       "      <th>2019-04-09</th>\n",
       "      <td>NaN</td>\n",
       "    </tr>\n",
       "    <tr>\n",
       "      <th>2019-04-08</th>\n",
       "      <td>5204.958496</td>\n",
       "    </tr>\n",
       "    <tr>\n",
       "      <th>2019-04-07</th>\n",
       "      <td>5289.770996</td>\n",
       "    </tr>\n",
       "    <tr>\n",
       "      <th>2019-04-06</th>\n",
       "      <td>5198.896973</td>\n",
       "    </tr>\n",
       "    <tr>\n",
       "      <th>2019-04-05</th>\n",
       "      <td>5059.817383</td>\n",
       "    </tr>\n",
       "    <tr>\n",
       "      <th>...</th>\n",
       "      <td>...</td>\n",
       "    </tr>\n",
       "    <tr>\n",
       "      <th>2018-09-06</th>\n",
       "      <td>6467.069824</td>\n",
       "    </tr>\n",
       "    <tr>\n",
       "      <th>2018-09-05</th>\n",
       "      <td>6529.169922</td>\n",
       "    </tr>\n",
       "    <tr>\n",
       "      <th>2018-09-04</th>\n",
       "      <td>6792.830078</td>\n",
       "    </tr>\n",
       "    <tr>\n",
       "      <th>2018-09-03</th>\n",
       "      <td>7361.660156</td>\n",
       "    </tr>\n",
       "    <tr>\n",
       "      <th>2018-09-02</th>\n",
       "      <td>7260.060059</td>\n",
       "    </tr>\n",
       "  </tbody>\n",
       "</table>\n",
       "<p>220 rows × 1 columns</p>\n",
       "</div>"
      ],
      "text/plain": [
       "               adjClose\n",
       "date                   \n",
       "2019-04-09          NaN\n",
       "2019-04-08  5204.958496\n",
       "2019-04-07  5289.770996\n",
       "2019-04-06  5198.896973\n",
       "2019-04-05  5059.817383\n",
       "...                 ...\n",
       "2018-09-06  6467.069824\n",
       "2018-09-05  6529.169922\n",
       "2018-09-04  6792.830078\n",
       "2018-09-03  7361.660156\n",
       "2018-09-02  7260.060059\n",
       "\n",
       "[220 rows x 1 columns]"
      ]
     },
     "execution_count": 18,
     "metadata": {},
     "output_type": "execute_result"
    }
   ],
   "source": [
    "y_pred = df_test.shift(1)\n",
    "y_pred"
   ]
  },
  {
   "cell_type": "code",
   "execution_count": 19,
   "id": "02666eef",
   "metadata": {},
   "outputs": [],
   "source": [
    "y_true = df_test[1:]"
   ]
  },
  {
   "cell_type": "code",
   "execution_count": 20,
   "id": "d5ae15af",
   "metadata": {},
   "outputs": [
    {
     "data": {
      "text/plain": [
       "(219, 1)"
      ]
     },
     "execution_count": 20,
     "metadata": {},
     "output_type": "execute_result"
    }
   ],
   "source": [
    "y_true.shape"
   ]
  },
  {
   "cell_type": "code",
   "execution_count": 21,
   "id": "9a7b2c57",
   "metadata": {},
   "outputs": [],
   "source": [
    "y_test = df_test.drop(['2019-04-08'])"
   ]
  },
  {
   "cell_type": "code",
   "execution_count": 22,
   "id": "2dce20c7",
   "metadata": {},
   "outputs": [
    {
     "data": {
      "text/html": [
       "<div>\n",
       "<style scoped>\n",
       "    .dataframe tbody tr th:only-of-type {\n",
       "        vertical-align: middle;\n",
       "    }\n",
       "\n",
       "    .dataframe tbody tr th {\n",
       "        vertical-align: top;\n",
       "    }\n",
       "\n",
       "    .dataframe thead th {\n",
       "        text-align: right;\n",
       "    }\n",
       "</style>\n",
       "<table border=\"1\" class=\"dataframe\">\n",
       "  <thead>\n",
       "    <tr style=\"text-align: right;\">\n",
       "      <th></th>\n",
       "      <th>adjClose</th>\n",
       "    </tr>\n",
       "    <tr>\n",
       "      <th>date</th>\n",
       "      <th></th>\n",
       "    </tr>\n",
       "  </thead>\n",
       "  <tbody>\n",
       "    <tr>\n",
       "      <th>2019-04-09</th>\n",
       "      <td>5204.958496</td>\n",
       "    </tr>\n",
       "    <tr>\n",
       "      <th>2019-04-07</th>\n",
       "      <td>5198.896973</td>\n",
       "    </tr>\n",
       "    <tr>\n",
       "      <th>2019-04-06</th>\n",
       "      <td>5059.817383</td>\n",
       "    </tr>\n",
       "    <tr>\n",
       "      <th>2019-04-05</th>\n",
       "      <td>5036.681152</td>\n",
       "    </tr>\n",
       "    <tr>\n",
       "      <th>2019-04-04</th>\n",
       "      <td>4922.798828</td>\n",
       "    </tr>\n",
       "    <tr>\n",
       "      <th>...</th>\n",
       "      <td>...</td>\n",
       "    </tr>\n",
       "    <tr>\n",
       "      <th>2018-09-06</th>\n",
       "      <td>6529.169922</td>\n",
       "    </tr>\n",
       "    <tr>\n",
       "      <th>2018-09-05</th>\n",
       "      <td>6792.830078</td>\n",
       "    </tr>\n",
       "    <tr>\n",
       "      <th>2018-09-04</th>\n",
       "      <td>7361.660156</td>\n",
       "    </tr>\n",
       "    <tr>\n",
       "      <th>2018-09-03</th>\n",
       "      <td>7260.060059</td>\n",
       "    </tr>\n",
       "    <tr>\n",
       "      <th>2018-09-02</th>\n",
       "      <td>7272.720215</td>\n",
       "    </tr>\n",
       "  </tbody>\n",
       "</table>\n",
       "<p>219 rows × 1 columns</p>\n",
       "</div>"
      ],
      "text/plain": [
       "               adjClose\n",
       "date                   \n",
       "2019-04-09  5204.958496\n",
       "2019-04-07  5198.896973\n",
       "2019-04-06  5059.817383\n",
       "2019-04-05  5036.681152\n",
       "2019-04-04  4922.798828\n",
       "...                 ...\n",
       "2018-09-06  6529.169922\n",
       "2018-09-05  6792.830078\n",
       "2018-09-04  7361.660156\n",
       "2018-09-03  7260.060059\n",
       "2018-09-02  7272.720215\n",
       "\n",
       "[219 rows x 1 columns]"
      ]
     },
     "execution_count": 22,
     "metadata": {},
     "output_type": "execute_result"
    }
   ],
   "source": [
    "y_test"
   ]
  },
  {
   "cell_type": "markdown",
   "id": "0796ebc0",
   "metadata": {},
   "source": [
    "### Very good R2 score."
   ]
  },
  {
   "cell_type": "code",
   "execution_count": 23,
   "id": "746a4795",
   "metadata": {},
   "outputs": [
    {
     "name": "stdout",
     "output_type": "stream",
     "text": [
      "R2:0.9865577642943877\n"
     ]
    }
   ],
   "source": [
    "y_pred = df_test.shift(1).dropna()\n",
    "print(f\"R2:{r2_score(y_true, y_pred)}\")"
   ]
  },
  {
   "cell_type": "code",
   "execution_count": 24,
   "id": "7924d198",
   "metadata": {},
   "outputs": [
    {
     "name": "stdout",
     "output_type": "stream",
     "text": [
      "MSE = 22039.27\n",
      "MAE = 86.57\n",
      "MAPE = 0.02\n"
     ]
    }
   ],
   "source": [
    "mse = mean_squared_error(y_test, y_pred)\n",
    "mae = mean_absolute_error(y_test, y_pred)\n",
    "mape = mean_absolute_percentage_error(y_true, y_pred)\n",
    "\n",
    "print('MSE =', round(mse, 2))\n",
    "print('MAE =', round(mae, 2))\n",
    "print('MAPE =', round(mape, 2))"
   ]
  },
  {
   "cell_type": "markdown",
   "id": "d433977a",
   "metadata": {},
   "source": [
    "#### Taking a years worth of historic features to predict the current value with 12 auto-regressive features"
   ]
  },
  {
   "cell_type": "code",
   "execution_count": 25,
   "id": "5a6592dc",
   "metadata": {
    "scrolled": true
   },
   "outputs": [
    {
     "data": {
      "text/html": [
       "<div>\n",
       "<style scoped>\n",
       "    .dataframe tbody tr th:only-of-type {\n",
       "        vertical-align: middle;\n",
       "    }\n",
       "\n",
       "    .dataframe tbody tr th {\n",
       "        vertical-align: top;\n",
       "    }\n",
       "\n",
       "    .dataframe thead th {\n",
       "        text-align: right;\n",
       "    }\n",
       "</style>\n",
       "<table border=\"1\" class=\"dataframe\">\n",
       "  <thead>\n",
       "    <tr style=\"text-align: right;\">\n",
       "      <th></th>\n",
       "      <th>adjClose</th>\n",
       "      <th>t - 1</th>\n",
       "      <th>t - 2</th>\n",
       "      <th>t - 3</th>\n",
       "      <th>t - 4</th>\n",
       "      <th>t - 5</th>\n",
       "      <th>t - 6</th>\n",
       "      <th>t - 7</th>\n",
       "      <th>t - 8</th>\n",
       "      <th>t - 9</th>\n",
       "      <th>t - 10</th>\n",
       "      <th>t - 11</th>\n",
       "      <th>t - 12</th>\n",
       "    </tr>\n",
       "    <tr>\n",
       "      <th>date</th>\n",
       "      <th></th>\n",
       "      <th></th>\n",
       "      <th></th>\n",
       "      <th></th>\n",
       "      <th></th>\n",
       "      <th></th>\n",
       "      <th></th>\n",
       "      <th></th>\n",
       "      <th></th>\n",
       "      <th></th>\n",
       "      <th></th>\n",
       "      <th></th>\n",
       "      <th></th>\n",
       "    </tr>\n",
       "  </thead>\n",
       "  <tbody>\n",
       "    <tr>\n",
       "      <th>2021-08-22</th>\n",
       "      <td>49321.652344</td>\n",
       "      <td>49546.148438</td>\n",
       "      <td>47706.117188</td>\n",
       "      <td>48960.789063</td>\n",
       "      <td>46942.218750</td>\n",
       "      <td>49058.667969</td>\n",
       "      <td>48902.402344</td>\n",
       "      <td>48829.832031</td>\n",
       "      <td>47054.984375</td>\n",
       "      <td>47166.687500</td>\n",
       "      <td>48847.027344</td>\n",
       "      <td>49327.722656</td>\n",
       "      <td>49462.562500</td>\n",
       "    </tr>\n",
       "    <tr>\n",
       "      <th>2021-08-21</th>\n",
       "      <td>48905.492188</td>\n",
       "      <td>49321.652344</td>\n",
       "      <td>49546.148438</td>\n",
       "      <td>47706.117188</td>\n",
       "      <td>48960.789063</td>\n",
       "      <td>46942.218750</td>\n",
       "      <td>49058.667969</td>\n",
       "      <td>48902.402344</td>\n",
       "      <td>48829.832031</td>\n",
       "      <td>47054.984375</td>\n",
       "      <td>47166.687500</td>\n",
       "      <td>48847.027344</td>\n",
       "      <td>49327.722656</td>\n",
       "    </tr>\n",
       "    <tr>\n",
       "      <th>2021-08-20</th>\n",
       "      <td>49339.175781</td>\n",
       "      <td>48905.492188</td>\n",
       "      <td>49321.652344</td>\n",
       "      <td>49546.148438</td>\n",
       "      <td>47706.117188</td>\n",
       "      <td>48960.789063</td>\n",
       "      <td>46942.218750</td>\n",
       "      <td>49058.667969</td>\n",
       "      <td>48902.402344</td>\n",
       "      <td>48829.832031</td>\n",
       "      <td>47054.984375</td>\n",
       "      <td>47166.687500</td>\n",
       "      <td>48847.027344</td>\n",
       "    </tr>\n",
       "    <tr>\n",
       "      <th>2021-08-19</th>\n",
       "      <td>46717.578125</td>\n",
       "      <td>49339.175781</td>\n",
       "      <td>48905.492188</td>\n",
       "      <td>49321.652344</td>\n",
       "      <td>49546.148438</td>\n",
       "      <td>47706.117188</td>\n",
       "      <td>48960.789063</td>\n",
       "      <td>46942.218750</td>\n",
       "      <td>49058.667969</td>\n",
       "      <td>48902.402344</td>\n",
       "      <td>48829.832031</td>\n",
       "      <td>47054.984375</td>\n",
       "      <td>47166.687500</td>\n",
       "    </tr>\n",
       "    <tr>\n",
       "      <th>2021-08-18</th>\n",
       "      <td>44801.187500</td>\n",
       "      <td>46717.578125</td>\n",
       "      <td>49339.175781</td>\n",
       "      <td>48905.492188</td>\n",
       "      <td>49321.652344</td>\n",
       "      <td>49546.148438</td>\n",
       "      <td>47706.117188</td>\n",
       "      <td>48960.789063</td>\n",
       "      <td>46942.218750</td>\n",
       "      <td>49058.667969</td>\n",
       "      <td>48902.402344</td>\n",
       "      <td>48829.832031</td>\n",
       "      <td>47054.984375</td>\n",
       "    </tr>\n",
       "  </tbody>\n",
       "</table>\n",
       "</div>"
      ],
      "text/plain": [
       "                adjClose         t - 1         t - 2         t - 3  \\\n",
       "date                                                                 \n",
       "2021-08-22  49321.652344  49546.148438  47706.117188  48960.789063   \n",
       "2021-08-21  48905.492188  49321.652344  49546.148438  47706.117188   \n",
       "2021-08-20  49339.175781  48905.492188  49321.652344  49546.148438   \n",
       "2021-08-19  46717.578125  49339.175781  48905.492188  49321.652344   \n",
       "2021-08-18  44801.187500  46717.578125  49339.175781  48905.492188   \n",
       "\n",
       "                   t - 4         t - 5         t - 6         t - 7  \\\n",
       "date                                                                 \n",
       "2021-08-22  46942.218750  49058.667969  48902.402344  48829.832031   \n",
       "2021-08-21  48960.789063  46942.218750  49058.667969  48902.402344   \n",
       "2021-08-20  47706.117188  48960.789063  46942.218750  49058.667969   \n",
       "2021-08-19  49546.148438  47706.117188  48960.789063  46942.218750   \n",
       "2021-08-18  49321.652344  49546.148438  47706.117188  48960.789063   \n",
       "\n",
       "                   t - 8         t - 9        t - 10        t - 11  \\\n",
       "date                                                                 \n",
       "2021-08-22  47054.984375  47166.687500  48847.027344  49327.722656   \n",
       "2021-08-21  48829.832031  47054.984375  47166.687500  48847.027344   \n",
       "2021-08-20  48902.402344  48829.832031  47054.984375  47166.687500   \n",
       "2021-08-19  49058.667969  48902.402344  48829.832031  47054.984375   \n",
       "2021-08-18  46942.218750  49058.667969  48902.402344  48829.832031   \n",
       "\n",
       "                  t - 12  \n",
       "date                      \n",
       "2021-08-22  49462.562500  \n",
       "2021-08-21  49327.722656  \n",
       "2021-08-20  48847.027344  \n",
       "2021-08-19  47166.687500  \n",
       "2021-08-18  47054.984375  "
      ]
     },
     "execution_count": 25,
     "metadata": {},
     "output_type": "execute_result"
    }
   ],
   "source": [
    "df2 = df_3years.copy()\n",
    "df2_train = df_train.copy() \n",
    "df2_test = df_test.copy()\n",
    "\n",
    "for i in range(1, 13):\n",
    "    df2_train[f't - {i}'] = df_train['adjClose'].shift(i)\n",
    "    df2_test[f't - {i}'] = df_test['adjClose'].shift(i)\n",
    "\n",
    "df2_train.dropna(inplace=True)    \n",
    "df2_test.dropna(inplace=True)    \n",
    "df2_train.head()"
   ]
  },
  {
   "cell_type": "code",
   "execution_count": 26,
   "id": "bfb5e653",
   "metadata": {},
   "outputs": [
    {
     "name": "stdout",
     "output_type": "stream",
     "text": [
      "(866, 12) (866,) (208, 12) (208,)\n"
     ]
    }
   ],
   "source": [
    "# Train Test Split\n",
    "X2_train = df2_train.drop(columns = ['adjClose'])\n",
    "y2_train = df2_train['adjClose']\n",
    "X2_test = df2_test.drop(columns = ['adjClose'])\n",
    "y2_test = df2_test['adjClose']\n",
    "\n",
    "print(X2_train.shape,y2_train.shape, X2_test.shape,y2_test.shape)"
   ]
  },
  {
   "cell_type": "code",
   "execution_count": 27,
   "id": "176892d3",
   "metadata": {},
   "outputs": [],
   "source": [
    "from sklearn.linear_model import LinearRegression\n",
    "from sklearn.ensemble import RandomForestRegressor"
   ]
  },
  {
   "cell_type": "code",
   "execution_count": 28,
   "id": "17d2e2c4",
   "metadata": {},
   "outputs": [],
   "source": [
    "import matplotlib.pyplot as plt"
   ]
  },
  {
   "cell_type": "code",
   "execution_count": 29,
   "id": "87ad039b",
   "metadata": {},
   "outputs": [
    {
     "name": "stdout",
     "output_type": "stream",
     "text": [
      "R2:  0.9883351993054952\n"
     ]
    },
    {
     "data": {
      "image/png": "[encoded data removed]",
      "text/plain": [
       "<Figure size 432x288 with 1 Axes>"
      ]
     },
     "metadata": {
      "needs_background": "light"
     },
     "output_type": "display_data"
    }
   ],
   "source": [
    "model = LinearRegression()\n",
    "model = model.fit(X2_train, y2_train)\n",
    "\n",
    "print('R2: ', r2_score(y2_test, model.predict(X2_test)))\n",
    "pd.Series(model.coef_).plot(kind='bar')\n",
    "plt.title('partial regression coefficients');"
   ]
  },
  {
   "cell_type": "code",
   "execution_count": 30,
   "id": "072b01e9",
   "metadata": {},
   "outputs": [],
   "source": [
    "from statsmodels.tsa.seasonal import seasonal_decompose"
   ]
  },
  {
   "cell_type": "code",
   "execution_count": 31,
   "id": "065050be",
   "metadata": {},
   "outputs": [
    {
     "data": {
      "image/png": "[encoded data removed]",
      "text/plain": [
       "<Figure size 432x288 with 4 Axes>"
      ]
     },
     "metadata": {
      "needs_background": "light"
     },
     "output_type": "display_data"
    }
   ],
   "source": [
    "# Additive Decomposition (y = Trend + Seasonal + Residuals)\n",
    "result_add = seasonal_decompose(df_3years['adjClose'], model='additive')\n",
    "result_add.plot();"
   ]
  },
  {
   "cell_type": "code",
   "execution_count": 32,
   "id": "9dfa5814",
   "metadata": {},
   "outputs": [
    {
     "data": {
      "image/png": "[encoded data removed]",
      "text/plain": [
       "<Figure size 432x288 with 4 Axes>"
      ]
     },
     "metadata": {
      "needs_background": "light"
     },
     "output_type": "display_data"
    }
   ],
   "source": [
    "# Multiplicative Decomposition (y = Trend * Seasonal * Residuals)\n",
    "result_mul = seasonal_decompose(df_3years['adjClose'], model='multiplicative')\n",
    "result_mul.plot();"
   ]
  },
  {
   "cell_type": "markdown",
   "id": "7cc5d711",
   "metadata": {},
   "source": [
    "## Remove essence of time for our modelling, so that we have our residuals which cannot explain at the time."
   ]
  },
  {
   "cell_type": "code",
   "execution_count": 33,
   "id": "b43ae764",
   "metadata": {},
   "outputs": [
    {
     "data": {
      "image/png": "[encoded data removed]",
      "text/plain": [
       "<Figure size 936x216 with 2 Axes>"
      ]
     },
     "metadata": {
      "needs_background": "light"
     },
     "output_type": "display_data"
    }
   ],
   "source": [
    "# Plot the residuals with \"result_add.resid\" to decide\n",
    "f, (ax1, ax2) = plt.subplots(1,2, figsize=(13,3))\n",
    "ax1.plot(result_add.resid); ax1.set_title(\"Additive model residuals\")\n",
    "ax2.plot(result_mul.resid); ax2.set_title(\"Multiplicative model residuals\");"
   ]
  },
  {
   "cell_type": "code",
   "execution_count": 34,
   "id": "f472ce4b",
   "metadata": {},
   "outputs": [
    {
     "data": {
      "text/plain": [
       "0.2779853847729158"
      ]
     },
     "execution_count": 34,
     "metadata": {},
     "output_type": "execute_result"
    }
   ],
   "source": [
    "from statsmodels.tsa.stattools import adfuller\n",
    "adfuller(df_3years.adjClose)[1]"
   ]
  },
  {
   "cell_type": "code",
   "execution_count": 35,
   "id": "9c3a3db0",
   "metadata": {},
   "outputs": [
    {
     "name": "stdout",
     "output_type": "stream",
     "text": [
      "additive resid:  1.2181219601406305e-23\n",
      "multipl resid:  3.636949511332272e-19\n"
     ]
    }
   ],
   "source": [
    "print('additive resid: ', adfuller(result_add.resid.dropna())[1])\n",
    "print('multipl resid: ', adfuller(result_mul.resid.dropna())[1])"
   ]
  },
  {
   "cell_type": "code",
   "execution_count": 36,
   "id": "49df914c",
   "metadata": {},
   "outputs": [],
   "source": [
    "from statsmodels.graphics.tsaplots import plot_acf"
   ]
  },
  {
   "cell_type": "code",
   "execution_count": 37,
   "id": "9cc57d14",
   "metadata": {},
   "outputs": [],
   "source": [
    "from statsmodels.graphics.tsaplots import plot_pacf"
   ]
  },
  {
   "cell_type": "markdown",
   "id": "f4141b9e",
   "metadata": {},
   "source": [
    "## Monthly seasonality, as lags peak around 30th day (Slow exponential decrease)"
   ]
  },
  {
   "cell_type": "code",
   "execution_count": 38,
   "id": "5914340d",
   "metadata": {},
   "outputs": [
    {
     "data": {
      "image/png": "[encoded data removed]",
      "text/plain": [
       "<Figure size 1152x216 with 2 Axes>"
      ]
     },
     "metadata": {
      "needs_background": "light"
     },
     "output_type": "display_data"
    }
   ],
   "source": [
    "fig, axes = plt.subplots(1,2, figsize=(16,3))\n",
    "plot_acf(df_3years.adjClose, lags=100, ax=axes[0]);\n",
    "plot_pacf(df_3years.adjClose, lags=100, ax=axes[1], color='r');"
   ]
  },
  {
   "cell_type": "code",
   "execution_count": 39,
   "id": "4dc0ccd0",
   "metadata": {},
   "outputs": [
    {
     "data": {
      "text/plain": [
       "[<matplotlib.lines.Line2D at 0x1341c3fd0>]"
      ]
     },
     "execution_count": 39,
     "metadata": {},
     "output_type": "execute_result"
    },
    {
     "data": {
      "image/png": "[encoded data removed]",
      "text/plain": [
       "<Figure size 432x288 with 1 Axes>"
      ]
     },
     "metadata": {
      "needs_background": "light"
     },
     "output_type": "display_data"
    }
   ],
   "source": [
    "plt.plot(result_mul.resid)"
   ]
  },
  {
   "cell_type": "code",
   "execution_count": 40,
   "id": "48d15c78",
   "metadata": {},
   "outputs": [
    {
     "data": {
      "text/plain": [
       "<AxesSubplot:ylabel='Density'>"
      ]
     },
     "execution_count": 40,
     "metadata": {},
     "output_type": "execute_result"
    },
    {
     "data": {
      "image/png": "[encoded data removed]",
      "text/plain": [
       "<Figure size 432x288 with 1 Axes>"
      ]
     },
     "metadata": {
      "needs_background": "light"
     },
     "output_type": "display_data"
    }
   ],
   "source": [
    "result_mul.resid.plot(kind='kde')"
   ]
  },
  {
   "cell_type": "code",
   "execution_count": 41,
   "id": "e5061e82",
   "metadata": {},
   "outputs": [
    {
     "data": {
      "image/png": "[encoded data removed]",
      "text/plain": [
       "<Figure size 1440x288 with 4 Axes>"
      ]
     },
     "metadata": {
      "needs_background": "light"
     },
     "output_type": "display_data"
    }
   ],
   "source": [
    "zero_diff = df_3years.adjClose\n",
    "first_order_diff = df_3years.adjClose.diff(1)\n",
    "second_order_diff = df_3years.adjClose.diff(1).diff(1)\n",
    "third_order_diff = df_3years.adjClose.diff(1).diff(1).diff(1)\n",
    "\n",
    "fig, (ax1, ax2, ax3, ax4) = plt.subplots(1, 4, figsize=(20,4))\n",
    "ax1.plot(zero_diff); ax1.set_title('Original Series')\n",
    "ax2.plot(first_order_diff); ax2.set_title('1st Order Differencing')\n",
    "ax3.plot(second_order_diff); ax3.set_title('2nd Order Differencing')\n",
    "ax4.plot(third_order_diff); ax4.set_title('3rd Order Differencing');"
   ]
  },
  {
   "cell_type": "code",
   "execution_count": 42,
   "id": "fe2c00c5",
   "metadata": {},
   "outputs": [
    {
     "name": "stdout",
     "output_type": "stream",
     "text": [
      "p-value zero-diff:  0.2779853847729158\n",
      "p-value first-diff:  3.4848166457290054e-16\n",
      "p-value second-diff:  4.275280808478322e-22\n"
     ]
    }
   ],
   "source": [
    "print('p-value zero-diff: ', adfuller(df_3years['adjClose'])[1])\n",
    "print('p-value first-diff: ', adfuller(df_3years['adjClose'].diff().dropna())[1])\n",
    "print('p-value second-diff: ', adfuller(df_3years['adjClose'].diff().diff().dropna())[1])"
   ]
  },
  {
   "cell_type": "code",
   "execution_count": 43,
   "id": "9f0bdcc6",
   "metadata": {},
   "outputs": [
    {
     "data": {
      "text/plain": [
       "1"
      ]
     },
     "execution_count": 43,
     "metadata": {},
     "output_type": "execute_result"
    }
   ],
   "source": [
    "from pmdarima.arima.utils import ndiffs\n",
    "ndiffs(df_3years['adjClose'])"
   ]
  },
  {
   "cell_type": "code",
   "execution_count": 44,
   "id": "0437c5f8",
   "metadata": {},
   "outputs": [],
   "source": [
    "y_diff = first_order_diff.dropna()"
   ]
  },
  {
   "cell_type": "code",
   "execution_count": 45,
   "id": "4decb98d",
   "metadata": {},
   "outputs": [
    {
     "data": {
      "image/png": "[encoded data removed]",
      "text/plain": [
       "<Figure size 1152x180 with 3 Axes>"
      ]
     },
     "metadata": {
      "needs_background": "light"
     },
     "output_type": "display_data"
    }
   ],
   "source": [
    "fig, axes = plt.subplots(1,3, figsize=(16,2.5))\n",
    "axes[0].plot(y_diff); axes[0].set_title('1st Order Differencing')\n",
    "plot_acf(y_diff, ax=axes[1]);\n",
    "plot_pacf(y_diff, ax=axes[2], c='r');"
   ]
  }
 ],
 "metadata": {
  "kernelspec": {
   "display_name": "Python 3 (ipykernel)",
   "language": "python",
   "name": "python3"
  },
  "language_info": {
   "codemirror_mode": {
    "name": "ipython",
    "version": 3
   },
   "file_extension": ".py",
   "mimetype": "text/x-python",
   "name": "python",
   "nbconvert_exporter": "python",
   "pygments_lexer": "ipython3",
   "version": "3.8.6"
  },
  "toc": {
   "base_numbering": 1,
   "nav_menu": {},
   "number_sections": true,
   "sideBar": true,
   "skip_h1_title": false,
   "title_cell": "Table of Contents",
   "title_sidebar": "Contents",
   "toc_cell": false,
   "toc_position": {},
   "toc_section_display": true,
   "toc_window_display": false
  }
 },
 "nbformat": 4,
 "nbformat_minor": 5
}
