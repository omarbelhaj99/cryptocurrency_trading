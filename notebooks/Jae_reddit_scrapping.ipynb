{
 "cells": [
  {
   "cell_type": "code",
   "execution_count": 1,
   "id": "a219c195",
   "metadata": {},
   "outputs": [
    {
     "data": {
      "text/html": [
       "<style>.container { width:70% !important; }</style>"
      ],
      "text/plain": [
       "<IPython.core.display.HTML object>"
      ]
     },
     "metadata": {},
     "output_type": "display_data"
    }
   ],
   "source": [
    "from IPython.core.display import display, HTML\n",
    "display(HTML('<style>.container { width:70% !important; }</style>'))"
   ]
  },
  {
   "cell_type": "code",
   "execution_count": 15,
   "id": "90f4e9a4",
   "metadata": {},
   "outputs": [],
   "source": [
    "# set maximum displayable columns\n",
    "pd.set_option('display.max_columns', 100)"
   ]
  },
  {
   "cell_type": "code",
   "execution_count": 3,
   "id": "9e3eb9d1",
   "metadata": {},
   "outputs": [],
   "source": [
    "import pandas as pd\n",
    "from pmaw import PushshiftAPI\n",
    "from datetime import datetime\n",
    "from tqdm.notebook import tqdm"
   ]
  },
  {
   "cell_type": "code",
   "execution_count": 4,
   "id": "270bf937",
   "metadata": {},
   "outputs": [],
   "source": [
    "# date eange\n",
    "dt_range = pd.date_range(start = datetime(2018, 1, 1), end = datetime(2021, 8, 31), freq='d')"
   ]
  },
  {
   "cell_type": "code",
   "execution_count": 9,
   "id": "7a3f5732",
   "metadata": {},
   "outputs": [
    {
     "data": {
      "application/vnd.jupyter.widget-view+json": {
       "model_id": "6702146cde8643c2be9031444ad5c00e",
       "version_major": 2,
       "version_minor": 0
      },
      "text/plain": [
       "0it [00:00, ?it/s]"
      ]
     },
     "metadata": {},
     "output_type": "display_data"
    },
    {
     "name": "stderr",
     "output_type": "stream",
     "text": [
      "Not all PushShift shards are active. Query results may be incomplete.\n"
     ]
    },
    {
     "name": "stdout",
     "output_type": "stream",
     "text": [
      "536 result(s) not found in Pushshift\n"
     ]
    },
    {
     "name": "stderr",
     "output_type": "stream",
     "text": [
      "Not all PushShift shards are active. Query results may be incomplete.\n"
     ]
    },
    {
     "name": "stdout",
     "output_type": "stream",
     "text": [
      "Total:: Success Rate: 100.00% - Requests: 10 - Batches: 1 - Items Remaining: 0\n",
      "Retrieved 464 comments from Pushshift--('2018-01-01', '2018-01-02')\n"
     ]
    },
    {
     "name": "stderr",
     "output_type": "stream",
     "text": [
      "Not all PushShift shards are active. Query results may be incomplete.\n"
     ]
    },
    {
     "name": "stdout",
     "output_type": "stream",
     "text": [
      "406 result(s) not found in Pushshift\n"
     ]
    },
    {
     "name": "stderr",
     "output_type": "stream",
     "text": [
      "Not all PushShift shards are active. Query results may be incomplete.\n"
     ]
    },
    {
     "name": "stdout",
     "output_type": "stream",
     "text": [
      "Total:: Success Rate: 100.00% - Requests: 10 - Batches: 1 - Items Remaining: 0\n",
      "Retrieved 594 comments from Pushshift--('2018-01-02', '2018-01-03')\n"
     ]
    }
   ],
   "source": [
    "api = PushshiftAPI()\n",
    "df_list = []\n",
    "pass_counter = 0\n",
    "for idx, date in tqdm(enumerate(dt_range)):\n",
    "    # start date\n",
    "    after = int(dt_range[idx].timestamp())\n",
    "    # end date\n",
    "    before = int(dt_range[idx+1].timestamp())\n",
    "    subreddit=\"bitcoin\"\n",
    "    limit=1000\n",
    "    comments = api.search_submissions(subreddit=subreddit, limit=limit, before=before, after=after)\n",
    "    print(f'Retrieved {len(comments)} comments from Pushshift--{dt_range[idx].strftime(\"%Y-%m-%d\"), dt_range[idx+1].strftime(\"%Y-%m-%d\")}')\n",
    "    try:\n",
    "        df_temp = pd.DataFrame(comments)\n",
    "        df_list.append(df_temp)\n",
    "    except: \n",
    "        pass_counter+=1\n",
    "        print(f\"passing {pass_counter} - {dt_range[idx].strftime('%Y-%m-%d'), dt_range[idx+1].strftime('%Y-%m-%d')}\")\n",
    "df = pd.concat(df_list, axis = 0)\n",
    "df.to_csv('my_result.csv')"
   ]
  },
  {
   "cell_type": "code",
   "execution_count": 14,
   "id": "6b020292",
   "metadata": {
    "scrolled": true
   },
   "outputs": [
    {
     "data": {
      "text/plain": [
       "'https://www.reddit.com/r/Bitcoin/comments/7ndvr9/what_happens_if_ledger_or_trezor_decides_to/'"
      ]
     },
     "execution_count": 14,
     "metadata": {},
     "output_type": "execute_result"
    }
   ],
   "source": [
    "df_list[0]['full_link'][2]"
   ]
  },
  {
   "cell_type": "code",
   "execution_count": 16,
   "id": "c745f920",
   "metadata": {},
   "outputs": [
    {
     "data": {
      "text/plain": [
       "'Maybe this sounds stupid, but I just want to be certain of the safety of these wallets. I know they are the safest with paperwallet but what happens if the servers stop from existing.'"
      ]
     },
     "execution_count": 16,
     "metadata": {},
     "output_type": "execute_result"
    }
   ],
   "source": [
    "df_list[0]['selftext'][2]"
   ]
  },
  {
   "cell_type": "code",
   "execution_count": 18,
   "id": "de4ddd1f",
   "metadata": {},
   "outputs": [
    {
     "data": {
      "text/plain": [
       "'What happens if Ledger or Trezor decides to suddenly stop everything, cut the servers down. Can I still be in control of my coins ?'"
      ]
     },
     "execution_count": 18,
     "metadata": {},
     "output_type": "execute_result"
    }
   ],
   "source": [
    "df_list[0]['title'][2]"
   ]
  },
  {
   "cell_type": "code",
   "execution_count": null,
   "id": "f141f4b5",
   "metadata": {},
   "outputs": [],
   "source": []
  }
 ],
 "metadata": {
  "kernelspec": {
   "display_name": "Python 3 (ipykernel)",
   "language": "python",
   "name": "python3"
  },
  "language_info": {
   "codemirror_mode": {
    "name": "ipython",
    "version": 3
   },
   "file_extension": ".py",
   "mimetype": "text/x-python",
   "name": "python",
   "nbconvert_exporter": "python",
   "pygments_lexer": "ipython3",
   "version": "3.8.6"
  },
  "toc": {
   "base_numbering": 1,
   "nav_menu": {},
   "number_sections": true,
   "sideBar": true,
   "skip_h1_title": false,
   "title_cell": "Table of Contents",
   "title_sidebar": "Contents",
   "toc_cell": false,
   "toc_position": {},
   "toc_section_display": true,
   "toc_window_display": false
  }
 },
 "nbformat": 4,
 "nbformat_minor": 5
}
