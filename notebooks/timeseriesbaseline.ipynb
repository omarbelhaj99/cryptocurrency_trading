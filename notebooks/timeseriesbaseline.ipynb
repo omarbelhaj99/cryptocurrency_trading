{
 "cells": [
  {
   "cell_type": "code",
   "execution_count": 1,
   "id": "9049323e",
   "metadata": {},
   "outputs": [],
   "source": [
    "import requests\n",
    "import pandas as pd\n",
    "import matplotlib.pyplot as plt\n",
    "from sklearn.metrics import mean_squared_error, mean_absolute_error, r2_score, max_error, mean_absolute_percentage_error\n",
    "import math\n",
    "import numpy as np"
   ]
  },
  {
   "cell_type": "code",
   "execution_count": 2,
   "id": "b105a97f",
   "metadata": {},
   "outputs": [],
   "source": [
    "api_key='a58413697e8263de9c95cab92049ea3f'\n",
    "symbol='BTCUSD'\n",
    "query=f'https://financialmodelingprep.com/api/v3/historical-price-full/{symbol}?apikey={api_key}'"
   ]
  },
  {
   "cell_type": "code",
   "execution_count": 3,
   "id": "ec961cf4",
   "metadata": {},
   "outputs": [],
   "source": [
    "response=requests.get(query)"
   ]
  },
  {
   "cell_type": "code",
   "execution_count": 4,
   "id": "78224d47",
   "metadata": {},
   "outputs": [],
   "source": [
    "df = pd.DataFrame(response.json()['historical'])"
   ]
  },
  {
   "cell_type": "code",
   "execution_count": 5,
   "id": "1aedd566",
   "metadata": {},
   "outputs": [
    {
     "data": {
      "text/html": [
       "<div>\n",
       "<style scoped>\n",
       "    .dataframe tbody tr th:only-of-type {\n",
       "        vertical-align: middle;\n",
       "    }\n",
       "\n",
       "    .dataframe tbody tr th {\n",
       "        vertical-align: top;\n",
       "    }\n",
       "\n",
       "    .dataframe thead th {\n",
       "        text-align: right;\n",
       "    }\n",
       "</style>\n",
       "<table border=\"1\" class=\"dataframe\">\n",
       "  <thead>\n",
       "    <tr style=\"text-align: right;\">\n",
       "      <th></th>\n",
       "      <th>date</th>\n",
       "      <th>open</th>\n",
       "      <th>high</th>\n",
       "      <th>low</th>\n",
       "      <th>close</th>\n",
       "      <th>adjClose</th>\n",
       "      <th>volume</th>\n",
       "      <th>unadjustedVolume</th>\n",
       "      <th>change</th>\n",
       "      <th>changePercent</th>\n",
       "      <th>vwap</th>\n",
       "      <th>label</th>\n",
       "      <th>changeOverTime</th>\n",
       "    </tr>\n",
       "  </thead>\n",
       "  <tbody>\n",
       "    <tr>\n",
       "      <th>0</th>\n",
       "      <td>2021-09-03</td>\n",
       "      <td>49341.066406</td>\n",
       "      <td>49462.562500</td>\n",
       "      <td>48457.988281</td>\n",
       "      <td>49462.562500</td>\n",
       "      <td>49462.562500</td>\n",
       "      <td>4.080373e+10</td>\n",
       "      <td>4.080373e+10</td>\n",
       "      <td>121.49609</td>\n",
       "      <td>0.246</td>\n",
       "      <td>49127.70443</td>\n",
       "      <td>September 03, 21</td>\n",
       "      <td>0.00246</td>\n",
       "    </tr>\n",
       "    <tr>\n",
       "      <th>1</th>\n",
       "      <td>2021-09-02</td>\n",
       "      <td>48807.847656</td>\n",
       "      <td>50343.421875</td>\n",
       "      <td>48652.320313</td>\n",
       "      <td>49327.722656</td>\n",
       "      <td>49327.722656</td>\n",
       "      <td>3.950807e+10</td>\n",
       "      <td>3.950807e+10</td>\n",
       "      <td>519.87500</td>\n",
       "      <td>1.065</td>\n",
       "      <td>49441.15495</td>\n",
       "      <td>September 02, 21</td>\n",
       "      <td>0.01065</td>\n",
       "    </tr>\n",
       "    <tr>\n",
       "      <th>2</th>\n",
       "      <td>2021-09-01</td>\n",
       "      <td>47099.773438</td>\n",
       "      <td>49111.089844</td>\n",
       "      <td>46562.437500</td>\n",
       "      <td>48847.027344</td>\n",
       "      <td>48847.027344</td>\n",
       "      <td>3.913940e+10</td>\n",
       "      <td>3.913940e+10</td>\n",
       "      <td>1747.25391</td>\n",
       "      <td>3.710</td>\n",
       "      <td>48173.51823</td>\n",
       "      <td>September 01, 21</td>\n",
       "      <td>0.03710</td>\n",
       "    </tr>\n",
       "    <tr>\n",
       "      <th>3</th>\n",
       "      <td>2021-08-31</td>\n",
       "      <td>47024.339844</td>\n",
       "      <td>48189.550781</td>\n",
       "      <td>46750.093750</td>\n",
       "      <td>47166.687500</td>\n",
       "      <td>47166.687500</td>\n",
       "      <td>3.473036e+10</td>\n",
       "      <td>3.473036e+10</td>\n",
       "      <td>142.34766</td>\n",
       "      <td>0.303</td>\n",
       "      <td>47368.77734</td>\n",
       "      <td>August 31, 21</td>\n",
       "      <td>0.00303</td>\n",
       "    </tr>\n",
       "    <tr>\n",
       "      <th>4</th>\n",
       "      <td>2021-08-30</td>\n",
       "      <td>48834.851563</td>\n",
       "      <td>48925.605469</td>\n",
       "      <td>46950.273438</td>\n",
       "      <td>47054.984375</td>\n",
       "      <td>47054.984375</td>\n",
       "      <td>3.184701e+10</td>\n",
       "      <td>3.184701e+10</td>\n",
       "      <td>-1779.86719</td>\n",
       "      <td>-3.645</td>\n",
       "      <td>47643.62109</td>\n",
       "      <td>August 30, 21</td>\n",
       "      <td>-0.03645</td>\n",
       "    </tr>\n",
       "    <tr>\n",
       "      <th>...</th>\n",
       "      <td>...</td>\n",
       "      <td>...</td>\n",
       "      <td>...</td>\n",
       "      <td>...</td>\n",
       "      <td>...</td>\n",
       "      <td>...</td>\n",
       "      <td>...</td>\n",
       "      <td>...</td>\n",
       "      <td>...</td>\n",
       "      <td>...</td>\n",
       "      <td>...</td>\n",
       "      <td>...</td>\n",
       "      <td>...</td>\n",
       "    </tr>\n",
       "    <tr>\n",
       "      <th>1822</th>\n",
       "      <td>2016-09-07</td>\n",
       "      <td>610.572998</td>\n",
       "      <td>614.544983</td>\n",
       "      <td>608.513000</td>\n",
       "      <td>614.544006</td>\n",
       "      <td>614.544006</td>\n",
       "      <td>7.503240e+07</td>\n",
       "      <td>7.503240e+07</td>\n",
       "      <td>3.97101</td>\n",
       "      <td>0.650</td>\n",
       "      <td>612.53400</td>\n",
       "      <td>September 07, 16</td>\n",
       "      <td>0.00650</td>\n",
       "    </tr>\n",
       "    <tr>\n",
       "      <th>1823</th>\n",
       "      <td>2016-09-06</td>\n",
       "      <td>606.505981</td>\n",
       "      <td>610.830017</td>\n",
       "      <td>605.091003</td>\n",
       "      <td>610.435974</td>\n",
       "      <td>610.435974</td>\n",
       "      <td>7.852910e+07</td>\n",
       "      <td>7.852910e+07</td>\n",
       "      <td>3.92999</td>\n",
       "      <td>0.648</td>\n",
       "      <td>608.78566</td>\n",
       "      <td>September 06, 16</td>\n",
       "      <td>0.00648</td>\n",
       "    </tr>\n",
       "    <tr>\n",
       "      <th>1824</th>\n",
       "      <td>2016-09-05</td>\n",
       "      <td>608.989990</td>\n",
       "      <td>609.054993</td>\n",
       "      <td>602.242004</td>\n",
       "      <td>606.590027</td>\n",
       "      <td>606.590027</td>\n",
       "      <td>8.244680e+07</td>\n",
       "      <td>8.244680e+07</td>\n",
       "      <td>-2.39996</td>\n",
       "      <td>-0.394</td>\n",
       "      <td>605.96234</td>\n",
       "      <td>September 05, 16</td>\n",
       "      <td>-0.00394</td>\n",
       "    </tr>\n",
       "    <tr>\n",
       "      <th>1825</th>\n",
       "      <td>2016-09-04</td>\n",
       "      <td>598.590027</td>\n",
       "      <td>611.836975</td>\n",
       "      <td>596.848022</td>\n",
       "      <td>608.633972</td>\n",
       "      <td>608.633972</td>\n",
       "      <td>9.794290e+07</td>\n",
       "      <td>9.794290e+07</td>\n",
       "      <td>10.04395</td>\n",
       "      <td>1.678</td>\n",
       "      <td>605.77299</td>\n",
       "      <td>September 04, 16</td>\n",
       "      <td>0.01678</td>\n",
       "    </tr>\n",
       "    <tr>\n",
       "      <th>1826</th>\n",
       "      <td>2016-09-03</td>\n",
       "      <td>575.554993</td>\n",
       "      <td>599.500000</td>\n",
       "      <td>574.056030</td>\n",
       "      <td>598.211975</td>\n",
       "      <td>598.211975</td>\n",
       "      <td>1.590140e+08</td>\n",
       "      <td>1.590140e+08</td>\n",
       "      <td>22.65698</td>\n",
       "      <td>3.937</td>\n",
       "      <td>590.58934</td>\n",
       "      <td>September 03, 16</td>\n",
       "      <td>0.03937</td>\n",
       "    </tr>\n",
       "  </tbody>\n",
       "</table>\n",
       "<p>1827 rows × 13 columns</p>\n",
       "</div>"
      ],
      "text/plain": [
       "            date          open          high           low         close  \\\n",
       "0     2021-09-03  49341.066406  49462.562500  48457.988281  49462.562500   \n",
       "1     2021-09-02  48807.847656  50343.421875  48652.320313  49327.722656   \n",
       "2     2021-09-01  47099.773438  49111.089844  46562.437500  48847.027344   \n",
       "3     2021-08-31  47024.339844  48189.550781  46750.093750  47166.687500   \n",
       "4     2021-08-30  48834.851563  48925.605469  46950.273438  47054.984375   \n",
       "...          ...           ...           ...           ...           ...   \n",
       "1822  2016-09-07    610.572998    614.544983    608.513000    614.544006   \n",
       "1823  2016-09-06    606.505981    610.830017    605.091003    610.435974   \n",
       "1824  2016-09-05    608.989990    609.054993    602.242004    606.590027   \n",
       "1825  2016-09-04    598.590027    611.836975    596.848022    608.633972   \n",
       "1826  2016-09-03    575.554993    599.500000    574.056030    598.211975   \n",
       "\n",
       "          adjClose        volume  unadjustedVolume      change  changePercent  \\\n",
       "0     49462.562500  4.080373e+10      4.080373e+10   121.49609          0.246   \n",
       "1     49327.722656  3.950807e+10      3.950807e+10   519.87500          1.065   \n",
       "2     48847.027344  3.913940e+10      3.913940e+10  1747.25391          3.710   \n",
       "3     47166.687500  3.473036e+10      3.473036e+10   142.34766          0.303   \n",
       "4     47054.984375  3.184701e+10      3.184701e+10 -1779.86719         -3.645   \n",
       "...            ...           ...               ...         ...            ...   \n",
       "1822    614.544006  7.503240e+07      7.503240e+07     3.97101          0.650   \n",
       "1823    610.435974  7.852910e+07      7.852910e+07     3.92999          0.648   \n",
       "1824    606.590027  8.244680e+07      8.244680e+07    -2.39996         -0.394   \n",
       "1825    608.633972  9.794290e+07      9.794290e+07    10.04395          1.678   \n",
       "1826    598.211975  1.590140e+08      1.590140e+08    22.65698          3.937   \n",
       "\n",
       "             vwap             label  changeOverTime  \n",
       "0     49127.70443  September 03, 21         0.00246  \n",
       "1     49441.15495  September 02, 21         0.01065  \n",
       "2     48173.51823  September 01, 21         0.03710  \n",
       "3     47368.77734     August 31, 21         0.00303  \n",
       "4     47643.62109     August 30, 21        -0.03645  \n",
       "...           ...               ...             ...  \n",
       "1822    612.53400  September 07, 16         0.00650  \n",
       "1823    608.78566  September 06, 16         0.00648  \n",
       "1824    605.96234  September 05, 16        -0.00394  \n",
       "1825    605.77299  September 04, 16         0.01678  \n",
       "1826    590.58934  September 03, 16         0.03937  \n",
       "\n",
       "[1827 rows x 13 columns]"
      ]
     },
     "execution_count": 5,
     "metadata": {},
     "output_type": "execute_result"
    }
   ],
   "source": [
    "df"
   ]
  },
  {
   "cell_type": "code",
   "execution_count": 6,
   "id": "6211b473",
   "metadata": {},
   "outputs": [],
   "source": [
    "df['date'] = pd.to_datetime(df['date'])"
   ]
  },
  {
   "cell_type": "code",
   "execution_count": 7,
   "id": "e25d33f3",
   "metadata": {},
   "outputs": [],
   "source": [
    "df_2 = df[['date', 'adjClose']]"
   ]
  },
  {
   "cell_type": "code",
   "execution_count": 8,
   "id": "2c987a15",
   "metadata": {},
   "outputs": [
    {
     "data": {
      "text/html": [
       "<div>\n",
       "<style scoped>\n",
       "    .dataframe tbody tr th:only-of-type {\n",
       "        vertical-align: middle;\n",
       "    }\n",
       "\n",
       "    .dataframe tbody tr th {\n",
       "        vertical-align: top;\n",
       "    }\n",
       "\n",
       "    .dataframe thead th {\n",
       "        text-align: right;\n",
       "    }\n",
       "</style>\n",
       "<table border=\"1\" class=\"dataframe\">\n",
       "  <thead>\n",
       "    <tr style=\"text-align: right;\">\n",
       "      <th></th>\n",
       "      <th>date</th>\n",
       "      <th>adjClose</th>\n",
       "    </tr>\n",
       "  </thead>\n",
       "  <tbody>\n",
       "    <tr>\n",
       "      <th>0</th>\n",
       "      <td>2021-09-03</td>\n",
       "      <td>49462.562500</td>\n",
       "    </tr>\n",
       "    <tr>\n",
       "      <th>1</th>\n",
       "      <td>2021-09-02</td>\n",
       "      <td>49327.722656</td>\n",
       "    </tr>\n",
       "    <tr>\n",
       "      <th>2</th>\n",
       "      <td>2021-09-01</td>\n",
       "      <td>48847.027344</td>\n",
       "    </tr>\n",
       "    <tr>\n",
       "      <th>3</th>\n",
       "      <td>2021-08-31</td>\n",
       "      <td>47166.687500</td>\n",
       "    </tr>\n",
       "    <tr>\n",
       "      <th>4</th>\n",
       "      <td>2021-08-30</td>\n",
       "      <td>47054.984375</td>\n",
       "    </tr>\n",
       "    <tr>\n",
       "      <th>...</th>\n",
       "      <td>...</td>\n",
       "      <td>...</td>\n",
       "    </tr>\n",
       "    <tr>\n",
       "      <th>1822</th>\n",
       "      <td>2016-09-07</td>\n",
       "      <td>614.544006</td>\n",
       "    </tr>\n",
       "    <tr>\n",
       "      <th>1823</th>\n",
       "      <td>2016-09-06</td>\n",
       "      <td>610.435974</td>\n",
       "    </tr>\n",
       "    <tr>\n",
       "      <th>1824</th>\n",
       "      <td>2016-09-05</td>\n",
       "      <td>606.590027</td>\n",
       "    </tr>\n",
       "    <tr>\n",
       "      <th>1825</th>\n",
       "      <td>2016-09-04</td>\n",
       "      <td>608.633972</td>\n",
       "    </tr>\n",
       "    <tr>\n",
       "      <th>1826</th>\n",
       "      <td>2016-09-03</td>\n",
       "      <td>598.211975</td>\n",
       "    </tr>\n",
       "  </tbody>\n",
       "</table>\n",
       "<p>1827 rows × 2 columns</p>\n",
       "</div>"
      ],
      "text/plain": [
       "           date      adjClose\n",
       "0    2021-09-03  49462.562500\n",
       "1    2021-09-02  49327.722656\n",
       "2    2021-09-01  48847.027344\n",
       "3    2021-08-31  47166.687500\n",
       "4    2021-08-30  47054.984375\n",
       "...         ...           ...\n",
       "1822 2016-09-07    614.544006\n",
       "1823 2016-09-06    610.435974\n",
       "1824 2016-09-05    606.590027\n",
       "1825 2016-09-04    608.633972\n",
       "1826 2016-09-03    598.211975\n",
       "\n",
       "[1827 rows x 2 columns]"
      ]
     },
     "execution_count": 8,
     "metadata": {},
     "output_type": "execute_result"
    }
   ],
   "source": [
    "df_2"
   ]
  },
  {
   "cell_type": "code",
   "execution_count": 9,
   "id": "e99ddcf1",
   "metadata": {},
   "outputs": [],
   "source": [
    "date = pd.to_datetime('2018-09-01')"
   ]
  },
  {
   "cell_type": "code",
   "execution_count": 10,
   "id": "d22e4cb4",
   "metadata": {},
   "outputs": [],
   "source": [
    "df_3years = df_2[df_2['date']>date]"
   ]
  },
  {
   "cell_type": "code",
   "execution_count": 11,
   "id": "6e38ad65",
   "metadata": {},
   "outputs": [],
   "source": [
    "df_3years = df_3years.set_index('date')"
   ]
  },
  {
   "cell_type": "code",
   "execution_count": 12,
   "id": "2c973ef9",
   "metadata": {},
   "outputs": [
    {
     "data": {
      "text/html": [
       "<div>\n",
       "<style scoped>\n",
       "    .dataframe tbody tr th:only-of-type {\n",
       "        vertical-align: middle;\n",
       "    }\n",
       "\n",
       "    .dataframe tbody tr th {\n",
       "        vertical-align: top;\n",
       "    }\n",
       "\n",
       "    .dataframe thead th {\n",
       "        text-align: right;\n",
       "    }\n",
       "</style>\n",
       "<table border=\"1\" class=\"dataframe\">\n",
       "  <thead>\n",
       "    <tr style=\"text-align: right;\">\n",
       "      <th></th>\n",
       "      <th>adjClose</th>\n",
       "    </tr>\n",
       "    <tr>\n",
       "      <th>date</th>\n",
       "      <th></th>\n",
       "    </tr>\n",
       "  </thead>\n",
       "  <tbody>\n",
       "    <tr>\n",
       "      <th>2021-09-03</th>\n",
       "      <td>49462.562500</td>\n",
       "    </tr>\n",
       "    <tr>\n",
       "      <th>2021-09-02</th>\n",
       "      <td>49327.722656</td>\n",
       "    </tr>\n",
       "    <tr>\n",
       "      <th>2021-09-01</th>\n",
       "      <td>48847.027344</td>\n",
       "    </tr>\n",
       "    <tr>\n",
       "      <th>2021-08-31</th>\n",
       "      <td>47166.687500</td>\n",
       "    </tr>\n",
       "    <tr>\n",
       "      <th>2021-08-30</th>\n",
       "      <td>47054.984375</td>\n",
       "    </tr>\n",
       "    <tr>\n",
       "      <th>...</th>\n",
       "      <td>...</td>\n",
       "    </tr>\n",
       "    <tr>\n",
       "      <th>2018-09-06</th>\n",
       "      <td>6529.169922</td>\n",
       "    </tr>\n",
       "    <tr>\n",
       "      <th>2018-09-05</th>\n",
       "      <td>6792.830078</td>\n",
       "    </tr>\n",
       "    <tr>\n",
       "      <th>2018-09-04</th>\n",
       "      <td>7361.660156</td>\n",
       "    </tr>\n",
       "    <tr>\n",
       "      <th>2018-09-03</th>\n",
       "      <td>7260.060059</td>\n",
       "    </tr>\n",
       "    <tr>\n",
       "      <th>2018-09-02</th>\n",
       "      <td>7272.720215</td>\n",
       "    </tr>\n",
       "  </tbody>\n",
       "</table>\n",
       "<p>1098 rows × 1 columns</p>\n",
       "</div>"
      ],
      "text/plain": [
       "                adjClose\n",
       "date                    \n",
       "2021-09-03  49462.562500\n",
       "2021-09-02  49327.722656\n",
       "2021-09-01  48847.027344\n",
       "2021-08-31  47166.687500\n",
       "2021-08-30  47054.984375\n",
       "...                  ...\n",
       "2018-09-06   6529.169922\n",
       "2018-09-05   6792.830078\n",
       "2018-09-04   7361.660156\n",
       "2018-09-03   7260.060059\n",
       "2018-09-02   7272.720215\n",
       "\n",
       "[1098 rows x 1 columns]"
      ]
     },
     "execution_count": 12,
     "metadata": {},
     "output_type": "execute_result"
    }
   ],
   "source": [
    "df_3years"
   ]
  },
  {
   "cell_type": "code",
   "execution_count": 13,
   "id": "d457674d",
   "metadata": {},
   "outputs": [],
   "source": [
    "y = df_3years.adjClose"
   ]
  },
  {
   "cell_type": "code",
   "execution_count": 14,
   "id": "4764a571",
   "metadata": {},
   "outputs": [
    {
     "data": {
      "text/plain": [
       "<AxesSubplot:xlabel='date'>"
      ]
     },
     "execution_count": 14,
     "metadata": {},
     "output_type": "execute_result"
    },
    {
     "data": {
      "image/png": "[encoded data removed]",
      "text/plain": [
       "<Figure size 432x288 with 1 Axes>"
      ]
     },
     "metadata": {
      "needs_background": "light"
     },
     "output_type": "display_data"
    }
   ],
   "source": [
    "df_3years.plot()"
   ]
  },
  {
   "cell_type": "code",
   "execution_count": 15,
   "id": "b9d650d1",
   "metadata": {},
   "outputs": [],
   "source": [
    "from statsmodels.tsa.stattools import adfuller"
   ]
  },
  {
   "cell_type": "code",
   "execution_count": 16,
   "id": "33df596e",
   "metadata": {},
   "outputs": [
    {
     "name": "stdout",
     "output_type": "stream",
     "text": [
      "p-value:  0.2779853847729158\n"
     ]
    }
   ],
   "source": [
    "# 0 diff\n",
    "print('p-value: ', adfuller(y)[1])"
   ]
  },
  {
   "cell_type": "code",
   "execution_count": 17,
   "id": "914aca9b",
   "metadata": {},
   "outputs": [
    {
     "name": "stdout",
     "output_type": "stream",
     "text": [
      "p-value:  3.398721292426197e-16\n"
     ]
    }
   ],
   "source": [
    "# First diff\n",
    "print('p-value: ', adfuller(y.diff(1).fillna(0))[1])"
   ]
  },
  {
   "cell_type": "code",
   "execution_count": 18,
   "id": "32e79595",
   "metadata": {},
   "outputs": [],
   "source": [
    "from statsmodels.graphics.tsaplots import plot_acf, plot_pacf"
   ]
  },
  {
   "cell_type": "code",
   "execution_count": 19,
   "id": "ad96bf9a",
   "metadata": {},
   "outputs": [
    {
     "data": {
      "image/png": "[encoded data removed]",
      "text/plain": [
       "<Figure size 432x288 with 1 Axes>"
      ]
     },
     "metadata": {
      "needs_background": "light"
     },
     "output_type": "display_data"
    },
    {
     "data": {
      "image/png": "[encoded data removed]",
      "text/plain": [
       "<Figure size 432x288 with 1 Axes>"
      ]
     },
     "metadata": {
      "needs_background": "light"
     },
     "output_type": "display_data"
    }
   ],
   "source": [
    "plot_acf(df_3years['adjClose'], lags=100);\n",
    "plot_pacf(df_3years['adjClose'], lags=100, c='r');"
   ]
  },
  {
   "cell_type": "markdown",
   "id": "0dc4f8f3",
   "metadata": {},
   "source": [
    "## Log-differenced data"
   ]
  },
  {
   "cell_type": "code",
   "execution_count": 20,
   "id": "ef1ea624",
   "metadata": {},
   "outputs": [],
   "source": [
    "log_data = np.log(df_3years['adjClose'])"
   ]
  },
  {
   "cell_type": "code",
   "execution_count": 21,
   "id": "eea0fc1e",
   "metadata": {},
   "outputs": [],
   "source": [
    "log_data_diff = log_data.diff()"
   ]
  },
  {
   "cell_type": "code",
   "execution_count": 22,
   "id": "ab436e08",
   "metadata": {},
   "outputs": [],
   "source": [
    "log_diffed_data = pd.DataFrame(log_data_diff.drop(df_3years.index[0]))"
   ]
  },
  {
   "cell_type": "code",
   "execution_count": 23,
   "id": "ca6a8288",
   "metadata": {},
   "outputs": [
    {
     "data": {
      "text/html": [
       "<div>\n",
       "<style scoped>\n",
       "    .dataframe tbody tr th:only-of-type {\n",
       "        vertical-align: middle;\n",
       "    }\n",
       "\n",
       "    .dataframe tbody tr th {\n",
       "        vertical-align: top;\n",
       "    }\n",
       "\n",
       "    .dataframe thead th {\n",
       "        text-align: right;\n",
       "    }\n",
       "</style>\n",
       "<table border=\"1\" class=\"dataframe\">\n",
       "  <thead>\n",
       "    <tr style=\"text-align: right;\">\n",
       "      <th></th>\n",
       "      <th>adjClose</th>\n",
       "    </tr>\n",
       "    <tr>\n",
       "      <th>date</th>\n",
       "      <th></th>\n",
       "    </tr>\n",
       "  </thead>\n",
       "  <tbody>\n",
       "    <tr>\n",
       "      <th>2021-09-02</th>\n",
       "      <td>-0.002730</td>\n",
       "    </tr>\n",
       "    <tr>\n",
       "      <th>2021-09-01</th>\n",
       "      <td>-0.009793</td>\n",
       "    </tr>\n",
       "    <tr>\n",
       "      <th>2021-08-31</th>\n",
       "      <td>-0.035006</td>\n",
       "    </tr>\n",
       "    <tr>\n",
       "      <th>2021-08-30</th>\n",
       "      <td>-0.002371</td>\n",
       "    </tr>\n",
       "    <tr>\n",
       "      <th>2021-08-29</th>\n",
       "      <td>0.037025</td>\n",
       "    </tr>\n",
       "    <tr>\n",
       "      <th>...</th>\n",
       "      <td>...</td>\n",
       "    </tr>\n",
       "    <tr>\n",
       "      <th>2018-09-06</th>\n",
       "      <td>0.009557</td>\n",
       "    </tr>\n",
       "    <tr>\n",
       "      <th>2018-09-05</th>\n",
       "      <td>0.039588</td>\n",
       "    </tr>\n",
       "    <tr>\n",
       "      <th>2018-09-04</th>\n",
       "      <td>0.080418</td>\n",
       "    </tr>\n",
       "    <tr>\n",
       "      <th>2018-09-03</th>\n",
       "      <td>-0.013897</td>\n",
       "    </tr>\n",
       "    <tr>\n",
       "      <th>2018-09-02</th>\n",
       "      <td>0.001742</td>\n",
       "    </tr>\n",
       "  </tbody>\n",
       "</table>\n",
       "<p>1097 rows × 1 columns</p>\n",
       "</div>"
      ],
      "text/plain": [
       "            adjClose\n",
       "date                \n",
       "2021-09-02 -0.002730\n",
       "2021-09-01 -0.009793\n",
       "2021-08-31 -0.035006\n",
       "2021-08-30 -0.002371\n",
       "2021-08-29  0.037025\n",
       "...              ...\n",
       "2018-09-06  0.009557\n",
       "2018-09-05  0.039588\n",
       "2018-09-04  0.080418\n",
       "2018-09-03 -0.013897\n",
       "2018-09-02  0.001742\n",
       "\n",
       "[1097 rows x 1 columns]"
      ]
     },
     "execution_count": 23,
     "metadata": {},
     "output_type": "execute_result"
    }
   ],
   "source": [
    "log_diffed_data"
   ]
  },
  {
   "cell_type": "code",
   "execution_count": 24,
   "id": "a582c9c0",
   "metadata": {},
   "outputs": [
    {
     "data": {
      "image/png": "[encoded data removed]",
      "text/plain": [
       "<Figure size 432x288 with 1 Axes>"
      ]
     },
     "metadata": {
      "needs_background": "light"
     },
     "output_type": "display_data"
    }
   ],
   "source": [
    "plt.plot(log_diffed_data)\n",
    "plt.title(\"Log Difference of BTC to USD 2018-2021\")\n",
    "plt.show()"
   ]
  },
  {
   "cell_type": "code",
   "execution_count": 25,
   "id": "96b67a80",
   "metadata": {},
   "outputs": [
    {
     "name": "stdout",
     "output_type": "stream",
     "text": [
      "ADF Statistic: -15.314575315102754\n",
      "p-value: 4.142446187366805e-28\n"
     ]
    }
   ],
   "source": [
    "ad_fuller_result = adfuller(log_diffed_data['adjClose'])\n",
    "print(f'ADF Statistic: {ad_fuller_result[0]}')\n",
    "print(f'p-value: {ad_fuller_result[1]}')"
   ]
  },
  {
   "cell_type": "code",
   "execution_count": 26,
   "id": "b94c52f0",
   "metadata": {},
   "outputs": [
    {
     "data": {
      "image/png": "[encoded data removed]",
      "text/plain": [
       "<Figure size 432x288 with 1 Axes>"
      ]
     },
     "metadata": {
      "needs_background": "light"
     },
     "output_type": "display_data"
    },
    {
     "data": {
      "image/png": "[encoded data removed]",
      "text/plain": [
       "<Figure size 432x288 with 1 Axes>"
      ]
     },
     "metadata": {
      "needs_background": "light"
     },
     "output_type": "display_data"
    }
   ],
   "source": [
    "plot_pacf(log_diffed_data['adjClose'], lags=50, c='r');\n",
    "plot_acf(log_diffed_data['adjClose'], lags=50);"
   ]
  },
  {
   "cell_type": "markdown",
   "id": "0f0b4148",
   "metadata": {},
   "source": [
    "## Differencing "
   ]
  },
  {
   "cell_type": "code",
   "execution_count": 27,
   "id": "0a6d7d0b",
   "metadata": {},
   "outputs": [
    {
     "data": {
      "image/png": "[encoded data removed]",
      "text/plain": [
       "<Figure size 936x720 with 6 Axes>"
      ]
     },
     "metadata": {
      "needs_background": "light"
     },
     "output_type": "display_data"
    }
   ],
   "source": [
    "# Original Series\n",
    "fig, axes = plt.subplots(3, 2, figsize=(13,10))\n",
    "axes[0, 0].plot(y); axes[0, 0].set_title('Original Series')\n",
    "plot_acf(y, lags=100, ax=axes[0, 1], c='r')\n",
    "\n",
    "# 1st Differencing\n",
    "axes[1, 0].plot(y.diff()); axes[1, 0].set_title('1st Order Differencing')\n",
    "plot_acf(y.diff().dropna(), lags=50, ax=axes[1, 1], c='r')\n",
    "\n",
    "# 2nd Differencing \n",
    "axes[2, 0].plot(y.diff().diff()); axes[2, 0].set_title('2nd Order Differencing')\n",
    "plot_acf(y.diff().diff().dropna(), lags=50, ax=axes[2, 1], c='r')\n",
    "\n",
    "plt.show()"
   ]
  },
  {
   "cell_type": "code",
   "execution_count": 28,
   "id": "e661f0bb",
   "metadata": {},
   "outputs": [],
   "source": [
    "y_diff = y.diff().dropna()"
   ]
  },
  {
   "cell_type": "code",
   "execution_count": 29,
   "id": "5ffffafa",
   "metadata": {},
   "outputs": [
    {
     "data": {
      "image/png": "[encoded data removed]",
      "text/plain": [
       "<Figure size 432x288 with 1 Axes>"
      ]
     },
     "metadata": {
      "needs_background": "light"
     },
     "output_type": "display_data"
    }
   ],
   "source": [
    "plot_acf(y_diff);"
   ]
  },
  {
   "cell_type": "code",
   "execution_count": 30,
   "id": "3e3d24c5",
   "metadata": {},
   "outputs": [
    {
     "data": {
      "image/png": "[encoded data removed]",
      "text/plain": [
       "<Figure size 432x288 with 1 Axes>"
      ]
     },
     "metadata": {
      "needs_background": "light"
     },
     "output_type": "display_data"
    }
   ],
   "source": [
    "plot_pacf(y_diff, c='r');"
   ]
  },
  {
   "cell_type": "markdown",
   "id": "630f899e",
   "metadata": {},
   "source": [
    "## Train/Test split"
   ]
  },
  {
   "cell_type": "code",
   "execution_count": 31,
   "id": "e580745a",
   "metadata": {},
   "outputs": [],
   "source": [
    "train = df_3years[:878]"
   ]
  },
  {
   "cell_type": "code",
   "execution_count": 32,
   "id": "845fbf52",
   "metadata": {},
   "outputs": [
    {
     "data": {
      "text/html": [
       "<div>\n",
       "<style scoped>\n",
       "    .dataframe tbody tr th:only-of-type {\n",
       "        vertical-align: middle;\n",
       "    }\n",
       "\n",
       "    .dataframe tbody tr th {\n",
       "        vertical-align: top;\n",
       "    }\n",
       "\n",
       "    .dataframe thead th {\n",
       "        text-align: right;\n",
       "    }\n",
       "</style>\n",
       "<table border=\"1\" class=\"dataframe\">\n",
       "  <thead>\n",
       "    <tr style=\"text-align: right;\">\n",
       "      <th></th>\n",
       "      <th>adjClose</th>\n",
       "    </tr>\n",
       "    <tr>\n",
       "      <th>date</th>\n",
       "      <th></th>\n",
       "    </tr>\n",
       "  </thead>\n",
       "  <tbody>\n",
       "    <tr>\n",
       "      <th>2021-09-03</th>\n",
       "      <td>49462.562500</td>\n",
       "    </tr>\n",
       "    <tr>\n",
       "      <th>2021-09-02</th>\n",
       "      <td>49327.722656</td>\n",
       "    </tr>\n",
       "    <tr>\n",
       "      <th>2021-09-01</th>\n",
       "      <td>48847.027344</td>\n",
       "    </tr>\n",
       "    <tr>\n",
       "      <th>2021-08-31</th>\n",
       "      <td>47166.687500</td>\n",
       "    </tr>\n",
       "    <tr>\n",
       "      <th>2021-08-30</th>\n",
       "      <td>47054.984375</td>\n",
       "    </tr>\n",
       "    <tr>\n",
       "      <th>...</th>\n",
       "      <td>...</td>\n",
       "    </tr>\n",
       "    <tr>\n",
       "      <th>2019-04-14</th>\n",
       "      <td>5167.722168</td>\n",
       "    </tr>\n",
       "    <tr>\n",
       "      <th>2019-04-13</th>\n",
       "      <td>5096.586426</td>\n",
       "    </tr>\n",
       "    <tr>\n",
       "      <th>2019-04-12</th>\n",
       "      <td>5089.539063</td>\n",
       "    </tr>\n",
       "    <tr>\n",
       "      <th>2019-04-11</th>\n",
       "      <td>5064.487793</td>\n",
       "    </tr>\n",
       "    <tr>\n",
       "      <th>2019-04-10</th>\n",
       "      <td>5324.551758</td>\n",
       "    </tr>\n",
       "  </tbody>\n",
       "</table>\n",
       "<p>878 rows × 1 columns</p>\n",
       "</div>"
      ],
      "text/plain": [
       "                adjClose\n",
       "date                    \n",
       "2021-09-03  49462.562500\n",
       "2021-09-02  49327.722656\n",
       "2021-09-01  48847.027344\n",
       "2021-08-31  47166.687500\n",
       "2021-08-30  47054.984375\n",
       "...                  ...\n",
       "2019-04-14   5167.722168\n",
       "2019-04-13   5096.586426\n",
       "2019-04-12   5089.539063\n",
       "2019-04-11   5064.487793\n",
       "2019-04-10   5324.551758\n",
       "\n",
       "[878 rows x 1 columns]"
      ]
     },
     "execution_count": 32,
     "metadata": {},
     "output_type": "execute_result"
    }
   ],
   "source": [
    "train"
   ]
  },
  {
   "cell_type": "code",
   "execution_count": 33,
   "id": "8f8ff076",
   "metadata": {},
   "outputs": [],
   "source": [
    "test = df_3years[878:]"
   ]
  },
  {
   "cell_type": "code",
   "execution_count": 34,
   "id": "6476d81a",
   "metadata": {},
   "outputs": [
    {
     "data": {
      "text/html": [
       "<div>\n",
       "<style scoped>\n",
       "    .dataframe tbody tr th:only-of-type {\n",
       "        vertical-align: middle;\n",
       "    }\n",
       "\n",
       "    .dataframe tbody tr th {\n",
       "        vertical-align: top;\n",
       "    }\n",
       "\n",
       "    .dataframe thead th {\n",
       "        text-align: right;\n",
       "    }\n",
       "</style>\n",
       "<table border=\"1\" class=\"dataframe\">\n",
       "  <thead>\n",
       "    <tr style=\"text-align: right;\">\n",
       "      <th></th>\n",
       "      <th>adjClose</th>\n",
       "    </tr>\n",
       "    <tr>\n",
       "      <th>date</th>\n",
       "      <th></th>\n",
       "    </tr>\n",
       "  </thead>\n",
       "  <tbody>\n",
       "    <tr>\n",
       "      <th>2019-04-09</th>\n",
       "      <td>5204.958496</td>\n",
       "    </tr>\n",
       "    <tr>\n",
       "      <th>2019-04-08</th>\n",
       "      <td>5289.770996</td>\n",
       "    </tr>\n",
       "    <tr>\n",
       "      <th>2019-04-07</th>\n",
       "      <td>5198.896973</td>\n",
       "    </tr>\n",
       "    <tr>\n",
       "      <th>2019-04-06</th>\n",
       "      <td>5059.817383</td>\n",
       "    </tr>\n",
       "    <tr>\n",
       "      <th>2019-04-05</th>\n",
       "      <td>5036.681152</td>\n",
       "    </tr>\n",
       "    <tr>\n",
       "      <th>...</th>\n",
       "      <td>...</td>\n",
       "    </tr>\n",
       "    <tr>\n",
       "      <th>2018-09-06</th>\n",
       "      <td>6529.169922</td>\n",
       "    </tr>\n",
       "    <tr>\n",
       "      <th>2018-09-05</th>\n",
       "      <td>6792.830078</td>\n",
       "    </tr>\n",
       "    <tr>\n",
       "      <th>2018-09-04</th>\n",
       "      <td>7361.660156</td>\n",
       "    </tr>\n",
       "    <tr>\n",
       "      <th>2018-09-03</th>\n",
       "      <td>7260.060059</td>\n",
       "    </tr>\n",
       "    <tr>\n",
       "      <th>2018-09-02</th>\n",
       "      <td>7272.720215</td>\n",
       "    </tr>\n",
       "  </tbody>\n",
       "</table>\n",
       "<p>220 rows × 1 columns</p>\n",
       "</div>"
      ],
      "text/plain": [
       "               adjClose\n",
       "date                   \n",
       "2019-04-09  5204.958496\n",
       "2019-04-08  5289.770996\n",
       "2019-04-07  5198.896973\n",
       "2019-04-06  5059.817383\n",
       "2019-04-05  5036.681152\n",
       "...                 ...\n",
       "2018-09-06  6529.169922\n",
       "2018-09-05  6792.830078\n",
       "2018-09-04  7361.660156\n",
       "2018-09-03  7260.060059\n",
       "2018-09-02  7272.720215\n",
       "\n",
       "[220 rows x 1 columns]"
      ]
     },
     "execution_count": 34,
     "metadata": {},
     "output_type": "execute_result"
    }
   ],
   "source": [
    "test"
   ]
  },
  {
   "cell_type": "markdown",
   "id": "5183b3df",
   "metadata": {},
   "source": [
    "## ARIMA ON DF"
   ]
  },
  {
   "cell_type": "code",
   "execution_count": 35,
   "id": "331b93cd",
   "metadata": {},
   "outputs": [
    {
     "name": "stderr",
     "output_type": "stream",
     "text": [
      "/Users/guillaumetrounson/.pyenv/versions/3.8.6/envs/cryptocurrency_trading/lib/python3.8/site-packages/statsmodels/tsa/arima_model.py:472: FutureWarning: \n",
      "statsmodels.tsa.arima_model.ARMA and statsmodels.tsa.arima_model.ARIMA have\n",
      "been deprecated in favor of statsmodels.tsa.arima.model.ARIMA (note the .\n",
      "between arima and model) and\n",
      "statsmodels.tsa.SARIMAX. These will be removed after the 0.12 release.\n",
      "\n",
      "statsmodels.tsa.arima.model.ARIMA makes use of the statespace framework and\n",
      "is both well tested and maintained.\n",
      "\n",
      "To silence this warning and continue using ARMA and ARIMA until they are\n",
      "removed, use:\n",
      "\n",
      "import warnings\n",
      "warnings.filterwarnings('ignore', 'statsmodels.tsa.arima_model.ARMA',\n",
      "                        FutureWarning)\n",
      "warnings.filterwarnings('ignore', 'statsmodels.tsa.arima_model.ARIMA',\n",
      "                        FutureWarning)\n",
      "\n",
      "  warnings.warn(ARIMA_DEPRECATION_WARN, FutureWarning)\n",
      "/Users/guillaumetrounson/.pyenv/versions/3.8.6/envs/cryptocurrency_trading/lib/python3.8/site-packages/statsmodels/tsa/base/tsa_model.py:524: ValueWarning: No frequency information was provided, so inferred frequency -1D will be used.\n",
      "  warnings.warn('No frequency information was'\n",
      "/Users/guillaumetrounson/.pyenv/versions/3.8.6/envs/cryptocurrency_trading/lib/python3.8/site-packages/statsmodels/tsa/base/tsa_model.py:585: ValueWarning: A date index has been provided, but it is not monotonic and so will be ignored when e.g. forecasting.\n",
      "  warnings.warn('A date index has been provided, but it is not'\n",
      "/Users/guillaumetrounson/.pyenv/versions/3.8.6/envs/cryptocurrency_trading/lib/python3.8/site-packages/statsmodels/tsa/base/tsa_model.py:524: ValueWarning: No frequency information was provided, so inferred frequency -1D will be used.\n",
      "  warnings.warn('No frequency information was'\n",
      "/Users/guillaumetrounson/.pyenv/versions/3.8.6/envs/cryptocurrency_trading/lib/python3.8/site-packages/statsmodels/tsa/base/tsa_model.py:585: ValueWarning: A date index has been provided, but it is not monotonic and so will be ignored when e.g. forecasting.\n",
      "  warnings.warn('A date index has been provided, but it is not'\n",
      " This problem is unconstrained.\n"
     ]
    },
    {
     "name": "stdout",
     "output_type": "stream",
     "text": [
      "RUNNING THE L-BFGS-B CODE\n",
      "\n",
      "           * * *\n",
      "\n",
      "Machine precision = 2.220D-16\n",
      " N =            3     M =           12\n",
      "\n",
      "At X0         0 variables are exactly at the bounds\n",
      "\n",
      "At iterate    0    f=  8.28548D+00    |proj g|=  5.96856D-05\n",
      "\n",
      "At iterate    5    f=  8.28548D+00    |proj g|=  2.02505D-05\n",
      "\n",
      "At iterate   10    f=  8.28548D+00    |proj g|=  1.77636D-07\n",
      "\n",
      "           * * *\n",
      "\n",
      "Tit   = total number of iterations\n",
      "Tnf   = total number of function evaluations\n",
      "Tnint = total number of segments explored during Cauchy searches\n",
      "Skip  = number of BFGS updates skipped\n",
      "Nact  = number of active bounds at final generalized Cauchy point\n",
      "Projg = norm of the final projected gradient\n",
      "F     = final function value\n",
      "\n",
      "           * * *\n",
      "\n",
      "   N    Tit     Tnf  Tnint  Skip  Nact     Projg        F\n",
      "    3     11     15      1     0     0   1.776D-07   8.285D+00\n",
      "  F =   8.2854797187341322     \n",
      "\n",
      "CONVERGENCE: REL_REDUCTION_OF_F_<=_FACTR*EPSMCH             \n"
     ]
    },
    {
     "data": {
      "text/html": [
       "<table class=\"simpletable\">\n",
       "<caption>ARIMA Model Results</caption>\n",
       "<tr>\n",
       "  <th>Dep. Variable:</th>    <td>D.adjClose</td>    <th>  No. Observations:  </th>   <td>1097</td>   \n",
       "</tr>\n",
       "<tr>\n",
       "  <th>Model:</th>          <td>ARIMA(1, 1, 1)</td>  <th>  Log Likelihood     </th> <td>-9089.171</td>\n",
       "</tr>\n",
       "<tr>\n",
       "  <th>Method:</th>             <td>css-mle</td>     <th>  S.D. of innovations</th>  <td>959.618</td> \n",
       "</tr>\n",
       "<tr>\n",
       "  <th>Date:</th>          <td>Fri, 03 Sep 2021</td> <th>  AIC                </th> <td>18186.343</td>\n",
       "</tr>\n",
       "<tr>\n",
       "  <th>Time:</th>              <td>09:32:56</td>     <th>  BIC                </th> <td>18206.344</td>\n",
       "</tr>\n",
       "<tr>\n",
       "  <th>Sample:</th>                <td>1</td>        <th>  HQIC               </th> <td>18193.910</td>\n",
       "</tr>\n",
       "<tr>\n",
       "  <th></th>                       <td> </td>        <th>                     </th>     <td> </td>    \n",
       "</tr>\n",
       "</table>\n",
       "<table class=\"simpletable\">\n",
       "<tr>\n",
       "          <td></td>            <th>coef</th>     <th>std err</th>      <th>z</th>      <th>P>|z|</th>  <th>[0.025</th>    <th>0.975]</th>  \n",
       "</tr>\n",
       "<tr>\n",
       "  <th>const</th>            <td>  -38.4591</td> <td>   27.489</td> <td>   -1.399</td> <td> 0.162</td> <td>  -92.337</td> <td>   15.418</td>\n",
       "</tr>\n",
       "<tr>\n",
       "  <th>ar.L1.D.adjClose</th> <td>   -0.5841</td> <td>    0.173</td> <td>   -3.375</td> <td> 0.001</td> <td>   -0.923</td> <td>   -0.245</td>\n",
       "</tr>\n",
       "<tr>\n",
       "  <th>ma.L1.D.adjClose</th> <td>    0.5029</td> <td>    0.184</td> <td>    2.738</td> <td> 0.006</td> <td>    0.143</td> <td>    0.863</td>\n",
       "</tr>\n",
       "</table>\n",
       "<table class=\"simpletable\">\n",
       "<caption>Roots</caption>\n",
       "<tr>\n",
       "    <td></td>   <th>            Real</th>  <th>         Imaginary</th> <th>         Modulus</th>  <th>        Frequency</th>\n",
       "</tr>\n",
       "<tr>\n",
       "  <th>AR.1</th> <td>          -1.7120</td> <td>          +0.0000j</td> <td>           1.7120</td> <td>           0.5000</td>\n",
       "</tr>\n",
       "<tr>\n",
       "  <th>MA.1</th> <td>          -1.9883</td> <td>          +0.0000j</td> <td>           1.9883</td> <td>           0.5000</td>\n",
       "</tr>\n",
       "</table>"
      ],
      "text/plain": [
       "<class 'statsmodels.iolib.summary.Summary'>\n",
       "\"\"\"\n",
       "                             ARIMA Model Results                              \n",
       "==============================================================================\n",
       "Dep. Variable:             D.adjClose   No. Observations:                 1097\n",
       "Model:                 ARIMA(1, 1, 1)   Log Likelihood               -9089.171\n",
       "Method:                       css-mle   S.D. of innovations            959.618\n",
       "Date:                Fri, 03 Sep 2021   AIC                          18186.343\n",
       "Time:                        09:32:56   BIC                          18206.344\n",
       "Sample:                             1   HQIC                         18193.910\n",
       "                                                                              \n",
       "====================================================================================\n",
       "                       coef    std err          z      P>|z|      [0.025      0.975]\n",
       "------------------------------------------------------------------------------------\n",
       "const              -38.4591     27.489     -1.399      0.162     -92.337      15.418\n",
       "ar.L1.D.adjClose    -0.5841      0.173     -3.375      0.001      -0.923      -0.245\n",
       "ma.L1.D.adjClose     0.5029      0.184      2.738      0.006       0.143       0.863\n",
       "                                    Roots                                    \n",
       "=============================================================================\n",
       "                  Real          Imaginary           Modulus         Frequency\n",
       "-----------------------------------------------------------------------------\n",
       "AR.1           -1.7120           +0.0000j            1.7120            0.5000\n",
       "MA.1           -1.9883           +0.0000j            1.9883            0.5000\n",
       "-----------------------------------------------------------------------------\n",
       "\"\"\""
      ]
     },
     "execution_count": 35,
     "metadata": {},
     "output_type": "execute_result"
    }
   ],
   "source": [
    "from statsmodels.tsa.arima_model import ARIMA\n",
    "# 1. initialize the model\n",
    "arima = ARIMA(y, order=(1, 1, 1))\n",
    "\n",
    "# 2. fit the models\n",
    "arima = arima.fit()\n",
    "\n",
    "arima.summary()"
   ]
  },
  {
   "cell_type": "markdown",
   "id": "77e568d7",
   "metadata": {},
   "source": [
    "## ARIMA ON TRAIN DF"
   ]
  },
  {
   "cell_type": "code",
   "execution_count": 36,
   "id": "8001d6c4",
   "metadata": {},
   "outputs": [
    {
     "name": "stderr",
     "output_type": "stream",
     "text": [
      "/Users/guillaumetrounson/.pyenv/versions/3.8.6/envs/cryptocurrency_trading/lib/python3.8/site-packages/statsmodels/tsa/arima_model.py:472: FutureWarning: \n",
      "statsmodels.tsa.arima_model.ARMA and statsmodels.tsa.arima_model.ARIMA have\n",
      "been deprecated in favor of statsmodels.tsa.arima.model.ARIMA (note the .\n",
      "between arima and model) and\n",
      "statsmodels.tsa.SARIMAX. These will be removed after the 0.12 release.\n",
      "\n",
      "statsmodels.tsa.arima.model.ARIMA makes use of the statespace framework and\n",
      "is both well tested and maintained.\n",
      "\n",
      "To silence this warning and continue using ARMA and ARIMA until they are\n",
      "removed, use:\n",
      "\n",
      "import warnings\n",
      "warnings.filterwarnings('ignore', 'statsmodels.tsa.arima_model.ARMA',\n",
      "                        FutureWarning)\n",
      "warnings.filterwarnings('ignore', 'statsmodels.tsa.arima_model.ARIMA',\n",
      "                        FutureWarning)\n",
      "\n",
      "  warnings.warn(ARIMA_DEPRECATION_WARN, FutureWarning)\n",
      "/Users/guillaumetrounson/.pyenv/versions/3.8.6/envs/cryptocurrency_trading/lib/python3.8/site-packages/statsmodels/tsa/base/tsa_model.py:524: ValueWarning: No frequency information was provided, so inferred frequency -1D will be used.\n",
      "  warnings.warn('No frequency information was'\n",
      "/Users/guillaumetrounson/.pyenv/versions/3.8.6/envs/cryptocurrency_trading/lib/python3.8/site-packages/statsmodels/tsa/base/tsa_model.py:585: ValueWarning: A date index has been provided, but it is not monotonic and so will be ignored when e.g. forecasting.\n",
      "  warnings.warn('A date index has been provided, but it is not'\n",
      "/Users/guillaumetrounson/.pyenv/versions/3.8.6/envs/cryptocurrency_trading/lib/python3.8/site-packages/statsmodels/tsa/base/tsa_model.py:524: ValueWarning: No frequency information was provided, so inferred frequency -1D will be used.\n",
      "  warnings.warn('No frequency information was'\n",
      "/Users/guillaumetrounson/.pyenv/versions/3.8.6/envs/cryptocurrency_trading/lib/python3.8/site-packages/statsmodels/tsa/base/tsa_model.py:585: ValueWarning: A date index has been provided, but it is not monotonic and so will be ignored when e.g. forecasting.\n",
      "  warnings.warn('A date index has been provided, but it is not'\n",
      " This problem is unconstrained.\n"
     ]
    },
    {
     "name": "stdout",
     "output_type": "stream",
     "text": [
      "RUNNING THE L-BFGS-B CODE\n",
      "\n",
      "           * * *\n",
      "\n",
      "Machine precision = 2.220D-16\n",
      " N =            3     M =           12\n",
      "\n",
      "At X0         0 variables are exactly at the bounds\n",
      "\n",
      "At iterate    0    f=  8.39463D+00    |proj g|=  7.19425D-05\n",
      "\n",
      "At iterate    5    f=  8.39463D+00    |proj g|=  5.32907D-06\n",
      "\n",
      "           * * *\n",
      "\n",
      "Tit   = total number of iterations\n",
      "Tnf   = total number of function evaluations\n",
      "Tnint = total number of segments explored during Cauchy searches\n",
      "Skip  = number of BFGS updates skipped\n",
      "Nact  = number of active bounds at final generalized Cauchy point\n",
      "Projg = norm of the final projected gradient\n",
      "F     = final function value\n",
      "\n",
      "           * * *\n",
      "\n",
      "   N    Tit     Tnf  Tnint  Skip  Nact     Projg        F\n",
      "    3      7     18      1     0     0   1.776D-07   8.395D+00\n",
      "  F =   8.3946292285012891     \n",
      "\n",
      "CONVERGENCE: REL_REDUCTION_OF_F_<=_FACTR*EPSMCH             \n"
     ]
    },
    {
     "data": {
      "text/html": [
       "<table class=\"simpletable\">\n",
       "<caption>ARIMA Model Results</caption>\n",
       "<tr>\n",
       "  <th>Dep. Variable:</th>    <td>D.adjClose</td>    <th>  No. Observations:  </th>    <td>877</td>   \n",
       "</tr>\n",
       "<tr>\n",
       "  <th>Model:</th>          <td>ARIMA(1, 1, 1)</td>  <th>  Log Likelihood     </th> <td>-7362.090</td>\n",
       "</tr>\n",
       "<tr>\n",
       "  <th>Method:</th>             <td>css-mle</td>     <th>  S.D. of innovations</th> <td>1070.288</td> \n",
       "</tr>\n",
       "<tr>\n",
       "  <th>Date:</th>          <td>Fri, 03 Sep 2021</td> <th>  AIC                </th> <td>14732.180</td>\n",
       "</tr>\n",
       "<tr>\n",
       "  <th>Time:</th>              <td>09:32:57</td>     <th>  BIC                </th> <td>14751.286</td>\n",
       "</tr>\n",
       "<tr>\n",
       "  <th>Sample:</th>                <td>1</td>        <th>  HQIC               </th> <td>14739.487</td>\n",
       "</tr>\n",
       "<tr>\n",
       "  <th></th>                       <td> </td>        <th>                     </th>     <td> </td>    \n",
       "</tr>\n",
       "</table>\n",
       "<table class=\"simpletable\">\n",
       "<tr>\n",
       "          <td></td>            <th>coef</th>     <th>std err</th>      <th>z</th>      <th>P>|z|</th>  <th>[0.025</th>    <th>0.975]</th>  \n",
       "</tr>\n",
       "<tr>\n",
       "  <th>const</th>            <td>  -50.3284</td> <td>   34.273</td> <td>   -1.468</td> <td> 0.142</td> <td> -117.502</td> <td>   16.845</td>\n",
       "</tr>\n",
       "<tr>\n",
       "  <th>ar.L1.D.adjClose</th> <td>   -0.5836</td> <td>    0.193</td> <td>   -3.024</td> <td> 0.002</td> <td>   -0.962</td> <td>   -0.205</td>\n",
       "</tr>\n",
       "<tr>\n",
       "  <th>ma.L1.D.adjClose</th> <td>    0.5017</td> <td>    0.205</td> <td>    2.448</td> <td> 0.014</td> <td>    0.100</td> <td>    0.903</td>\n",
       "</tr>\n",
       "</table>\n",
       "<table class=\"simpletable\">\n",
       "<caption>Roots</caption>\n",
       "<tr>\n",
       "    <td></td>   <th>            Real</th>  <th>         Imaginary</th> <th>         Modulus</th>  <th>        Frequency</th>\n",
       "</tr>\n",
       "<tr>\n",
       "  <th>AR.1</th> <td>          -1.7135</td> <td>          +0.0000j</td> <td>           1.7135</td> <td>           0.5000</td>\n",
       "</tr>\n",
       "<tr>\n",
       "  <th>MA.1</th> <td>          -1.9933</td> <td>          +0.0000j</td> <td>           1.9933</td> <td>           0.5000</td>\n",
       "</tr>\n",
       "</table>"
      ],
      "text/plain": [
       "<class 'statsmodels.iolib.summary.Summary'>\n",
       "\"\"\"\n",
       "                             ARIMA Model Results                              \n",
       "==============================================================================\n",
       "Dep. Variable:             D.adjClose   No. Observations:                  877\n",
       "Model:                 ARIMA(1, 1, 1)   Log Likelihood               -7362.090\n",
       "Method:                       css-mle   S.D. of innovations           1070.288\n",
       "Date:                Fri, 03 Sep 2021   AIC                          14732.180\n",
       "Time:                        09:32:57   BIC                          14751.286\n",
       "Sample:                             1   HQIC                         14739.487\n",
       "                                                                              \n",
       "====================================================================================\n",
       "                       coef    std err          z      P>|z|      [0.025      0.975]\n",
       "------------------------------------------------------------------------------------\n",
       "const              -50.3284     34.273     -1.468      0.142    -117.502      16.845\n",
       "ar.L1.D.adjClose    -0.5836      0.193     -3.024      0.002      -0.962      -0.205\n",
       "ma.L1.D.adjClose     0.5017      0.205      2.448      0.014       0.100       0.903\n",
       "                                    Roots                                    \n",
       "=============================================================================\n",
       "                  Real          Imaginary           Modulus         Frequency\n",
       "-----------------------------------------------------------------------------\n",
       "AR.1           -1.7135           +0.0000j            1.7135            0.5000\n",
       "MA.1           -1.9933           +0.0000j            1.9933            0.5000\n",
       "-----------------------------------------------------------------------------\n",
       "\"\"\""
      ]
     },
     "execution_count": 36,
     "metadata": {},
     "output_type": "execute_result"
    }
   ],
   "source": [
    "arima_train = ARIMA(train, order=(1, 1, 1)).fit()\n",
    "arima_train.summary()"
   ]
  },
  {
   "cell_type": "code",
   "execution_count": 37,
   "id": "5ecad3e2",
   "metadata": {},
   "outputs": [
    {
     "name": "stdout",
     "output_type": "stream",
     "text": [
      "Performing stepwise search to minimize aic\n",
      " ARIMA(0,1,0)(0,0,0)[0] intercept   : AIC=14737.077, Time=0.08 sec\n",
      " ARIMA(1,1,0)(0,0,0)[0] intercept   : AIC=14735.631, Time=0.09 sec\n",
      " ARIMA(0,1,1)(0,0,0)[0] intercept   : AIC=14735.895, Time=0.11 sec\n",
      " ARIMA(0,1,0)(0,0,0)[0]             : AIC=14736.996, Time=0.01 sec\n",
      " ARIMA(2,1,0)(0,0,0)[0] intercept   : AIC=14735.178, Time=0.09 sec\n",
      " ARIMA(3,1,0)(0,0,0)[0] intercept   : AIC=14737.127, Time=0.08 sec\n",
      " ARIMA(2,1,1)(0,0,0)[0] intercept   : AIC=14737.147, Time=0.23 sec\n",
      " ARIMA(1,1,1)(0,0,0)[0] intercept   : AIC=14735.629, Time=0.20 sec\n",
      " ARIMA(3,1,1)(0,0,0)[0] intercept   : AIC=14739.126, Time=0.18 sec\n",
      " ARIMA(2,1,0)(0,0,0)[0]             : AIC=14735.116, Time=0.05 sec\n",
      " ARIMA(1,1,0)(0,0,0)[0]             : AIC=14735.630, Time=0.02 sec\n",
      " ARIMA(3,1,0)(0,0,0)[0]             : AIC=14737.059, Time=0.04 sec\n",
      " ARIMA(2,1,1)(0,0,0)[0]             : AIC=14737.267, Time=0.04 sec\n",
      " ARIMA(1,1,1)(0,0,0)[0]             : AIC=14735.417, Time=0.07 sec\n",
      " ARIMA(3,1,1)(0,0,0)[0]             : AIC=14738.946, Time=0.24 sec\n",
      "\n",
      "Best model:  ARIMA(2,1,0)(0,0,0)[0]          \n",
      "Total fit time: 1.547 seconds\n"
     ]
    }
   ],
   "source": [
    "import pmdarima as pm\n",
    "smodel = pm.auto_arima(train,\n",
    "                       start_p=0, d=1, max_p=3,\n",
    "                       start_q=0, max_q=3,\n",
    "                       seasonal=False,\n",
    "                       trace=True)"
   ]
  },
  {
   "cell_type": "code",
   "execution_count": 38,
   "id": "d10087af",
   "metadata": {},
   "outputs": [
    {
     "data": {
      "image/png": "[encoded data removed]",
      "text/plain": [
       "<Figure size 432x288 with 1 Axes>"
      ]
     },
     "metadata": {
      "needs_background": "light"
     },
     "output_type": "display_data"
    }
   ],
   "source": [
    "arima.plot_predict(dynamic=False);"
   ]
  },
  {
   "cell_type": "code",
   "execution_count": 39,
   "id": "5a8ad230",
   "metadata": {},
   "outputs": [
    {
     "data": {
      "image/png": "[encoded data removed]",
      "text/plain": [
       "<Figure size 432x288 with 1 Axes>"
      ]
     },
     "metadata": {
      "needs_background": "light"
     },
     "output_type": "display_data"
    }
   ],
   "source": [
    "arima_train.plot_predict(dynamic=False);"
   ]
  },
  {
   "cell_type": "code",
   "execution_count": 40,
   "id": "f8a149b3",
   "metadata": {},
   "outputs": [
    {
     "name": "stderr",
     "output_type": "stream",
     "text": [
      "/Users/guillaumetrounson/.pyenv/versions/3.8.6/envs/cryptocurrency_trading/lib/python3.8/site-packages/statsmodels/tsa/arima_model.py:472: FutureWarning: \n",
      "statsmodels.tsa.arima_model.ARMA and statsmodels.tsa.arima_model.ARIMA have\n",
      "been deprecated in favor of statsmodels.tsa.arima.model.ARIMA (note the .\n",
      "between arima and model) and\n",
      "statsmodels.tsa.SARIMAX. These will be removed after the 0.12 release.\n",
      "\n",
      "statsmodels.tsa.arima.model.ARIMA makes use of the statespace framework and\n",
      "is both well tested and maintained.\n",
      "\n",
      "To silence this warning and continue using ARMA and ARIMA until they are\n",
      "removed, use:\n",
      "\n",
      "import warnings\n",
      "warnings.filterwarnings('ignore', 'statsmodels.tsa.arima_model.ARMA',\n",
      "                        FutureWarning)\n",
      "warnings.filterwarnings('ignore', 'statsmodels.tsa.arima_model.ARIMA',\n",
      "                        FutureWarning)\n",
      "\n",
      "  warnings.warn(ARIMA_DEPRECATION_WARN, FutureWarning)\n",
      "/Users/guillaumetrounson/.pyenv/versions/3.8.6/envs/cryptocurrency_trading/lib/python3.8/site-packages/statsmodels/tsa/base/tsa_model.py:524: ValueWarning: No frequency information was provided, so inferred frequency -1D will be used.\n",
      "  warnings.warn('No frequency information was'\n",
      "/Users/guillaumetrounson/.pyenv/versions/3.8.6/envs/cryptocurrency_trading/lib/python3.8/site-packages/statsmodels/tsa/base/tsa_model.py:585: ValueWarning: A date index has been provided, but it is not monotonic and so will be ignored when e.g. forecasting.\n",
      "  warnings.warn('A date index has been provided, but it is not'\n",
      "/Users/guillaumetrounson/.pyenv/versions/3.8.6/envs/cryptocurrency_trading/lib/python3.8/site-packages/statsmodels/tsa/base/tsa_model.py:524: ValueWarning: No frequency information was provided, so inferred frequency -1D will be used.\n",
      "  warnings.warn('No frequency information was'\n",
      "/Users/guillaumetrounson/.pyenv/versions/3.8.6/envs/cryptocurrency_trading/lib/python3.8/site-packages/statsmodels/tsa/base/tsa_model.py:585: ValueWarning: A date index has been provided, but it is not monotonic and so will be ignored when e.g. forecasting.\n",
      "  warnings.warn('A date index has been provided, but it is not'\n",
      " This problem is unconstrained.\n"
     ]
    },
    {
     "name": "stdout",
     "output_type": "stream",
     "text": [
      "RUNNING THE L-BFGS-B CODE\n",
      "\n",
      "           * * *\n",
      "\n",
      "Machine precision = 2.220D-16\n",
      " N =            3     M =           12\n",
      "\n",
      "At X0         0 variables are exactly at the bounds\n",
      "\n",
      "At iterate    0    f=  6.41769D+00    |proj g|=  2.72786D-03\n",
      "\n",
      "At iterate    5    f=  6.41547D+00    |proj g|=  2.92619D-03\n",
      "\n",
      "At iterate   10    f=  6.41384D+00    |proj g|=  8.86313D-04\n",
      "\n",
      "At iterate   15    f=  6.41375D+00    |proj g|=  4.92051D-05\n",
      "\n",
      "At iterate   20    f=  6.41371D+00    |proj g|=  1.74971D-05\n",
      "\n",
      "At iterate   25    f=  6.41371D+00    |proj g|=  1.53655D-05\n",
      "\n",
      "At iterate   30    f=  6.41371D+00    |proj g|=  1.20792D-05\n",
      "\n",
      "           * * *\n",
      "\n",
      "Tit   = total number of iterations\n",
      "Tnf   = total number of function evaluations\n",
      "Tnint = total number of segments explored during Cauchy searches\n",
      "Skip  = number of BFGS updates skipped\n",
      "Nact  = number of active bounds at final generalized Cauchy point\n",
      "Projg = norm of the final projected gradient\n",
      "F     = final function value\n",
      "\n",
      "           * * *\n",
      "\n",
      "   N    Tit     Tnf  Tnint  Skip  Nact     Projg        F\n",
      "    3     33     51      1     0     0   4.441D-07   6.414D+00\n",
      "  F =   6.4137050701602680     \n",
      "\n",
      "CONVERGENCE: REL_REDUCTION_OF_F_<=_FACTR*EPSMCH             \n"
     ]
    },
    {
     "data": {
      "text/html": [
       "<table class=\"simpletable\">\n",
       "<caption>ARIMA Model Results</caption>\n",
       "<tr>\n",
       "  <th>Dep. Variable:</th>    <td>D.adjClose</td>    <th>  No. Observations:  </th>    <td>219</td>   \n",
       "</tr>\n",
       "<tr>\n",
       "  <th>Model:</th>          <td>ARIMA(1, 1, 1)</td>  <th>  Log Likelihood     </th> <td>-1404.601</td>\n",
       "</tr>\n",
       "<tr>\n",
       "  <th>Method:</th>             <td>css-mle</td>     <th>  S.D. of innovations</th>  <td>147.168</td> \n",
       "</tr>\n",
       "<tr>\n",
       "  <th>Date:</th>          <td>Fri, 03 Sep 2021</td> <th>  AIC                </th> <td>2817.203</td> \n",
       "</tr>\n",
       "<tr>\n",
       "  <th>Time:</th>              <td>09:33:01</td>     <th>  BIC                </th> <td>2830.759</td> \n",
       "</tr>\n",
       "<tr>\n",
       "  <th>Sample:</th>                <td>1</td>        <th>  HQIC               </th> <td>2822.678</td> \n",
       "</tr>\n",
       "<tr>\n",
       "  <th></th>                       <td> </td>        <th>                     </th>     <td> </td>    \n",
       "</tr>\n",
       "</table>\n",
       "<table class=\"simpletable\">\n",
       "<tr>\n",
       "          <td></td>            <th>coef</th>     <th>std err</th>      <th>z</th>      <th>P>|z|</th>  <th>[0.025</th>    <th>0.975]</th>  \n",
       "</tr>\n",
       "<tr>\n",
       "  <th>const</th>            <td>    9.4919</td> <td>   10.084</td> <td>    0.941</td> <td> 0.347</td> <td>  -10.273</td> <td>   29.257</td>\n",
       "</tr>\n",
       "<tr>\n",
       "  <th>ar.L1.D.adjClose</th> <td>   -0.9722</td> <td>    0.019</td> <td>  -52.337</td> <td> 0.000</td> <td>   -1.009</td> <td>   -0.936</td>\n",
       "</tr>\n",
       "<tr>\n",
       "  <th>ma.L1.D.adjClose</th> <td>    1.0000</td> <td>    0.012</td> <td>   84.109</td> <td> 0.000</td> <td>    0.977</td> <td>    1.023</td>\n",
       "</tr>\n",
       "</table>\n",
       "<table class=\"simpletable\">\n",
       "<caption>Roots</caption>\n",
       "<tr>\n",
       "    <td></td>   <th>            Real</th>  <th>         Imaginary</th> <th>         Modulus</th>  <th>        Frequency</th>\n",
       "</tr>\n",
       "<tr>\n",
       "  <th>AR.1</th> <td>          -1.0286</td> <td>          +0.0000j</td> <td>           1.0286</td> <td>           0.5000</td>\n",
       "</tr>\n",
       "<tr>\n",
       "  <th>MA.1</th> <td>          -1.0000</td> <td>          +0.0000j</td> <td>           1.0000</td> <td>           0.5000</td>\n",
       "</tr>\n",
       "</table>"
      ],
      "text/plain": [
       "<class 'statsmodels.iolib.summary.Summary'>\n",
       "\"\"\"\n",
       "                             ARIMA Model Results                              \n",
       "==============================================================================\n",
       "Dep. Variable:             D.adjClose   No. Observations:                  219\n",
       "Model:                 ARIMA(1, 1, 1)   Log Likelihood               -1404.601\n",
       "Method:                       css-mle   S.D. of innovations            147.168\n",
       "Date:                Fri, 03 Sep 2021   AIC                           2817.203\n",
       "Time:                        09:33:01   BIC                           2830.759\n",
       "Sample:                             1   HQIC                          2822.678\n",
       "                                                                              \n",
       "====================================================================================\n",
       "                       coef    std err          z      P>|z|      [0.025      0.975]\n",
       "------------------------------------------------------------------------------------\n",
       "const                9.4919     10.084      0.941      0.347     -10.273      29.257\n",
       "ar.L1.D.adjClose    -0.9722      0.019    -52.337      0.000      -1.009      -0.936\n",
       "ma.L1.D.adjClose     1.0000      0.012     84.109      0.000       0.977       1.023\n",
       "                                    Roots                                    \n",
       "=============================================================================\n",
       "                  Real          Imaginary           Modulus         Frequency\n",
       "-----------------------------------------------------------------------------\n",
       "AR.1           -1.0286           +0.0000j            1.0286            0.5000\n",
       "MA.1           -1.0000           +0.0000j            1.0000            0.5000\n",
       "-----------------------------------------------------------------------------\n",
       "\"\"\""
      ]
     },
     "execution_count": 40,
     "metadata": {},
     "output_type": "execute_result"
    }
   ],
   "source": [
    "arima_test = ARIMA(test, order=(1, 1, 1)).fit()\n",
    "arima_test.summary()"
   ]
  },
  {
   "cell_type": "code",
   "execution_count": 41,
   "id": "ab64ba12",
   "metadata": {},
   "outputs": [],
   "source": [
    "df_predict = pd.DataFrame(arima.predict(), columns=['prediction'])"
   ]
  },
  {
   "cell_type": "code",
   "execution_count": 42,
   "id": "0c1b1c99",
   "metadata": {},
   "outputs": [
    {
     "data": {
      "text/html": [
       "<div>\n",
       "<style scoped>\n",
       "    .dataframe tbody tr th:only-of-type {\n",
       "        vertical-align: middle;\n",
       "    }\n",
       "\n",
       "    .dataframe tbody tr th {\n",
       "        vertical-align: top;\n",
       "    }\n",
       "\n",
       "    .dataframe thead th {\n",
       "        text-align: right;\n",
       "    }\n",
       "</style>\n",
       "<table border=\"1\" class=\"dataframe\">\n",
       "  <thead>\n",
       "    <tr style=\"text-align: right;\">\n",
       "      <th></th>\n",
       "      <th>prediction</th>\n",
       "    </tr>\n",
       "    <tr>\n",
       "      <th>date</th>\n",
       "      <th></th>\n",
       "    </tr>\n",
       "  </thead>\n",
       "  <tbody>\n",
       "    <tr>\n",
       "      <th>2021-09-02</th>\n",
       "      <td>-38.459148</td>\n",
       "    </tr>\n",
       "    <tr>\n",
       "      <th>2021-09-01</th>\n",
       "      <td>-30.154162</td>\n",
       "    </tr>\n",
       "    <tr>\n",
       "      <th>2021-08-31</th>\n",
       "      <td>-6.166061</td>\n",
       "    </tr>\n",
       "    <tr>\n",
       "      <th>2021-08-30</th>\n",
       "      <td>79.130075</td>\n",
       "    </tr>\n",
       "    <tr>\n",
       "      <th>2021-08-29</th>\n",
       "      <td>-91.637362</td>\n",
       "    </tr>\n",
       "    <tr>\n",
       "      <th>...</th>\n",
       "      <td>...</td>\n",
       "    </tr>\n",
       "    <tr>\n",
       "      <th>2018-09-06</th>\n",
       "      <td>-62.749588</td>\n",
       "    </tr>\n",
       "    <tr>\n",
       "      <th>2018-09-05</th>\n",
       "      <td>-34.406644</td>\n",
       "    </tr>\n",
       "    <tr>\n",
       "      <th>2018-09-04</th>\n",
       "      <td>-65.025326</td>\n",
       "    </tr>\n",
       "    <tr>\n",
       "      <th>2018-09-03</th>\n",
       "      <td>-74.401750</td>\n",
       "    </tr>\n",
       "    <tr>\n",
       "      <th>2018-09-02</th>\n",
       "      <td>-15.256086</td>\n",
       "    </tr>\n",
       "  </tbody>\n",
       "</table>\n",
       "<p>1097 rows × 1 columns</p>\n",
       "</div>"
      ],
      "text/plain": [
       "            prediction\n",
       "date                  \n",
       "2021-09-02  -38.459148\n",
       "2021-09-01  -30.154162\n",
       "2021-08-31   -6.166061\n",
       "2021-08-30   79.130075\n",
       "2021-08-29  -91.637362\n",
       "...                ...\n",
       "2018-09-06  -62.749588\n",
       "2018-09-05  -34.406644\n",
       "2018-09-04  -65.025326\n",
       "2018-09-03  -74.401750\n",
       "2018-09-02  -15.256086\n",
       "\n",
       "[1097 rows x 1 columns]"
      ]
     },
     "execution_count": 42,
     "metadata": {},
     "output_type": "execute_result"
    }
   ],
   "source": [
    "df_predict"
   ]
  },
  {
   "cell_type": "code",
   "execution_count": 43,
   "id": "139f892f",
   "metadata": {},
   "outputs": [],
   "source": [
    "merged_df = df_predict.merge(df_3years, on='date')"
   ]
  },
  {
   "cell_type": "code",
   "execution_count": 44,
   "id": "ab1b7029",
   "metadata": {},
   "outputs": [],
   "source": [
    "merged_df['predict_price'] = merged_df['prediction'] + merged_df['adjClose']"
   ]
  },
  {
   "cell_type": "code",
   "execution_count": 45,
   "id": "a772f207",
   "metadata": {},
   "outputs": [
    {
     "data": {
      "text/html": [
       "<div>\n",
       "<style scoped>\n",
       "    .dataframe tbody tr th:only-of-type {\n",
       "        vertical-align: middle;\n",
       "    }\n",
       "\n",
       "    .dataframe tbody tr th {\n",
       "        vertical-align: top;\n",
       "    }\n",
       "\n",
       "    .dataframe thead th {\n",
       "        text-align: right;\n",
       "    }\n",
       "</style>\n",
       "<table border=\"1\" class=\"dataframe\">\n",
       "  <thead>\n",
       "    <tr style=\"text-align: right;\">\n",
       "      <th></th>\n",
       "      <th>prediction</th>\n",
       "      <th>adjClose</th>\n",
       "      <th>predict_price</th>\n",
       "    </tr>\n",
       "    <tr>\n",
       "      <th>date</th>\n",
       "      <th></th>\n",
       "      <th></th>\n",
       "      <th></th>\n",
       "    </tr>\n",
       "  </thead>\n",
       "  <tbody>\n",
       "    <tr>\n",
       "      <th>2021-09-02</th>\n",
       "      <td>-38.459148</td>\n",
       "      <td>49327.722656</td>\n",
       "      <td>49289.263508</td>\n",
       "    </tr>\n",
       "    <tr>\n",
       "      <th>2021-09-01</th>\n",
       "      <td>-30.154162</td>\n",
       "      <td>48847.027344</td>\n",
       "      <td>48816.873182</td>\n",
       "    </tr>\n",
       "    <tr>\n",
       "      <th>2021-08-31</th>\n",
       "      <td>-6.166061</td>\n",
       "      <td>47166.687500</td>\n",
       "      <td>47160.521439</td>\n",
       "    </tr>\n",
       "    <tr>\n",
       "      <th>2021-08-30</th>\n",
       "      <td>79.130075</td>\n",
       "      <td>47054.984375</td>\n",
       "      <td>47134.114450</td>\n",
       "    </tr>\n",
       "    <tr>\n",
       "      <th>2021-08-29</th>\n",
       "      <td>-91.637362</td>\n",
       "      <td>48829.832031</td>\n",
       "      <td>48738.194669</td>\n",
       "    </tr>\n",
       "    <tr>\n",
       "      <th>...</th>\n",
       "      <td>...</td>\n",
       "      <td>...</td>\n",
       "      <td>...</td>\n",
       "    </tr>\n",
       "    <tr>\n",
       "      <th>2018-09-06</th>\n",
       "      <td>-62.749588</td>\n",
       "      <td>6529.169922</td>\n",
       "      <td>6466.420334</td>\n",
       "    </tr>\n",
       "    <tr>\n",
       "      <th>2018-09-05</th>\n",
       "      <td>-34.406644</td>\n",
       "      <td>6792.830078</td>\n",
       "      <td>6758.423434</td>\n",
       "    </tr>\n",
       "    <tr>\n",
       "      <th>2018-09-04</th>\n",
       "      <td>-65.025326</td>\n",
       "      <td>7361.660156</td>\n",
       "      <td>7296.634830</td>\n",
       "    </tr>\n",
       "    <tr>\n",
       "      <th>2018-09-03</th>\n",
       "      <td>-74.401750</td>\n",
       "      <td>7260.060059</td>\n",
       "      <td>7185.658309</td>\n",
       "    </tr>\n",
       "    <tr>\n",
       "      <th>2018-09-02</th>\n",
       "      <td>-15.256086</td>\n",
       "      <td>7272.720215</td>\n",
       "      <td>7257.464129</td>\n",
       "    </tr>\n",
       "  </tbody>\n",
       "</table>\n",
       "<p>1097 rows × 3 columns</p>\n",
       "</div>"
      ],
      "text/plain": [
       "            prediction      adjClose  predict_price\n",
       "date                                               \n",
       "2021-09-02  -38.459148  49327.722656   49289.263508\n",
       "2021-09-01  -30.154162  48847.027344   48816.873182\n",
       "2021-08-31   -6.166061  47166.687500   47160.521439\n",
       "2021-08-30   79.130075  47054.984375   47134.114450\n",
       "2021-08-29  -91.637362  48829.832031   48738.194669\n",
       "...                ...           ...            ...\n",
       "2018-09-06  -62.749588   6529.169922    6466.420334\n",
       "2018-09-05  -34.406644   6792.830078    6758.423434\n",
       "2018-09-04  -65.025326   7361.660156    7296.634830\n",
       "2018-09-03  -74.401750   7260.060059    7185.658309\n",
       "2018-09-02  -15.256086   7272.720215    7257.464129\n",
       "\n",
       "[1097 rows x 3 columns]"
      ]
     },
     "execution_count": 45,
     "metadata": {},
     "output_type": "execute_result"
    }
   ],
   "source": [
    "merged_df"
   ]
  },
  {
   "cell_type": "code",
   "execution_count": 46,
   "id": "5a3588e8",
   "metadata": {},
   "outputs": [
    {
     "data": {
      "text/plain": [
       "0.005380589195216473"
      ]
     },
     "execution_count": 46,
     "metadata": {},
     "output_type": "execute_result"
    }
   ],
   "source": [
    "mean_absolute_percentage_error(merged_df['predict_price'], merged_df['adjClose'])"
   ]
  },
  {
   "cell_type": "code",
   "execution_count": 47,
   "id": "1b084593",
   "metadata": {},
   "outputs": [
    {
     "data": {
      "text/plain": [
       "67.71630940091863"
      ]
     },
     "execution_count": 47,
     "metadata": {},
     "output_type": "execute_result"
    }
   ],
   "source": [
    "mean_absolute_error(merged_df['predict_price'], merged_df['adjClose'])"
   ]
  },
  {
   "cell_type": "code",
   "execution_count": 48,
   "id": "60f350b5",
   "metadata": {},
   "outputs": [
    {
     "data": {
      "image/png": "[encoded data removed]",
      "text/plain": [
       "<Figure size 864x360 with 1 Axes>"
      ]
     },
     "metadata": {
      "needs_background": "light"
     },
     "output_type": "display_data"
    }
   ],
   "source": [
    "arima.plot_predict(start='2021-09-01', end='2018-09-02', dynamic=False);\n",
    "fig = plt.gcf(); fig.set_size_inches(12, 5);"
   ]
  },
  {
   "cell_type": "code",
   "execution_count": 49,
   "id": "1e7cfb07",
   "metadata": {},
   "outputs": [
    {
     "data": {
      "text/plain": [
       "DatetimeIndex(['2021-09-03', '2021-09-02', '2021-09-01', '2021-08-31',\n",
       "               '2021-08-30', '2021-08-29', '2021-08-28', '2021-08-27',\n",
       "               '2021-08-26', '2021-08-25',\n",
       "               ...\n",
       "               '2018-09-11', '2018-09-10', '2018-09-09', '2018-09-08',\n",
       "               '2018-09-07', '2018-09-06', '2018-09-05', '2018-09-04',\n",
       "               '2018-09-03', '2018-09-02'],\n",
       "              dtype='datetime64[ns]', name='date', length=1098, freq=None)"
      ]
     },
     "execution_count": 49,
     "metadata": {},
     "output_type": "execute_result"
    }
   ],
   "source": [
    "df_3years.index"
   ]
  },
  {
   "cell_type": "code",
   "execution_count": 61,
   "id": "6659ac5d",
   "metadata": {},
   "outputs": [],
   "source": [
    "(forecast, stderr, confidence_int) = arima.forecast(len(test), alpha=0.05)"
   ]
  },
  {
   "cell_type": "code",
   "execution_count": 70,
   "id": "2231ad40",
   "metadata": {},
   "outputs": [],
   "source": [
    "def plot_forecast(fc, train, test, upper=None, lower=None):\n",
    "    is_confidence_int = isinstance(upper, np.ndarray) and isinstance(lower, np.ndarray)\n",
    "    # Prepare plot series\n",
    "    fc_series = pd.Series(fc, index=test.index)\n",
    "    lower_series = pd.Series(upper, index=test.index) if is_confidence_int else None\n",
    "    upper_series = pd.Series(lower, index=test.index) if is_confidence_int else None\n",
    "\n",
    "    # Plot\n",
    "    plt.figure(figsize=(10,4), dpi=100)\n",
    "    plt.plot(train, label='training', color='black')\n",
    "    plt.plot(test, label='actual', color='black', ls='--')\n",
    "    plt.plot(fc_series, label='forecast', color='orange')\n",
    "    if is_confidence_int:\n",
    "        plt.fill_between(lower_series.index, lower_series, upper_series, color='k', alpha=.15)\n",
    "    plt.title('Forecast vs Actuals')\n",
    "    plt.legend(loc='upper left', fontsize=8);"
   ]
  },
  {
   "cell_type": "code",
   "execution_count": 71,
   "id": "84083814",
   "metadata": {},
   "outputs": [
    {
     "data": {
      "image/png": "[encoded data removed]",
      "text/plain": [
       "<Figure size 1000x400 with 1 Axes>"
      ]
     },
     "metadata": {
      "needs_background": "light"
     },
     "output_type": "display_data"
    }
   ],
   "source": [
    "plot_forecast(forecast, train, test, confidence_int[:,0], confidence_int[:,1])"
   ]
  },
  {
   "cell_type": "code",
   "execution_count": null,
   "id": "4419d71c",
   "metadata": {},
   "outputs": [],
   "source": []
  },
  {
   "cell_type": "code",
   "execution_count": 51,
   "id": "3cf4f0d3",
   "metadata": {},
   "outputs": [],
   "source": [
    "forecast = pd.Series(forecast, name='forecast')\n",
    "stderr = pd.Series(stderr)\n",
    "conf_int = pd.DataFrame(conf_int, columns=['low', 'high'])"
   ]
  },
  {
   "cell_type": "code",
   "execution_count": 52,
   "id": "ccdd01c0",
   "metadata": {},
   "outputs": [
    {
     "data": {
      "text/plain": [
       "<matplotlib.legend.Legend at 0x139728b20>"
      ]
     },
     "execution_count": 52,
     "metadata": {},
     "output_type": "execute_result"
    },
    {
     "data": {
      "image/png": "[encoded data removed]",
      "text/plain": [
       "<Figure size 432x288 with 1 Axes>"
      ]
     },
     "metadata": {
      "needs_background": "light"
     },
     "output_type": "display_data"
    }
   ],
   "source": [
    "plt.plot(forecast, c='orange')\n",
    "plt.plot(conf_int['low'], label='low', c='grey', ls='--')\n",
    "plt.plot(conf_int['high'], label='high', c='grey', ls='--')\n",
    "plt.legend()"
   ]
  },
  {
   "cell_type": "code",
   "execution_count": 53,
   "id": "32290117",
   "metadata": {},
   "outputs": [],
   "source": [
    "forecast.index = test['adjClose'].index\n",
    "conf_int.index = test['adjClose'].index"
   ]
  },
  {
   "cell_type": "code",
   "execution_count": 54,
   "id": "005a57fd",
   "metadata": {},
   "outputs": [
    {
     "data": {
      "text/plain": [
       "<AxesSubplot:title={'center':'Residuals'}, xlabel='date'>"
      ]
     },
     "execution_count": 54,
     "metadata": {},
     "output_type": "execute_result"
    },
    {
     "data": {
      "image/png": "[encoded data removed]",
      "text/plain": [
       "<Figure size 432x288 with 1 Axes>"
      ]
     },
     "metadata": {
      "needs_background": "light"
     },
     "output_type": "display_data"
    }
   ],
   "source": [
    "residuals = pd.DataFrame(arima_train.resid)\n",
    "residuals.plot(title=\"Residuals\")"
   ]
  },
  {
   "cell_type": "markdown",
   "id": "b662542b",
   "metadata": {},
   "source": [
    "## Residuals of equal variance over time (not homoscedastic)"
   ]
  },
  {
   "cell_type": "code",
   "execution_count": 55,
   "id": "61af4d8f",
   "metadata": {},
   "outputs": [
    {
     "data": {
      "text/plain": [
       "<AxesSubplot:title={'center':'Residual density'}, ylabel='Density'>"
      ]
     },
     "execution_count": 55,
     "metadata": {},
     "output_type": "execute_result"
    },
    {
     "data": {
      "image/png": "[encoded data removed]",
      "text/plain": [
       "<Figure size 432x288 with 1 Axes>"
      ]
     },
     "metadata": {
      "needs_background": "light"
     },
     "output_type": "display_data"
    }
   ],
   "source": [
    "residuals.plot(kind='kde', title='Residual density')"
   ]
  }
 ],
 "metadata": {
  "kernelspec": {
   "display_name": "Python 3 (ipykernel)",
   "language": "python",
   "name": "python3"
  },
  "language_info": {
   "codemirror_mode": {
    "name": "ipython",
    "version": 3
   },
   "file_extension": ".py",
   "mimetype": "text/x-python",
   "name": "python",
   "nbconvert_exporter": "python",
   "pygments_lexer": "ipython3",
   "version": "3.8.6"
  },
  "toc": {
   "base_numbering": 1,
   "nav_menu": {},
   "number_sections": true,
   "sideBar": true,
   "skip_h1_title": false,
   "title_cell": "Table of Contents",
   "title_sidebar": "Contents",
   "toc_cell": false,
   "toc_position": {},
   "toc_section_display": true,
   "toc_window_display": false
  }
 },
 "nbformat": 4,
 "nbformat_minor": 5
}
