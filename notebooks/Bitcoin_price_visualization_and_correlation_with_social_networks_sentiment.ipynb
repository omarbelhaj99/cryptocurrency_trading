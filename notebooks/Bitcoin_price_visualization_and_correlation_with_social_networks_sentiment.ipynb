{
 "cells": [
  {
   "cell_type": "markdown",
   "id": "74d4628b",
   "metadata": {
    "heading_collapsed": true
   },
   "source": [
    "# Bitcoin price visualisation and correlation with social networks sentiment\n",
    "\n"
   ]
  },
  {
   "cell_type": "markdown",
   "id": "420ea4a7",
   "metadata": {
    "heading_collapsed": true,
    "hidden": true
   },
   "source": [
    "## Bitcoin Price  from 13-01-2017 to 12-01-2022 "
   ]
  },
  {
   "cell_type": "markdown",
   "id": "9744fa55",
   "metadata": {
    "hidden": true
   },
   "source": [
    "5 years of data"
   ]
  },
  {
   "cell_type": "code",
   "execution_count": 4,
   "id": "85b61341",
   "metadata": {
    "hidden": true
   },
   "outputs": [],
   "source": [
    "import pandas as pd\n",
    "import matplotlib.pyplot as plt\n",
    "import requests"
   ]
  },
  {
   "cell_type": "code",
   "execution_count": 95,
   "id": "0c5bf0a1",
   "metadata": {
    "hidden": true,
    "scrolled": true
   },
   "outputs": [
    {
     "data": {
      "text/html": [
       "<div>\n",
       "<style scoped>\n",
       "    .dataframe tbody tr th:only-of-type {\n",
       "        vertical-align: middle;\n",
       "    }\n",
       "\n",
       "    .dataframe tbody tr th {\n",
       "        vertical-align: top;\n",
       "    }\n",
       "\n",
       "    .dataframe thead th {\n",
       "        text-align: right;\n",
       "    }\n",
       "</style>\n",
       "<table border=\"1\" class=\"dataframe\">\n",
       "  <thead>\n",
       "    <tr style=\"text-align: right;\">\n",
       "      <th></th>\n",
       "      <th>date</th>\n",
       "      <th>open</th>\n",
       "      <th>high</th>\n",
       "      <th>low</th>\n",
       "      <th>close</th>\n",
       "      <th>adjClose</th>\n",
       "      <th>volume</th>\n",
       "      <th>unadjustedVolume</th>\n",
       "      <th>change</th>\n",
       "      <th>changePercent</th>\n",
       "      <th>vwap</th>\n",
       "      <th>label</th>\n",
       "      <th>changeOverTime</th>\n",
       "    </tr>\n",
       "  </thead>\n",
       "  <tbody>\n",
       "    <tr>\n",
       "      <th>0</th>\n",
       "      <td>2022-01-13</td>\n",
       "      <td>43961.882600</td>\n",
       "      <td>44063.206600</td>\n",
       "      <td>43517.879000</td>\n",
       "      <td>43974.387800</td>\n",
       "      <td>43974.387800</td>\n",
       "      <td>7.289616e+10</td>\n",
       "      <td>7.289616e+10</td>\n",
       "      <td>12.50520</td>\n",
       "      <td>0.028</td>\n",
       "      <td>43851.82447</td>\n",
       "      <td>January 13, 22</td>\n",
       "      <td>0.00028</td>\n",
       "    </tr>\n",
       "    <tr>\n",
       "      <th>1</th>\n",
       "      <td>2022-01-12</td>\n",
       "      <td>42776.830200</td>\n",
       "      <td>42942.709400</td>\n",
       "      <td>42588.767200</td>\n",
       "      <td>42839.807600</td>\n",
       "      <td>42839.807600</td>\n",
       "      <td>2.654798e+10</td>\n",
       "      <td>2.654798e+10</td>\n",
       "      <td>62.97740</td>\n",
       "      <td>0.147</td>\n",
       "      <td>42790.42807</td>\n",
       "      <td>January 12, 22</td>\n",
       "      <td>0.00147</td>\n",
       "    </tr>\n",
       "    <tr>\n",
       "      <th>2</th>\n",
       "      <td>2022-01-11</td>\n",
       "      <td>41861.042700</td>\n",
       "      <td>42148.080100</td>\n",
       "      <td>41703.983200</td>\n",
       "      <td>42148.080100</td>\n",
       "      <td>42148.080100</td>\n",
       "      <td>3.467735e+10</td>\n",
       "      <td>3.467735e+10</td>\n",
       "      <td>287.03740</td>\n",
       "      <td>0.686</td>\n",
       "      <td>42000.04780</td>\n",
       "      <td>January 11, 22</td>\n",
       "      <td>0.00686</td>\n",
       "    </tr>\n",
       "    <tr>\n",
       "      <th>3</th>\n",
       "      <td>2022-01-10</td>\n",
       "      <td>41932.756900</td>\n",
       "      <td>42253.057500</td>\n",
       "      <td>41772.873600</td>\n",
       "      <td>41919.103900</td>\n",
       "      <td>41919.103900</td>\n",
       "      <td>2.200912e+10</td>\n",
       "      <td>2.200912e+10</td>\n",
       "      <td>-13.65300</td>\n",
       "      <td>-0.033</td>\n",
       "      <td>41981.67833</td>\n",
       "      <td>January 10, 22</td>\n",
       "      <td>-0.00033</td>\n",
       "    </tr>\n",
       "    <tr>\n",
       "      <th>4</th>\n",
       "      <td>2022-01-09</td>\n",
       "      <td>41808.563900</td>\n",
       "      <td>42710.280700</td>\n",
       "      <td>41473.902200</td>\n",
       "      <td>41963.416500</td>\n",
       "      <td>41963.416500</td>\n",
       "      <td>2.250029e+10</td>\n",
       "      <td>2.250029e+10</td>\n",
       "      <td>154.85260</td>\n",
       "      <td>0.370</td>\n",
       "      <td>42049.19980</td>\n",
       "      <td>January 09, 22</td>\n",
       "      <td>0.00370</td>\n",
       "    </tr>\n",
       "    <tr>\n",
       "      <th>...</th>\n",
       "      <td>...</td>\n",
       "      <td>...</td>\n",
       "      <td>...</td>\n",
       "      <td>...</td>\n",
       "      <td>...</td>\n",
       "      <td>...</td>\n",
       "      <td>...</td>\n",
       "      <td>...</td>\n",
       "      <td>...</td>\n",
       "      <td>...</td>\n",
       "      <td>...</td>\n",
       "      <td>...</td>\n",
       "      <td>...</td>\n",
       "    </tr>\n",
       "    <tr>\n",
       "      <th>1821</th>\n",
       "      <td>2017-01-18</td>\n",
       "      <td>909.372986</td>\n",
       "      <td>917.499023</td>\n",
       "      <td>858.304016</td>\n",
       "      <td>886.617981</td>\n",
       "      <td>886.617981</td>\n",
       "      <td>2.256770e+08</td>\n",
       "      <td>2.256770e+08</td>\n",
       "      <td>-22.75501</td>\n",
       "      <td>-2.502</td>\n",
       "      <td>887.47367</td>\n",
       "      <td>January 18, 17</td>\n",
       "      <td>-0.02502</td>\n",
       "    </tr>\n",
       "    <tr>\n",
       "      <th>1822</th>\n",
       "      <td>2017-01-17</td>\n",
       "      <td>830.945984</td>\n",
       "      <td>910.560974</td>\n",
       "      <td>830.796021</td>\n",
       "      <td>907.937988</td>\n",
       "      <td>907.937988</td>\n",
       "      <td>1.550950e+08</td>\n",
       "      <td>1.550950e+08</td>\n",
       "      <td>76.99200</td>\n",
       "      <td>9.266</td>\n",
       "      <td>883.09833</td>\n",
       "      <td>January 17, 17</td>\n",
       "      <td>0.09266</td>\n",
       "    </tr>\n",
       "    <tr>\n",
       "      <th>1823</th>\n",
       "      <td>2017-01-16</td>\n",
       "      <td>821.783020</td>\n",
       "      <td>834.530029</td>\n",
       "      <td>820.270996</td>\n",
       "      <td>831.533997</td>\n",
       "      <td>831.533997</td>\n",
       "      <td>8.275520e+07</td>\n",
       "      <td>8.275520e+07</td>\n",
       "      <td>9.75098</td>\n",
       "      <td>1.187</td>\n",
       "      <td>828.77834</td>\n",
       "      <td>January 16, 17</td>\n",
       "      <td>0.01187</td>\n",
       "    </tr>\n",
       "    <tr>\n",
       "      <th>1824</th>\n",
       "      <td>2017-01-15</td>\n",
       "      <td>818.142029</td>\n",
       "      <td>823.307007</td>\n",
       "      <td>812.870972</td>\n",
       "      <td>821.797974</td>\n",
       "      <td>821.797974</td>\n",
       "      <td>7.101360e+07</td>\n",
       "      <td>7.101360e+07</td>\n",
       "      <td>3.65595</td>\n",
       "      <td>0.447</td>\n",
       "      <td>819.32532</td>\n",
       "      <td>January 15, 17</td>\n",
       "      <td>0.00447</td>\n",
       "    </tr>\n",
       "    <tr>\n",
       "      <th>1825</th>\n",
       "      <td>2017-01-14</td>\n",
       "      <td>825.142029</td>\n",
       "      <td>835.085022</td>\n",
       "      <td>812.455994</td>\n",
       "      <td>818.411987</td>\n",
       "      <td>818.411987</td>\n",
       "      <td>9.306330e+07</td>\n",
       "      <td>9.306330e+07</td>\n",
       "      <td>-6.73004</td>\n",
       "      <td>-0.816</td>\n",
       "      <td>821.98433</td>\n",
       "      <td>January 14, 17</td>\n",
       "      <td>-0.00816</td>\n",
       "    </tr>\n",
       "  </tbody>\n",
       "</table>\n",
       "<p>1826 rows × 13 columns</p>\n",
       "</div>"
      ],
      "text/plain": [
       "            date          open          high           low         close  \\\n",
       "0     2022-01-13  43961.882600  44063.206600  43517.879000  43974.387800   \n",
       "1     2022-01-12  42776.830200  42942.709400  42588.767200  42839.807600   \n",
       "2     2022-01-11  41861.042700  42148.080100  41703.983200  42148.080100   \n",
       "3     2022-01-10  41932.756900  42253.057500  41772.873600  41919.103900   \n",
       "4     2022-01-09  41808.563900  42710.280700  41473.902200  41963.416500   \n",
       "...          ...           ...           ...           ...           ...   \n",
       "1821  2017-01-18    909.372986    917.499023    858.304016    886.617981   \n",
       "1822  2017-01-17    830.945984    910.560974    830.796021    907.937988   \n",
       "1823  2017-01-16    821.783020    834.530029    820.270996    831.533997   \n",
       "1824  2017-01-15    818.142029    823.307007    812.870972    821.797974   \n",
       "1825  2017-01-14    825.142029    835.085022    812.455994    818.411987   \n",
       "\n",
       "          adjClose        volume  unadjustedVolume     change  changePercent  \\\n",
       "0     43974.387800  7.289616e+10      7.289616e+10   12.50520          0.028   \n",
       "1     42839.807600  2.654798e+10      2.654798e+10   62.97740          0.147   \n",
       "2     42148.080100  3.467735e+10      3.467735e+10  287.03740          0.686   \n",
       "3     41919.103900  2.200912e+10      2.200912e+10  -13.65300         -0.033   \n",
       "4     41963.416500  2.250029e+10      2.250029e+10  154.85260          0.370   \n",
       "...            ...           ...               ...        ...            ...   \n",
       "1821    886.617981  2.256770e+08      2.256770e+08  -22.75501         -2.502   \n",
       "1822    907.937988  1.550950e+08      1.550950e+08   76.99200          9.266   \n",
       "1823    831.533997  8.275520e+07      8.275520e+07    9.75098          1.187   \n",
       "1824    821.797974  7.101360e+07      7.101360e+07    3.65595          0.447   \n",
       "1825    818.411987  9.306330e+07      9.306330e+07   -6.73004         -0.816   \n",
       "\n",
       "             vwap           label  changeOverTime  \n",
       "0     43851.82447  January 13, 22         0.00028  \n",
       "1     42790.42807  January 12, 22         0.00147  \n",
       "2     42000.04780  January 11, 22         0.00686  \n",
       "3     41981.67833  January 10, 22        -0.00033  \n",
       "4     42049.19980  January 09, 22         0.00370  \n",
       "...           ...             ...             ...  \n",
       "1821    887.47367  January 18, 17        -0.02502  \n",
       "1822    883.09833  January 17, 17         0.09266  \n",
       "1823    828.77834  January 16, 17         0.01187  \n",
       "1824    819.32532  January 15, 17         0.00447  \n",
       "1825    821.98433  January 14, 17        -0.00816  \n",
       "\n",
       "[1826 rows x 13 columns]"
      ]
     },
     "execution_count": 95,
     "metadata": {},
     "output_type": "execute_result"
    }
   ],
   "source": [
    "api_key='a58413697e8263de9c95cab92049ea3f'\n",
    "symbol='BTCUSD'\n",
    "query=f'https://financialmodelingprep.com/api/v3/historical-price-full/{symbol}?apikey={api_key}'\n",
    "response=requests.get(query)\n",
    "df = pd.DataFrame(response.json()['historical'])\n",
    "df"
   ]
  },
  {
   "cell_type": "code",
   "execution_count": 96,
   "id": "ef863c26",
   "metadata": {
    "hidden": true
   },
   "outputs": [],
   "source": [
    "Bitcoin_price_df = df[['date','close','changePercent']]"
   ]
  },
  {
   "cell_type": "code",
   "execution_count": 97,
   "id": "acd7e0f0",
   "metadata": {
    "hidden": true,
    "scrolled": true
   },
   "outputs": [
    {
     "name": "stderr",
     "output_type": "stream",
     "text": [
      "/tmp/ipykernel_5264/2808514875.py:1: SettingWithCopyWarning: \n",
      "A value is trying to be set on a copy of a slice from a DataFrame.\n",
      "Try using .loc[row_indexer,col_indexer] = value instead\n",
      "\n",
      "See the caveats in the documentation: https://pandas.pydata.org/pandas-docs/stable/user_guide/indexing.html#returning-a-view-versus-a-copy\n",
      "  Bitcoin_price_df['date']= pd.to_datetime(Bitcoin_price_df['date'])\n"
     ]
    }
   ],
   "source": [
    "Bitcoin_price_df['date']= pd.to_datetime(Bitcoin_price_df['date'])"
   ]
  },
  {
   "cell_type": "code",
   "execution_count": 98,
   "id": "0c8f0657",
   "metadata": {
    "hidden": true
   },
   "outputs": [],
   "source": [
    "Bitcoin_price_df.set_index('date', inplace = True)"
   ]
  },
  {
   "cell_type": "code",
   "execution_count": 99,
   "id": "16984b09",
   "metadata": {
    "hidden": true
   },
   "outputs": [
    {
     "data": {
      "text/plain": [
       "[None,\n",
       " None,\n",
       " None,\n",
       " None,\n",
       " None,\n",
       " None,\n",
       " None,\n",
       " None,\n",
       " None,\n",
       " None,\n",
       " None,\n",
       " None,\n",
       " None,\n",
       " None]"
      ]
     },
     "execution_count": 99,
     "metadata": {},
     "output_type": "execute_result"
    },
    {
     "data": {
      "image/png": "[encoded data removed]",
      "text/plain": [
       "<Figure size 648x360 with 1 Axes>"
      ]
     },
     "metadata": {
      "needs_background": "light"
     },
     "output_type": "display_data"
    }
   ],
   "source": [
    "plt.figure(figsize=(9,5))\n",
    "plt.plot(Bitcoin_price_df['close'],lw=1, label='BTC Prices')\n",
    "plt.legend(loc=2,prop={'size':11})\n",
    "plt.grid(True)\n",
    "plt.setp(plt.gca().get_xticklabels(), rotation=30)"
   ]
  },
  {
   "cell_type": "markdown",
   "id": "95f021e3",
   "metadata": {
    "heading_collapsed": true,
    "hidden": true
   },
   "source": [
    "## Sentiment data "
   ]
  },
  {
   "cell_type": "markdown",
   "id": "22549580",
   "metadata": {
    "hidden": true
   },
   "source": [
    "### Twitter data"
   ]
  },
  {
   "cell_type": "code",
   "execution_count": 7,
   "id": "b70e5aa5",
   "metadata": {
    "hidden": true,
    "scrolled": true
   },
   "outputs": [],
   "source": [
    "tweet_content_df = pd.read_csv('../cryptocurrency_trading/data/tweet_content_010921.csv')"
   ]
  },
  {
   "cell_type": "code",
   "execution_count": 6,
   "id": "a0fafcfc",
   "metadata": {
    "hidden": true
   },
   "outputs": [
    {
     "ename": "NameError",
     "evalue": "name 'tweet_content_df' is not defined",
     "output_type": "error",
     "traceback": [
      "\u001b[0;31m---------------------------------------------------------------------------\u001b[0m",
      "\u001b[0;31mNameError\u001b[0m                                 Traceback (most recent call last)",
      "\u001b[0;32m/tmp/ipykernel_5869/2056219490.py\u001b[0m in \u001b[0;36m<module>\u001b[0;34m\u001b[0m\n\u001b[0;32m----> 1\u001b[0;31m \u001b[0mtweet_content_df\u001b[0m\u001b[0;34m.\u001b[0m\u001b[0mhead\u001b[0m\u001b[0;34m(\u001b[0m\u001b[0;34m)\u001b[0m\u001b[0;34m\u001b[0m\u001b[0;34m\u001b[0m\u001b[0m\n\u001b[0m",
      "\u001b[0;31mNameError\u001b[0m: name 'tweet_content_df' is not defined"
     ]
    }
   ],
   "source": [
    "tweet_content_df.head()"
   ]
  },
  {
   "cell_type": "markdown",
   "id": "8877abef",
   "metadata": {
    "hidden": true
   },
   "source": [
    "Example of tweet"
   ]
  },
  {
   "cell_type": "code",
   "execution_count": 5,
   "id": "09476027",
   "metadata": {
    "hidden": true,
    "scrolled": true
   },
   "outputs": [
    {
     "ename": "NameError",
     "evalue": "name 'tweet_content_df' is not defined",
     "output_type": "error",
     "traceback": [
      "\u001b[0;31m---------------------------------------------------------------------------\u001b[0m",
      "\u001b[0;31mNameError\u001b[0m                                 Traceback (most recent call last)",
      "\u001b[0;32m/tmp/ipykernel_5869/1451018822.py\u001b[0m in \u001b[0;36m<module>\u001b[0;34m\u001b[0m\n\u001b[0;32m----> 1\u001b[0;31m \u001b[0mtweet_content_df\u001b[0m\u001b[0;34m[\u001b[0m\u001b[0;34m'text'\u001b[0m\u001b[0;34m]\u001b[0m\u001b[0;34m[\u001b[0m\u001b[0;36m0\u001b[0m\u001b[0;34m]\u001b[0m\u001b[0;34m\u001b[0m\u001b[0;34m\u001b[0m\u001b[0m\n\u001b[0m",
      "\u001b[0;31mNameError\u001b[0m: name 'tweet_content_df' is not defined"
     ]
    }
   ],
   "source": [
    "tweet_content_df['text'][0]"
   ]
  },
  {
   "cell_type": "markdown",
   "id": "a55a5eb0",
   "metadata": {
    "hidden": true
   },
   "source": [
    "Number of tweet containing the keyword 'Bitcoin' per day"
   ]
  },
  {
   "cell_type": "code",
   "execution_count": 103,
   "id": "c95ba45e",
   "metadata": {
    "hidden": true
   },
   "outputs": [],
   "source": [
    "tweet_count_df = pd.read_csv('../cryptocurrency_trading/data/tweet_count_010921.csv')"
   ]
  },
  {
   "cell_type": "code",
   "execution_count": 104,
   "id": "06ee6674",
   "metadata": {
    "hidden": true
   },
   "outputs": [
    {
     "data": {
      "text/html": [
       "<div>\n",
       "<style scoped>\n",
       "    .dataframe tbody tr th:only-of-type {\n",
       "        vertical-align: middle;\n",
       "    }\n",
       "\n",
       "    .dataframe tbody tr th {\n",
       "        vertical-align: top;\n",
       "    }\n",
       "\n",
       "    .dataframe thead th {\n",
       "        text-align: right;\n",
       "    }\n",
       "</style>\n",
       "<table border=\"1\" class=\"dataframe\">\n",
       "  <thead>\n",
       "    <tr style=\"text-align: right;\">\n",
       "      <th></th>\n",
       "      <th>Unnamed: 0</th>\n",
       "      <th>end</th>\n",
       "      <th>start</th>\n",
       "      <th>tweet_count</th>\n",
       "    </tr>\n",
       "  </thead>\n",
       "  <tbody>\n",
       "    <tr>\n",
       "      <th>0</th>\n",
       "      <td>0</td>\n",
       "      <td>2018-01-02T00:00:00.000Z</td>\n",
       "      <td>2018-01-01T00:00:00.000Z</td>\n",
       "      <td>90414</td>\n",
       "    </tr>\n",
       "    <tr>\n",
       "      <th>1</th>\n",
       "      <td>1</td>\n",
       "      <td>2018-01-03T00:00:00.000Z</td>\n",
       "      <td>2018-01-02T00:00:00.000Z</td>\n",
       "      <td>125905</td>\n",
       "    </tr>\n",
       "    <tr>\n",
       "      <th>2</th>\n",
       "      <td>2</td>\n",
       "      <td>2018-01-04T00:00:00.000Z</td>\n",
       "      <td>2018-01-03T00:00:00.000Z</td>\n",
       "      <td>134825</td>\n",
       "    </tr>\n",
       "    <tr>\n",
       "      <th>3</th>\n",
       "      <td>3</td>\n",
       "      <td>2018-01-05T00:00:00.000Z</td>\n",
       "      <td>2018-01-04T00:00:00.000Z</td>\n",
       "      <td>126106</td>\n",
       "    </tr>\n",
       "    <tr>\n",
       "      <th>4</th>\n",
       "      <td>4</td>\n",
       "      <td>2018-01-06T00:00:00.000Z</td>\n",
       "      <td>2018-01-05T00:00:00.000Z</td>\n",
       "      <td>115883</td>\n",
       "    </tr>\n",
       "  </tbody>\n",
       "</table>\n",
       "</div>"
      ],
      "text/plain": [
       "   Unnamed: 0                       end                     start  tweet_count\n",
       "0           0  2018-01-02T00:00:00.000Z  2018-01-01T00:00:00.000Z        90414\n",
       "1           1  2018-01-03T00:00:00.000Z  2018-01-02T00:00:00.000Z       125905\n",
       "2           2  2018-01-04T00:00:00.000Z  2018-01-03T00:00:00.000Z       134825\n",
       "3           3  2018-01-05T00:00:00.000Z  2018-01-04T00:00:00.000Z       126106\n",
       "4           4  2018-01-06T00:00:00.000Z  2018-01-05T00:00:00.000Z       115883"
      ]
     },
     "execution_count": 104,
     "metadata": {},
     "output_type": "execute_result"
    }
   ],
   "source": [
    "tweet_count_df.head()"
   ]
  },
  {
   "cell_type": "code",
   "execution_count": 105,
   "id": "06d98cff",
   "metadata": {
    "hidden": true
   },
   "outputs": [
    {
     "data": {
      "text/plain": [
       "Index(['Unnamed: 0', 'end', 'start', 'tweet_count'], dtype='object')"
      ]
     },
     "execution_count": 105,
     "metadata": {},
     "output_type": "execute_result"
    }
   ],
   "source": [
    "tweet_count_df.columns"
   ]
  },
  {
   "cell_type": "code",
   "execution_count": 106,
   "id": "b6d92ea4",
   "metadata": {
    "hidden": true
   },
   "outputs": [],
   "source": [
    "tweet_count_df =  tweet_count_df.drop(['start','Unnamed: 0'], axis =1)"
   ]
  },
  {
   "cell_type": "code",
   "execution_count": 107,
   "id": "4946cea6",
   "metadata": {
    "hidden": true
   },
   "outputs": [],
   "source": [
    "tweet_count_df['end'] = pd.to_datetime(tweet_count_df['end'])"
   ]
  },
  {
   "cell_type": "code",
   "execution_count": 108,
   "id": "740405e4",
   "metadata": {
    "hidden": true
   },
   "outputs": [],
   "source": [
    "tweet_count_df['end'] = tweet_count_df['end'].dt.date"
   ]
  },
  {
   "cell_type": "code",
   "execution_count": 109,
   "id": "829e1375",
   "metadata": {
    "hidden": true,
    "scrolled": true
   },
   "outputs": [
    {
     "data": {
      "text/html": [
       "<div>\n",
       "<style scoped>\n",
       "    .dataframe tbody tr th:only-of-type {\n",
       "        vertical-align: middle;\n",
       "    }\n",
       "\n",
       "    .dataframe tbody tr th {\n",
       "        vertical-align: top;\n",
       "    }\n",
       "\n",
       "    .dataframe thead th {\n",
       "        text-align: right;\n",
       "    }\n",
       "</style>\n",
       "<table border=\"1\" class=\"dataframe\">\n",
       "  <thead>\n",
       "    <tr style=\"text-align: right;\">\n",
       "      <th></th>\n",
       "      <th>end</th>\n",
       "      <th>tweet_count</th>\n",
       "    </tr>\n",
       "  </thead>\n",
       "  <tbody>\n",
       "    <tr>\n",
       "      <th>0</th>\n",
       "      <td>2018-01-02</td>\n",
       "      <td>90414</td>\n",
       "    </tr>\n",
       "    <tr>\n",
       "      <th>1</th>\n",
       "      <td>2018-01-03</td>\n",
       "      <td>125905</td>\n",
       "    </tr>\n",
       "    <tr>\n",
       "      <th>2</th>\n",
       "      <td>2018-01-04</td>\n",
       "      <td>134825</td>\n",
       "    </tr>\n",
       "    <tr>\n",
       "      <th>3</th>\n",
       "      <td>2018-01-05</td>\n",
       "      <td>126106</td>\n",
       "    </tr>\n",
       "    <tr>\n",
       "      <th>4</th>\n",
       "      <td>2018-01-06</td>\n",
       "      <td>115883</td>\n",
       "    </tr>\n",
       "    <tr>\n",
       "      <th>...</th>\n",
       "      <td>...</td>\n",
       "      <td>...</td>\n",
       "    </tr>\n",
       "    <tr>\n",
       "      <th>1291</th>\n",
       "      <td>2021-08-29</td>\n",
       "      <td>275021</td>\n",
       "    </tr>\n",
       "    <tr>\n",
       "      <th>1292</th>\n",
       "      <td>2021-08-30</td>\n",
       "      <td>321682</td>\n",
       "    </tr>\n",
       "    <tr>\n",
       "      <th>1293</th>\n",
       "      <td>2021-08-31</td>\n",
       "      <td>305249</td>\n",
       "    </tr>\n",
       "    <tr>\n",
       "      <th>1294</th>\n",
       "      <td>2021-09-01</td>\n",
       "      <td>296186</td>\n",
       "    </tr>\n",
       "    <tr>\n",
       "      <th>1295</th>\n",
       "      <td>2021-09-01</td>\n",
       "      <td>287533</td>\n",
       "    </tr>\n",
       "  </tbody>\n",
       "</table>\n",
       "<p>1296 rows × 2 columns</p>\n",
       "</div>"
      ],
      "text/plain": [
       "             end  tweet_count\n",
       "0     2018-01-02        90414\n",
       "1     2018-01-03       125905\n",
       "2     2018-01-04       134825\n",
       "3     2018-01-05       126106\n",
       "4     2018-01-06       115883\n",
       "...          ...          ...\n",
       "1291  2021-08-29       275021\n",
       "1292  2021-08-30       321682\n",
       "1293  2021-08-31       305249\n",
       "1294  2021-09-01       296186\n",
       "1295  2021-09-01       287533\n",
       "\n",
       "[1296 rows x 2 columns]"
      ]
     },
     "execution_count": 109,
     "metadata": {},
     "output_type": "execute_result"
    }
   ],
   "source": [
    "tweet_count_df"
   ]
  },
  {
   "cell_type": "code",
   "execution_count": 110,
   "id": "bde53cfb",
   "metadata": {
    "hidden": true
   },
   "outputs": [],
   "source": [
    "tweet_count_df.set_index('end', inplace=True)"
   ]
  },
  {
   "cell_type": "code",
   "execution_count": 111,
   "id": "4e43b3ea",
   "metadata": {
    "hidden": true,
    "scrolled": false
   },
   "outputs": [
    {
     "data": {
      "text/html": [
       "<div>\n",
       "<style scoped>\n",
       "    .dataframe tbody tr th:only-of-type {\n",
       "        vertical-align: middle;\n",
       "    }\n",
       "\n",
       "    .dataframe tbody tr th {\n",
       "        vertical-align: top;\n",
       "    }\n",
       "\n",
       "    .dataframe thead th {\n",
       "        text-align: right;\n",
       "    }\n",
       "</style>\n",
       "<table border=\"1\" class=\"dataframe\">\n",
       "  <thead>\n",
       "    <tr style=\"text-align: right;\">\n",
       "      <th></th>\n",
       "      <th>tweet_count</th>\n",
       "      <th>close</th>\n",
       "      <th>changePercent</th>\n",
       "    </tr>\n",
       "  </thead>\n",
       "  <tbody>\n",
       "    <tr>\n",
       "      <th>2018-01-02</th>\n",
       "      <td>90414</td>\n",
       "      <td>14982.099609</td>\n",
       "      <td>9.960</td>\n",
       "    </tr>\n",
       "    <tr>\n",
       "      <th>2018-01-03</th>\n",
       "      <td>125905</td>\n",
       "      <td>15201.000000</td>\n",
       "      <td>1.487</td>\n",
       "    </tr>\n",
       "    <tr>\n",
       "      <th>2018-01-04</th>\n",
       "      <td>134825</td>\n",
       "      <td>15599.200195</td>\n",
       "      <td>2.151</td>\n",
       "    </tr>\n",
       "    <tr>\n",
       "      <th>2018-01-05</th>\n",
       "      <td>126106</td>\n",
       "      <td>17429.500000</td>\n",
       "      <td>12.614</td>\n",
       "    </tr>\n",
       "    <tr>\n",
       "      <th>2018-01-06</th>\n",
       "      <td>115883</td>\n",
       "      <td>17527.000000</td>\n",
       "      <td>0.372</td>\n",
       "    </tr>\n",
       "  </tbody>\n",
       "</table>\n",
       "</div>"
      ],
      "text/plain": [
       "            tweet_count         close  changePercent\n",
       "2018-01-02        90414  14982.099609          9.960\n",
       "2018-01-03       125905  15201.000000          1.487\n",
       "2018-01-04       134825  15599.200195          2.151\n",
       "2018-01-05       126106  17429.500000         12.614\n",
       "2018-01-06       115883  17527.000000          0.372"
      ]
     },
     "execution_count": 111,
     "metadata": {},
     "output_type": "execute_result"
    }
   ],
   "source": [
    "df = tweet_count_df.join(Bitcoin_price_df)\n",
    "df.head()"
   ]
  },
  {
   "cell_type": "code",
   "execution_count": 120,
   "id": "4f76cf21",
   "metadata": {
    "hidden": true
   },
   "outputs": [],
   "source": [
    "df = df.reset_index()"
   ]
  },
  {
   "cell_type": "code",
   "execution_count": 121,
   "id": "a87dcf76",
   "metadata": {
    "hidden": true,
    "scrolled": false
   },
   "outputs": [
    {
     "data": {
      "text/html": [
       "<div>\n",
       "<style scoped>\n",
       "    .dataframe tbody tr th:only-of-type {\n",
       "        vertical-align: middle;\n",
       "    }\n",
       "\n",
       "    .dataframe tbody tr th {\n",
       "        vertical-align: top;\n",
       "    }\n",
       "\n",
       "    .dataframe thead th {\n",
       "        text-align: right;\n",
       "    }\n",
       "</style>\n",
       "<table border=\"1\" class=\"dataframe\">\n",
       "  <thead>\n",
       "    <tr style=\"text-align: right;\">\n",
       "      <th></th>\n",
       "      <th>level_0</th>\n",
       "      <th>index</th>\n",
       "      <th>tweet_count</th>\n",
       "      <th>close</th>\n",
       "      <th>changePercent</th>\n",
       "    </tr>\n",
       "  </thead>\n",
       "  <tbody>\n",
       "    <tr>\n",
       "      <th>0</th>\n",
       "      <td>0</td>\n",
       "      <td>2018-01-02</td>\n",
       "      <td>90414</td>\n",
       "      <td>14982.099609</td>\n",
       "      <td>9.960</td>\n",
       "    </tr>\n",
       "    <tr>\n",
       "      <th>1</th>\n",
       "      <td>1</td>\n",
       "      <td>2018-01-03</td>\n",
       "      <td>125905</td>\n",
       "      <td>15201.000000</td>\n",
       "      <td>1.487</td>\n",
       "    </tr>\n",
       "    <tr>\n",
       "      <th>2</th>\n",
       "      <td>2</td>\n",
       "      <td>2018-01-04</td>\n",
       "      <td>134825</td>\n",
       "      <td>15599.200195</td>\n",
       "      <td>2.151</td>\n",
       "    </tr>\n",
       "    <tr>\n",
       "      <th>3</th>\n",
       "      <td>3</td>\n",
       "      <td>2018-01-05</td>\n",
       "      <td>126106</td>\n",
       "      <td>17429.500000</td>\n",
       "      <td>12.614</td>\n",
       "    </tr>\n",
       "    <tr>\n",
       "      <th>4</th>\n",
       "      <td>4</td>\n",
       "      <td>2018-01-06</td>\n",
       "      <td>115883</td>\n",
       "      <td>17527.000000</td>\n",
       "      <td>0.372</td>\n",
       "    </tr>\n",
       "  </tbody>\n",
       "</table>\n",
       "</div>"
      ],
      "text/plain": [
       "   level_0      index  tweet_count         close  changePercent\n",
       "0        0 2018-01-02        90414  14982.099609          9.960\n",
       "1        1 2018-01-03       125905  15201.000000          1.487\n",
       "2        2 2018-01-04       134825  15599.200195          2.151\n",
       "3        3 2018-01-05       126106  17429.500000         12.614\n",
       "4        4 2018-01-06       115883  17527.000000          0.372"
      ]
     },
     "execution_count": 121,
     "metadata": {},
     "output_type": "execute_result"
    }
   ],
   "source": [
    "df.head()"
   ]
  },
  {
   "cell_type": "code",
   "execution_count": 123,
   "id": "159a4b08",
   "metadata": {
    "hidden": true
   },
   "outputs": [],
   "source": [
    "df.date = pd.to_datetime(df.index) \n",
    "df = df.set_index('index')"
   ]
  },
  {
   "cell_type": "code",
   "execution_count": 124,
   "id": "2de220b4",
   "metadata": {
    "hidden": true
   },
   "outputs": [
    {
     "data": {
      "text/html": [
       "<div>\n",
       "<style scoped>\n",
       "    .dataframe tbody tr th:only-of-type {\n",
       "        vertical-align: middle;\n",
       "    }\n",
       "\n",
       "    .dataframe tbody tr th {\n",
       "        vertical-align: top;\n",
       "    }\n",
       "\n",
       "    .dataframe thead th {\n",
       "        text-align: right;\n",
       "    }\n",
       "</style>\n",
       "<table border=\"1\" class=\"dataframe\">\n",
       "  <thead>\n",
       "    <tr style=\"text-align: right;\">\n",
       "      <th></th>\n",
       "      <th>level_0</th>\n",
       "      <th>tweet_count</th>\n",
       "      <th>close</th>\n",
       "      <th>changePercent</th>\n",
       "    </tr>\n",
       "    <tr>\n",
       "      <th>index</th>\n",
       "      <th></th>\n",
       "      <th></th>\n",
       "      <th></th>\n",
       "      <th></th>\n",
       "    </tr>\n",
       "  </thead>\n",
       "  <tbody>\n",
       "    <tr>\n",
       "      <th>2018-01-02</th>\n",
       "      <td>0</td>\n",
       "      <td>90414</td>\n",
       "      <td>14982.099609</td>\n",
       "      <td>9.960</td>\n",
       "    </tr>\n",
       "    <tr>\n",
       "      <th>2018-01-03</th>\n",
       "      <td>1</td>\n",
       "      <td>125905</td>\n",
       "      <td>15201.000000</td>\n",
       "      <td>1.487</td>\n",
       "    </tr>\n",
       "    <tr>\n",
       "      <th>2018-01-04</th>\n",
       "      <td>2</td>\n",
       "      <td>134825</td>\n",
       "      <td>15599.200195</td>\n",
       "      <td>2.151</td>\n",
       "    </tr>\n",
       "    <tr>\n",
       "      <th>2018-01-05</th>\n",
       "      <td>3</td>\n",
       "      <td>126106</td>\n",
       "      <td>17429.500000</td>\n",
       "      <td>12.614</td>\n",
       "    </tr>\n",
       "    <tr>\n",
       "      <th>2018-01-06</th>\n",
       "      <td>4</td>\n",
       "      <td>115883</td>\n",
       "      <td>17527.000000</td>\n",
       "      <td>0.372</td>\n",
       "    </tr>\n",
       "  </tbody>\n",
       "</table>\n",
       "</div>"
      ],
      "text/plain": [
       "            level_0  tweet_count         close  changePercent\n",
       "index                                                        \n",
       "2018-01-02        0        90414  14982.099609          9.960\n",
       "2018-01-03        1       125905  15201.000000          1.487\n",
       "2018-01-04        2       134825  15599.200195          2.151\n",
       "2018-01-05        3       126106  17429.500000         12.614\n",
       "2018-01-06        4       115883  17527.000000          0.372"
      ]
     },
     "execution_count": 124,
     "metadata": {},
     "output_type": "execute_result"
    }
   ],
   "source": [
    "df.head()"
   ]
  },
  {
   "cell_type": "code",
   "execution_count": 125,
   "id": "888714f8",
   "metadata": {
    "hidden": true,
    "scrolled": true
   },
   "outputs": [
    {
     "data": {
      "text/plain": [
       "Text(0.5, 1.0, 'Correlation between number of tweets and bitcoin price')"
      ]
     },
     "execution_count": 125,
     "metadata": {},
     "output_type": "execute_result"
    },
    {
     "data": {
      "image/png": "[encoded data removed]",
      "text/plain": [
       "<Figure size 648x360 with 1 Axes>"
      ]
     },
     "metadata": {
      "needs_background": "light"
     },
     "output_type": "display_data"
    }
   ],
   "source": [
    "plt.figure(figsize=(9,5))\n",
    "plt.plot(df['tweet_count'],lw=1, label='Tweet count')\n",
    "plt.plot(df['close'],lw=1, label='BTC Price')\n",
    "plt.legend(loc=2,prop={'size':11})\n",
    "plt.grid(True)\n",
    "plt.setp(plt.gca().get_xticklabels(), rotation=30)\n",
    "plt.title('Correlation between number of tweets and bitcoin price')"
   ]
  },
  {
   "cell_type": "code",
   "execution_count": 126,
   "id": "cd8d6b77",
   "metadata": {
    "hidden": true,
    "scrolled": false
   },
   "outputs": [
    {
     "data": {
      "text/html": [
       "<div>\n",
       "<style scoped>\n",
       "    .dataframe tbody tr th:only-of-type {\n",
       "        vertical-align: middle;\n",
       "    }\n",
       "\n",
       "    .dataframe tbody tr th {\n",
       "        vertical-align: top;\n",
       "    }\n",
       "\n",
       "    .dataframe thead th {\n",
       "        text-align: right;\n",
       "    }\n",
       "</style>\n",
       "<table border=\"1\" class=\"dataframe\">\n",
       "  <thead>\n",
       "    <tr style=\"text-align: right;\">\n",
       "      <th></th>\n",
       "      <th>level_0</th>\n",
       "      <th>tweet_count</th>\n",
       "      <th>close</th>\n",
       "      <th>changePercent</th>\n",
       "    </tr>\n",
       "    <tr>\n",
       "      <th>index</th>\n",
       "      <th></th>\n",
       "      <th></th>\n",
       "      <th></th>\n",
       "      <th></th>\n",
       "    </tr>\n",
       "  </thead>\n",
       "  <tbody>\n",
       "    <tr>\n",
       "      <th>2018-02-24</th>\n",
       "      <td>52</td>\n",
       "      <td>88947</td>\n",
       "      <td>9813.070313</td>\n",
       "      <td>-4.614</td>\n",
       "    </tr>\n",
       "    <tr>\n",
       "      <th>2018-02-25</th>\n",
       "      <td>53</td>\n",
       "      <td>77639</td>\n",
       "      <td>9664.730469</td>\n",
       "      <td>-1.344</td>\n",
       "    </tr>\n",
       "    <tr>\n",
       "      <th>2018-02-26</th>\n",
       "      <td>54</td>\n",
       "      <td>77995</td>\n",
       "      <td>10366.700195</td>\n",
       "      <td>7.211</td>\n",
       "    </tr>\n",
       "    <tr>\n",
       "      <th>2018-02-27</th>\n",
       "      <td>55</td>\n",
       "      <td>91399</td>\n",
       "      <td>10725.599609</td>\n",
       "      <td>3.191</td>\n",
       "    </tr>\n",
       "    <tr>\n",
       "      <th>2018-02-28</th>\n",
       "      <td>56</td>\n",
       "      <td>96115</td>\n",
       "      <td>10397.900391</td>\n",
       "      <td>-2.707</td>\n",
       "    </tr>\n",
       "  </tbody>\n",
       "</table>\n",
       "</div>"
      ],
      "text/plain": [
       "            level_0  tweet_count         close  changePercent\n",
       "index                                                        \n",
       "2018-02-24       52        88947   9813.070313         -4.614\n",
       "2018-02-25       53        77639   9664.730469         -1.344\n",
       "2018-02-26       54        77995  10366.700195          7.211\n",
       "2018-02-27       55        91399  10725.599609          3.191\n",
       "2018-02-28       56        96115  10397.900391         -2.707"
      ]
     },
     "execution_count": 126,
     "metadata": {},
     "output_type": "execute_result"
    }
   ],
   "source": [
    "df_feb_2018 = df[29:57]\n",
    "df_feb_2018.tail()"
   ]
  },
  {
   "cell_type": "code",
   "execution_count": 127,
   "id": "9a52c158",
   "metadata": {
    "hidden": true,
    "scrolled": true
   },
   "outputs": [
    {
     "data": {
      "text/html": [
       "<div>\n",
       "<style scoped>\n",
       "    .dataframe tbody tr th:only-of-type {\n",
       "        vertical-align: middle;\n",
       "    }\n",
       "\n",
       "    .dataframe tbody tr th {\n",
       "        vertical-align: top;\n",
       "    }\n",
       "\n",
       "    .dataframe thead th {\n",
       "        text-align: right;\n",
       "    }\n",
       "</style>\n",
       "<table border=\"1\" class=\"dataframe\">\n",
       "  <thead>\n",
       "    <tr style=\"text-align: right;\">\n",
       "      <th></th>\n",
       "      <th>level_0</th>\n",
       "      <th>tweet_count</th>\n",
       "      <th>close</th>\n",
       "      <th>changePercent</th>\n",
       "    </tr>\n",
       "    <tr>\n",
       "      <th>index</th>\n",
       "      <th></th>\n",
       "      <th></th>\n",
       "      <th></th>\n",
       "      <th></th>\n",
       "    </tr>\n",
       "  </thead>\n",
       "  <tbody>\n",
       "    <tr>\n",
       "      <th>2018-02-01</th>\n",
       "      <td>29</td>\n",
       "      <td>127143</td>\n",
       "      <td>9170.540039</td>\n",
       "      <td>-10.420</td>\n",
       "    </tr>\n",
       "    <tr>\n",
       "      <th>2018-02-02</th>\n",
       "      <td>30</td>\n",
       "      <td>137124</td>\n",
       "      <td>8830.750000</td>\n",
       "      <td>-3.408</td>\n",
       "    </tr>\n",
       "    <tr>\n",
       "      <th>2018-02-03</th>\n",
       "      <td>31</td>\n",
       "      <td>157484</td>\n",
       "      <td>9174.910156</td>\n",
       "      <td>3.646</td>\n",
       "    </tr>\n",
       "    <tr>\n",
       "      <th>2018-02-04</th>\n",
       "      <td>32</td>\n",
       "      <td>110923</td>\n",
       "      <td>8277.009766</td>\n",
       "      <td>-9.794</td>\n",
       "    </tr>\n",
       "    <tr>\n",
       "      <th>2018-02-05</th>\n",
       "      <td>33</td>\n",
       "      <td>104837</td>\n",
       "      <td>6955.270020</td>\n",
       "      <td>-15.903</td>\n",
       "    </tr>\n",
       "  </tbody>\n",
       "</table>\n",
       "</div>"
      ],
      "text/plain": [
       "            level_0  tweet_count        close  changePercent\n",
       "index                                                       \n",
       "2018-02-01       29       127143  9170.540039        -10.420\n",
       "2018-02-02       30       137124  8830.750000         -3.408\n",
       "2018-02-03       31       157484  9174.910156          3.646\n",
       "2018-02-04       32       110923  8277.009766         -9.794\n",
       "2018-02-05       33       104837  6955.270020        -15.903"
      ]
     },
     "execution_count": 127,
     "metadata": {},
     "output_type": "execute_result"
    }
   ],
   "source": [
    "df_feb_2018.head()"
   ]
  },
  {
   "cell_type": "code",
   "execution_count": 128,
   "id": "06a952e7",
   "metadata": {
    "hidden": true,
    "scrolled": true
   },
   "outputs": [
    {
     "data": {
      "text/plain": [
       "Text(0.5, 1.0, 'Correlation between number of tweets and bitcoin price')"
      ]
     },
     "execution_count": 128,
     "metadata": {},
     "output_type": "execute_result"
    },
    {
     "data": {
      "image/png": "[encoded data removed]",
      "text/plain": [
       "<Figure size 648x360 with 1 Axes>"
      ]
     },
     "metadata": {
      "needs_background": "light"
     },
     "output_type": "display_data"
    }
   ],
   "source": [
    "plt.figure(figsize=(9,5))\n",
    "plt.plot(df_feb_2018['tweet_count'],lw=1, label='Tweet count')\n",
    "plt.plot(df_feb_2018['close'],lw=1, label='BTC Price')\n",
    "plt.legend(loc=2,prop={'size':11})\n",
    "plt.grid(True)\n",
    "plt.setp(plt.gca().get_xticklabels(), rotation=30)\n",
    "plt.title('Correlation between number of tweets and bitcoin price')"
   ]
  },
  {
   "cell_type": "code",
   "execution_count": 131,
   "id": "7a9ba239",
   "metadata": {
    "hidden": true,
    "scrolled": true
   },
   "outputs": [
    {
     "data": {
      "text/plain": [
       "<AxesSubplot:>"
      ]
     },
     "execution_count": 131,
     "metadata": {},
     "output_type": "execute_result"
    },
    {
     "data": {
      "image/png": "[encoded data removed]",
      "text/plain": [
       "<Figure size 648x360 with 2 Axes>"
      ]
     },
     "metadata": {
      "needs_background": "light"
     },
     "output_type": "display_data"
    }
   ],
   "source": [
    "plt.figure(figsize=(9,5))\n",
    "df_feb_2018.changePercent.plot(label='Percentage price change',legend= True)\n",
    "df_feb_2018.tweet_count.plot(secondary_y=True, label = 'tweet count', legend = True)"
   ]
  },
  {
   "cell_type": "code",
   "execution_count": 118,
   "id": "36f26e82",
   "metadata": {
    "hidden": true
   },
   "outputs": [
    {
     "data": {
      "text/plain": [
       "<AxesSubplot:>"
      ]
     },
     "execution_count": 118,
     "metadata": {},
     "output_type": "execute_result"
    },
    {
     "data": {
      "image/png": "[encoded data removed]",
      "text/plain": [
       "<Figure size 432x288 with 2 Axes>"
      ]
     },
     "metadata": {
      "needs_background": "light"
     },
     "output_type": "display_data"
    }
   ],
   "source": [
    "df.changePercent.plot(label='Percentage price change',legend= True)\n",
    "df.tweet_count.plot(secondary_y=True, label = 'tweet count', legend = True)"
   ]
  },
  {
   "cell_type": "code",
   "execution_count": 117,
   "id": "a979b46e",
   "metadata": {
    "hidden": true
   },
   "outputs": [],
   "source": [
    "import numpy as np"
   ]
  },
  {
   "cell_type": "code",
   "execution_count": 156,
   "id": "d078aa64",
   "metadata": {
    "hidden": true
   },
   "outputs": [],
   "source": [
    "v1 = df.changePercent \n",
    "v2 = df.tweet_count"
   ]
  },
  {
   "cell_type": "code",
   "execution_count": 161,
   "id": "b334cc31",
   "metadata": {
    "hidden": true,
    "scrolled": true
   },
   "outputs": [
    {
     "name": "stdout",
     "output_type": "stream",
     "text": [
      "0.013735\n",
      "0.015349\n"
     ]
    },
    {
     "data": {
      "text/plain": [
       "index\n",
       "2018-01-02         NaN\n",
       "2018-01-03         NaN\n",
       "2018-01-04         NaN\n",
       "2018-01-05         NaN\n",
       "2018-01-06   -0.372143\n",
       "                ...   \n",
       "2021-08-29    0.415831\n",
       "2021-08-30   -0.083500\n",
       "2021-08-31   -0.383022\n",
       "2021-09-01   -0.472727\n",
       "2021-09-01   -0.562827\n",
       "Length: 1296, dtype: float64"
      ]
     },
     "execution_count": 161,
     "metadata": {},
     "output_type": "execute_result"
    }
   ],
   "source": [
    "print(f\"{np.corrcoef(v1[:-1], v2[:-1])[0][1]:.6f}\")\n",
    "0.333333\n",
    "print(f\"{np.corrcoef(v1[1:], v2[1:])[0][1]:.6f}\")\n",
    "0.916949\n",
    "s1 = pd.Series(v1)\n",
    "s2 = pd.Series(v2)\n",
    "s1.rolling(5).corr(s2)"
   ]
  },
  {
   "cell_type": "markdown",
   "id": "67d42a02",
   "metadata": {
    "hidden": true
   },
   "source": [
    "###  Reddit data"
   ]
  },
  {
   "cell_type": "code",
   "execution_count": 136,
   "id": "8c31c11b",
   "metadata": {
    "hidden": true
   },
   "outputs": [],
   "source": [
    "reddit_df = pd.read_csv('../cryptocurrency_trading/data/final_reddit_data.csv')"
   ]
  },
  {
   "cell_type": "code",
   "execution_count": 137,
   "id": "875dbbc9",
   "metadata": {
    "hidden": true
   },
   "outputs": [
    {
     "data": {
      "text/html": [
       "<div>\n",
       "<style scoped>\n",
       "    .dataframe tbody tr th:only-of-type {\n",
       "        vertical-align: middle;\n",
       "    }\n",
       "\n",
       "    .dataframe tbody tr th {\n",
       "        vertical-align: top;\n",
       "    }\n",
       "\n",
       "    .dataframe thead th {\n",
       "        text-align: right;\n",
       "    }\n",
       "</style>\n",
       "<table border=\"1\" class=\"dataframe\">\n",
       "  <thead>\n",
       "    <tr style=\"text-align: right;\">\n",
       "      <th></th>\n",
       "      <th>Unnamed: 0</th>\n",
       "      <th>date</th>\n",
       "      <th>real_score</th>\n",
       "      <th>post_per_day</th>\n",
       "    </tr>\n",
       "  </thead>\n",
       "  <tbody>\n",
       "    <tr>\n",
       "      <th>0</th>\n",
       "      <td>0</td>\n",
       "      <td>2018-01-01</td>\n",
       "      <td>0.191187</td>\n",
       "      <td>464</td>\n",
       "    </tr>\n",
       "    <tr>\n",
       "      <th>1</th>\n",
       "      <td>1</td>\n",
       "      <td>2018-01-02</td>\n",
       "      <td>0.476037</td>\n",
       "      <td>594</td>\n",
       "    </tr>\n",
       "    <tr>\n",
       "      <th>2</th>\n",
       "      <td>2</td>\n",
       "      <td>2018-01-03</td>\n",
       "      <td>0.689065</td>\n",
       "      <td>620</td>\n",
       "    </tr>\n",
       "    <tr>\n",
       "      <th>3</th>\n",
       "      <td>3</td>\n",
       "      <td>2018-01-04</td>\n",
       "      <td>-0.144155</td>\n",
       "      <td>629</td>\n",
       "    </tr>\n",
       "    <tr>\n",
       "      <th>4</th>\n",
       "      <td>4</td>\n",
       "      <td>2018-01-05</td>\n",
       "      <td>0.197948</td>\n",
       "      <td>686</td>\n",
       "    </tr>\n",
       "    <tr>\n",
       "      <th>...</th>\n",
       "      <td>...</td>\n",
       "      <td>...</td>\n",
       "      <td>...</td>\n",
       "      <td>...</td>\n",
       "    </tr>\n",
       "    <tr>\n",
       "      <th>1236</th>\n",
       "      <td>1236</td>\n",
       "      <td>2021-08-27</td>\n",
       "      <td>0.472290</td>\n",
       "      <td>269</td>\n",
       "    </tr>\n",
       "    <tr>\n",
       "      <th>1237</th>\n",
       "      <td>1237</td>\n",
       "      <td>2021-08-28</td>\n",
       "      <td>0.417047</td>\n",
       "      <td>219</td>\n",
       "    </tr>\n",
       "    <tr>\n",
       "      <th>1238</th>\n",
       "      <td>1238</td>\n",
       "      <td>2021-08-29</td>\n",
       "      <td>0.835773</td>\n",
       "      <td>199</td>\n",
       "    </tr>\n",
       "    <tr>\n",
       "      <th>1239</th>\n",
       "      <td>1239</td>\n",
       "      <td>2021-08-30</td>\n",
       "      <td>0.722232</td>\n",
       "      <td>232</td>\n",
       "    </tr>\n",
       "    <tr>\n",
       "      <th>1240</th>\n",
       "      <td>1240</td>\n",
       "      <td>2021-08-31</td>\n",
       "      <td>0.628596</td>\n",
       "      <td>259</td>\n",
       "    </tr>\n",
       "  </tbody>\n",
       "</table>\n",
       "<p>1241 rows × 4 columns</p>\n",
       "</div>"
      ],
      "text/plain": [
       "      Unnamed: 0        date  real_score  post_per_day\n",
       "0              0  2018-01-01    0.191187           464\n",
       "1              1  2018-01-02    0.476037           594\n",
       "2              2  2018-01-03    0.689065           620\n",
       "3              3  2018-01-04   -0.144155           629\n",
       "4              4  2018-01-05    0.197948           686\n",
       "...          ...         ...         ...           ...\n",
       "1236        1236  2021-08-27    0.472290           269\n",
       "1237        1237  2021-08-28    0.417047           219\n",
       "1238        1238  2021-08-29    0.835773           199\n",
       "1239        1239  2021-08-30    0.722232           232\n",
       "1240        1240  2021-08-31    0.628596           259\n",
       "\n",
       "[1241 rows x 4 columns]"
      ]
     },
     "execution_count": 137,
     "metadata": {},
     "output_type": "execute_result"
    }
   ],
   "source": [
    "reddit_df"
   ]
  },
  {
   "cell_type": "code",
   "execution_count": 138,
   "id": "3ff2ed6d",
   "metadata": {
    "hidden": true
   },
   "outputs": [],
   "source": [
    "reddit_df = reddit_df.drop(['Unnamed: 0'], axis =1)"
   ]
  },
  {
   "cell_type": "code",
   "execution_count": 139,
   "id": "c21eb1d0",
   "metadata": {
    "hidden": true,
    "scrolled": true
   },
   "outputs": [],
   "source": [
    "reddit_df['date'] = pd.to_datetime(reddit_df['date'])"
   ]
  },
  {
   "cell_type": "code",
   "execution_count": 140,
   "id": "8a649831",
   "metadata": {
    "hidden": true
   },
   "outputs": [
    {
     "data": {
      "text/html": [
       "<div>\n",
       "<style scoped>\n",
       "    .dataframe tbody tr th:only-of-type {\n",
       "        vertical-align: middle;\n",
       "    }\n",
       "\n",
       "    .dataframe tbody tr th {\n",
       "        vertical-align: top;\n",
       "    }\n",
       "\n",
       "    .dataframe thead th {\n",
       "        text-align: right;\n",
       "    }\n",
       "</style>\n",
       "<table border=\"1\" class=\"dataframe\">\n",
       "  <thead>\n",
       "    <tr style=\"text-align: right;\">\n",
       "      <th></th>\n",
       "      <th>date</th>\n",
       "      <th>real_score</th>\n",
       "      <th>post_per_day</th>\n",
       "    </tr>\n",
       "  </thead>\n",
       "  <tbody>\n",
       "    <tr>\n",
       "      <th>0</th>\n",
       "      <td>2018-01-01</td>\n",
       "      <td>0.191187</td>\n",
       "      <td>464</td>\n",
       "    </tr>\n",
       "    <tr>\n",
       "      <th>1</th>\n",
       "      <td>2018-01-02</td>\n",
       "      <td>0.476037</td>\n",
       "      <td>594</td>\n",
       "    </tr>\n",
       "    <tr>\n",
       "      <th>2</th>\n",
       "      <td>2018-01-03</td>\n",
       "      <td>0.689065</td>\n",
       "      <td>620</td>\n",
       "    </tr>\n",
       "    <tr>\n",
       "      <th>3</th>\n",
       "      <td>2018-01-04</td>\n",
       "      <td>-0.144155</td>\n",
       "      <td>629</td>\n",
       "    </tr>\n",
       "    <tr>\n",
       "      <th>4</th>\n",
       "      <td>2018-01-05</td>\n",
       "      <td>0.197948</td>\n",
       "      <td>686</td>\n",
       "    </tr>\n",
       "  </tbody>\n",
       "</table>\n",
       "</div>"
      ],
      "text/plain": [
       "        date  real_score  post_per_day\n",
       "0 2018-01-01    0.191187           464\n",
       "1 2018-01-02    0.476037           594\n",
       "2 2018-01-03    0.689065           620\n",
       "3 2018-01-04   -0.144155           629\n",
       "4 2018-01-05    0.197948           686"
      ]
     },
     "execution_count": 140,
     "metadata": {},
     "output_type": "execute_result"
    }
   ],
   "source": [
    "reddit_df.head()"
   ]
  },
  {
   "cell_type": "code",
   "execution_count": 141,
   "id": "a6794314",
   "metadata": {
    "hidden": true
   },
   "outputs": [
    {
     "data": {
      "text/html": [
       "<div>\n",
       "<style scoped>\n",
       "    .dataframe tbody tr th:only-of-type {\n",
       "        vertical-align: middle;\n",
       "    }\n",
       "\n",
       "    .dataframe tbody tr th {\n",
       "        vertical-align: top;\n",
       "    }\n",
       "\n",
       "    .dataframe thead th {\n",
       "        text-align: right;\n",
       "    }\n",
       "</style>\n",
       "<table border=\"1\" class=\"dataframe\">\n",
       "  <thead>\n",
       "    <tr style=\"text-align: right;\">\n",
       "      <th></th>\n",
       "      <th>date</th>\n",
       "      <th>real_score</th>\n",
       "      <th>post_per_day</th>\n",
       "    </tr>\n",
       "  </thead>\n",
       "  <tbody>\n",
       "    <tr>\n",
       "      <th>1236</th>\n",
       "      <td>2021-08-27</td>\n",
       "      <td>0.472290</td>\n",
       "      <td>269</td>\n",
       "    </tr>\n",
       "    <tr>\n",
       "      <th>1237</th>\n",
       "      <td>2021-08-28</td>\n",
       "      <td>0.417047</td>\n",
       "      <td>219</td>\n",
       "    </tr>\n",
       "    <tr>\n",
       "      <th>1238</th>\n",
       "      <td>2021-08-29</td>\n",
       "      <td>0.835773</td>\n",
       "      <td>199</td>\n",
       "    </tr>\n",
       "    <tr>\n",
       "      <th>1239</th>\n",
       "      <td>2021-08-30</td>\n",
       "      <td>0.722232</td>\n",
       "      <td>232</td>\n",
       "    </tr>\n",
       "    <tr>\n",
       "      <th>1240</th>\n",
       "      <td>2021-08-31</td>\n",
       "      <td>0.628596</td>\n",
       "      <td>259</td>\n",
       "    </tr>\n",
       "  </tbody>\n",
       "</table>\n",
       "</div>"
      ],
      "text/plain": [
       "           date  real_score  post_per_day\n",
       "1236 2021-08-27    0.472290           269\n",
       "1237 2021-08-28    0.417047           219\n",
       "1238 2021-08-29    0.835773           199\n",
       "1239 2021-08-30    0.722232           232\n",
       "1240 2021-08-31    0.628596           259"
      ]
     },
     "execution_count": 141,
     "metadata": {},
     "output_type": "execute_result"
    }
   ],
   "source": [
    "reddit_df.tail()"
   ]
  },
  {
   "cell_type": "code",
   "execution_count": 142,
   "id": "56deb911",
   "metadata": {
    "hidden": true
   },
   "outputs": [],
   "source": [
    "reddit_df.set_index('date', inplace=True)"
   ]
  },
  {
   "cell_type": "code",
   "execution_count": 143,
   "id": "c843fb64",
   "metadata": {
    "hidden": true
   },
   "outputs": [
    {
     "data": {
      "text/html": [
       "<div>\n",
       "<style scoped>\n",
       "    .dataframe tbody tr th:only-of-type {\n",
       "        vertical-align: middle;\n",
       "    }\n",
       "\n",
       "    .dataframe tbody tr th {\n",
       "        vertical-align: top;\n",
       "    }\n",
       "\n",
       "    .dataframe thead th {\n",
       "        text-align: right;\n",
       "    }\n",
       "</style>\n",
       "<table border=\"1\" class=\"dataframe\">\n",
       "  <thead>\n",
       "    <tr style=\"text-align: right;\">\n",
       "      <th></th>\n",
       "      <th>real_score</th>\n",
       "      <th>post_per_day</th>\n",
       "    </tr>\n",
       "    <tr>\n",
       "      <th>date</th>\n",
       "      <th></th>\n",
       "      <th></th>\n",
       "    </tr>\n",
       "  </thead>\n",
       "  <tbody>\n",
       "    <tr>\n",
       "      <th>2018-01-01</th>\n",
       "      <td>0.191187</td>\n",
       "      <td>464</td>\n",
       "    </tr>\n",
       "    <tr>\n",
       "      <th>2018-01-02</th>\n",
       "      <td>0.476037</td>\n",
       "      <td>594</td>\n",
       "    </tr>\n",
       "    <tr>\n",
       "      <th>2018-01-03</th>\n",
       "      <td>0.689065</td>\n",
       "      <td>620</td>\n",
       "    </tr>\n",
       "    <tr>\n",
       "      <th>2018-01-04</th>\n",
       "      <td>-0.144155</td>\n",
       "      <td>629</td>\n",
       "    </tr>\n",
       "    <tr>\n",
       "      <th>2018-01-05</th>\n",
       "      <td>0.197948</td>\n",
       "      <td>686</td>\n",
       "    </tr>\n",
       "  </tbody>\n",
       "</table>\n",
       "</div>"
      ],
      "text/plain": [
       "            real_score  post_per_day\n",
       "date                                \n",
       "2018-01-01    0.191187           464\n",
       "2018-01-02    0.476037           594\n",
       "2018-01-03    0.689065           620\n",
       "2018-01-04   -0.144155           629\n",
       "2018-01-05    0.197948           686"
      ]
     },
     "execution_count": 143,
     "metadata": {},
     "output_type": "execute_result"
    }
   ],
   "source": [
    "reddit_df.head()"
   ]
  },
  {
   "cell_type": "code",
   "execution_count": 144,
   "id": "7b15e210",
   "metadata": {
    "hidden": true
   },
   "outputs": [],
   "source": [
    "reddit_price_df = reddit_df.join(Bitcoin_price_df)"
   ]
  },
  {
   "cell_type": "code",
   "execution_count": 145,
   "id": "3f94fdf8",
   "metadata": {
    "hidden": true,
    "scrolled": true
   },
   "outputs": [
    {
     "data": {
      "text/html": [
       "<div>\n",
       "<style scoped>\n",
       "    .dataframe tbody tr th:only-of-type {\n",
       "        vertical-align: middle;\n",
       "    }\n",
       "\n",
       "    .dataframe tbody tr th {\n",
       "        vertical-align: top;\n",
       "    }\n",
       "\n",
       "    .dataframe thead th {\n",
       "        text-align: right;\n",
       "    }\n",
       "</style>\n",
       "<table border=\"1\" class=\"dataframe\">\n",
       "  <thead>\n",
       "    <tr style=\"text-align: right;\">\n",
       "      <th></th>\n",
       "      <th>real_score</th>\n",
       "      <th>post_per_day</th>\n",
       "      <th>close</th>\n",
       "      <th>changePercent</th>\n",
       "    </tr>\n",
       "    <tr>\n",
       "      <th>date</th>\n",
       "      <th></th>\n",
       "      <th></th>\n",
       "      <th></th>\n",
       "      <th></th>\n",
       "    </tr>\n",
       "  </thead>\n",
       "  <tbody>\n",
       "    <tr>\n",
       "      <th>2018-01-01</th>\n",
       "      <td>0.191187</td>\n",
       "      <td>464</td>\n",
       "      <td>13657.200195</td>\n",
       "      <td>-3.224</td>\n",
       "    </tr>\n",
       "    <tr>\n",
       "      <th>2018-01-02</th>\n",
       "      <td>0.476037</td>\n",
       "      <td>594</td>\n",
       "      <td>14982.099609</td>\n",
       "      <td>9.960</td>\n",
       "    </tr>\n",
       "    <tr>\n",
       "      <th>2018-01-03</th>\n",
       "      <td>0.689065</td>\n",
       "      <td>620</td>\n",
       "      <td>15201.000000</td>\n",
       "      <td>1.487</td>\n",
       "    </tr>\n",
       "    <tr>\n",
       "      <th>2018-01-04</th>\n",
       "      <td>-0.144155</td>\n",
       "      <td>629</td>\n",
       "      <td>15599.200195</td>\n",
       "      <td>2.151</td>\n",
       "    </tr>\n",
       "    <tr>\n",
       "      <th>2018-01-05</th>\n",
       "      <td>0.197948</td>\n",
       "      <td>686</td>\n",
       "      <td>17429.500000</td>\n",
       "      <td>12.614</td>\n",
       "    </tr>\n",
       "  </tbody>\n",
       "</table>\n",
       "</div>"
      ],
      "text/plain": [
       "            real_score  post_per_day         close  changePercent\n",
       "date                                                             \n",
       "2018-01-01    0.191187           464  13657.200195         -3.224\n",
       "2018-01-02    0.476037           594  14982.099609          9.960\n",
       "2018-01-03    0.689065           620  15201.000000          1.487\n",
       "2018-01-04   -0.144155           629  15599.200195          2.151\n",
       "2018-01-05    0.197948           686  17429.500000         12.614"
      ]
     },
     "execution_count": 145,
     "metadata": {},
     "output_type": "execute_result"
    }
   ],
   "source": [
    "reddit_price_df.head()"
   ]
  },
  {
   "cell_type": "code",
   "execution_count": 153,
   "id": "cdc121d3",
   "metadata": {
    "hidden": true
   },
   "outputs": [],
   "source": [
    "reddit_price_feb_2018 = reddit_price_df[31:57]"
   ]
  },
  {
   "cell_type": "code",
   "execution_count": 154,
   "id": "af3a5eaa",
   "metadata": {
    "hidden": true
   },
   "outputs": [
    {
     "data": {
      "text/html": [
       "<div>\n",
       "<style scoped>\n",
       "    .dataframe tbody tr th:only-of-type {\n",
       "        vertical-align: middle;\n",
       "    }\n",
       "\n",
       "    .dataframe tbody tr th {\n",
       "        vertical-align: top;\n",
       "    }\n",
       "\n",
       "    .dataframe thead th {\n",
       "        text-align: right;\n",
       "    }\n",
       "</style>\n",
       "<table border=\"1\" class=\"dataframe\">\n",
       "  <thead>\n",
       "    <tr style=\"text-align: right;\">\n",
       "      <th></th>\n",
       "      <th>real_score</th>\n",
       "      <th>post_per_day</th>\n",
       "      <th>close</th>\n",
       "      <th>changePercent</th>\n",
       "    </tr>\n",
       "    <tr>\n",
       "      <th>date</th>\n",
       "      <th></th>\n",
       "      <th></th>\n",
       "      <th></th>\n",
       "      <th></th>\n",
       "    </tr>\n",
       "  </thead>\n",
       "  <tbody>\n",
       "    <tr>\n",
       "      <th>2018-02-22</th>\n",
       "      <td>0.042140</td>\n",
       "      <td>368</td>\n",
       "      <td>10005.000000</td>\n",
       "      <td>-6.148</td>\n",
       "    </tr>\n",
       "    <tr>\n",
       "      <th>2018-02-23</th>\n",
       "      <td>0.451952</td>\n",
       "      <td>361</td>\n",
       "      <td>10301.099609</td>\n",
       "      <td>3.663</td>\n",
       "    </tr>\n",
       "    <tr>\n",
       "      <th>2018-02-26</th>\n",
       "      <td>0.444148</td>\n",
       "      <td>347</td>\n",
       "      <td>10366.700195</td>\n",
       "      <td>7.211</td>\n",
       "    </tr>\n",
       "    <tr>\n",
       "      <th>2018-02-27</th>\n",
       "      <td>0.516057</td>\n",
       "      <td>341</td>\n",
       "      <td>10725.599609</td>\n",
       "      <td>3.191</td>\n",
       "    </tr>\n",
       "    <tr>\n",
       "      <th>2018-02-28</th>\n",
       "      <td>0.437724</td>\n",
       "      <td>369</td>\n",
       "      <td>10397.900391</td>\n",
       "      <td>-2.707</td>\n",
       "    </tr>\n",
       "  </tbody>\n",
       "</table>\n",
       "</div>"
      ],
      "text/plain": [
       "            real_score  post_per_day         close  changePercent\n",
       "date                                                             \n",
       "2018-02-22    0.042140           368  10005.000000         -6.148\n",
       "2018-02-23    0.451952           361  10301.099609          3.663\n",
       "2018-02-26    0.444148           347  10366.700195          7.211\n",
       "2018-02-27    0.516057           341  10725.599609          3.191\n",
       "2018-02-28    0.437724           369  10397.900391         -2.707"
      ]
     },
     "execution_count": 154,
     "metadata": {},
     "output_type": "execute_result"
    }
   ],
   "source": [
    "reddit_price_feb_2018.tail()"
   ]
  },
  {
   "cell_type": "code",
   "execution_count": 155,
   "id": "1eb32241",
   "metadata": {
    "hidden": true
   },
   "outputs": [
    {
     "data": {
      "text/plain": [
       "<AxesSubplot:>"
      ]
     },
     "execution_count": 155,
     "metadata": {},
     "output_type": "execute_result"
    },
    {
     "data": {
      "image/png": "[encoded data removed]",
      "text/plain": [
       "<Figure size 648x360 with 2 Axes>"
      ]
     },
     "metadata": {
      "needs_background": "light"
     },
     "output_type": "display_data"
    }
   ],
   "source": [
    "plt.figure(figsize=(9,5))\n",
    "reddit_price_feb_2018.changePercent.plot(label='Percentage price change',legend= True)\n",
    "reddit_price_feb_2018.post_per_day.plot(secondary_y=True, label = 'tweet count', legend = True)"
   ]
  },
  {
   "cell_type": "code",
   "execution_count": 86,
   "id": "30370c23",
   "metadata": {
    "hidden": true,
    "scrolled": false
   },
   "outputs": [
    {
     "data": {
      "text/plain": [
       "Text(0.5, 1.0, 'Correlation between number of tweets and bitcoin price')"
      ]
     },
     "execution_count": 86,
     "metadata": {},
     "output_type": "execute_result"
    },
    {
     "data": {
      "image/png": "[encoded data removed]",
      "text/plain": [
       "<Figure size 648x360 with 1 Axes>"
      ]
     },
     "metadata": {
      "needs_background": "light"
     },
     "output_type": "display_data"
    }
   ],
   "source": [
    "plt.figure(figsize=(9,5))\n",
    "plt.plot(reddit_df['post_per_day'],lw=1, label='Reddit post count')\n",
    "plt.plot(data['close']/100,lw=1, label='BTC Price')\n",
    "plt.legend(loc=2,prop={'size':11})\n",
    "plt.grid(True)\n",
    "plt.setp(plt.gca().get_xticklabels(), rotation=30)\n",
    "plt.title('Correlation between number of reddit posts and bitcoin price')"
   ]
  },
  {
   "cell_type": "code",
   "execution_count": 8,
   "id": "1b556cf3",
   "metadata": {
    "hidden": true
   },
   "outputs": [
    {
     "data": {
      "text/html": [
       "<div>\n",
       "<style scoped>\n",
       "    .dataframe tbody tr th:only-of-type {\n",
       "        vertical-align: middle;\n",
       "    }\n",
       "\n",
       "    .dataframe tbody tr th {\n",
       "        vertical-align: top;\n",
       "    }\n",
       "\n",
       "    .dataframe thead th {\n",
       "        text-align: right;\n",
       "    }\n",
       "</style>\n",
       "<table border=\"1\" class=\"dataframe\">\n",
       "  <thead>\n",
       "    <tr style=\"text-align: right;\">\n",
       "      <th></th>\n",
       "      <th>Unnamed: 0</th>\n",
       "      <th>id</th>\n",
       "      <th>text</th>\n",
       "      <th>start</th>\n",
       "      <th>end</th>\n",
       "    </tr>\n",
       "  </thead>\n",
       "  <tbody>\n",
       "    <tr>\n",
       "      <th>0</th>\n",
       "      <td>0</td>\n",
       "      <td>1425623064121724929</td>\n",
       "      <td>RT @WClementeIII: 76.8% of Bitcoin's money sup...</td>\n",
       "      <td>2018-01-01 00:00:00+00:00</td>\n",
       "      <td>2018-01-02T00:00:00Z</td>\n",
       "    </tr>\n",
       "    <tr>\n",
       "      <th>1</th>\n",
       "      <td>1</td>\n",
       "      <td>1425622402176675842</td>\n",
       "      <td>RT @1MillionTokens: 🥰1000 #1MT #Giveaway ( wor...</td>\n",
       "      <td>2018-01-01 00:00:00+00:00</td>\n",
       "      <td>2018-01-02T00:00:00Z</td>\n",
       "    </tr>\n",
       "    <tr>\n",
       "      <th>2</th>\n",
       "      <td>2</td>\n",
       "      <td>1425622403439267849</td>\n",
       "      <td>RT @gladstein: 1/ My essay \"Inside Cuba's Bitc...</td>\n",
       "      <td>2018-01-01 00:00:00+00:00</td>\n",
       "      <td>2018-01-02T00:00:00Z</td>\n",
       "    </tr>\n",
       "    <tr>\n",
       "      <th>3</th>\n",
       "      <td>3</td>\n",
       "      <td>1425622403695058947</td>\n",
       "      <td>RT @AirdropDet: 🔍 New #Airdrop: META 1 Coin\\n\\...</td>\n",
       "      <td>2018-01-01 00:00:00+00:00</td>\n",
       "      <td>2018-01-02T00:00:00Z</td>\n",
       "    </tr>\n",
       "    <tr>\n",
       "      <th>4</th>\n",
       "      <td>4</td>\n",
       "      <td>1425622404194136066</td>\n",
       "      <td>RT @RewardHunters: Want to know about The Batt...</td>\n",
       "      <td>2018-01-01 00:00:00+00:00</td>\n",
       "      <td>2018-01-02T00:00:00Z</td>\n",
       "    </tr>\n",
       "  </tbody>\n",
       "</table>\n",
       "</div>"
      ],
      "text/plain": [
       "   Unnamed: 0                   id  \\\n",
       "0           0  1425623064121724929   \n",
       "1           1  1425622402176675842   \n",
       "2           2  1425622403439267849   \n",
       "3           3  1425622403695058947   \n",
       "4           4  1425622404194136066   \n",
       "\n",
       "                                                text  \\\n",
       "0  RT @WClementeIII: 76.8% of Bitcoin's money sup...   \n",
       "1  RT @1MillionTokens: 🥰1000 #1MT #Giveaway ( wor...   \n",
       "2  RT @gladstein: 1/ My essay \"Inside Cuba's Bitc...   \n",
       "3  RT @AirdropDet: 🔍 New #Airdrop: META 1 Coin\\n\\...   \n",
       "4  RT @RewardHunters: Want to know about The Batt...   \n",
       "\n",
       "                       start                   end  \n",
       "0  2018-01-01 00:00:00+00:00  2018-01-02T00:00:00Z  \n",
       "1  2018-01-01 00:00:00+00:00  2018-01-02T00:00:00Z  \n",
       "2  2018-01-01 00:00:00+00:00  2018-01-02T00:00:00Z  \n",
       "3  2018-01-01 00:00:00+00:00  2018-01-02T00:00:00Z  \n",
       "4  2018-01-01 00:00:00+00:00  2018-01-02T00:00:00Z  "
      ]
     },
     "execution_count": 8,
     "metadata": {},
     "output_type": "execute_result"
    }
   ],
   "source": [
    "tweet_content_df.head()"
   ]
  },
  {
   "cell_type": "code",
   "execution_count": 13,
   "id": "4495cb60",
   "metadata": {
    "hidden": true
   },
   "outputs": [
    {
     "data": {
      "text/plain": [
       "'@BITCOIN_AL_DIA Buenisimos resultados de Coinbase con subidon de numero de usuarios y beneficios , indicando que no solo sigue el interes sino que va a mas https://t.co/YJyFWSgaVU'"
      ]
     },
     "execution_count": 13,
     "metadata": {},
     "output_type": "execute_result"
    }
   ],
   "source": [
    "tweet_content_df.text[10]"
   ]
  },
  {
   "cell_type": "code",
   "execution_count": 15,
   "id": "17aee1c0",
   "metadata": {
    "hidden": true
   },
   "outputs": [
    {
     "name": "stdout",
     "output_type": "stream",
     "text": [
      "/home/omar/code/omarbelhaj99/cryptocurrency_trading/cryptocurrency_trading\n"
     ]
    }
   ],
   "source": [
    "cd ../cryptocurrency_trading/"
   ]
  },
  {
   "cell_type": "code",
   "execution_count": null,
   "id": "d8a47d2f",
   "metadata": {
    "hidden": true
   },
   "outputs": [],
   "source": []
  }
 ],
 "metadata": {
  "kernelspec": {
   "display_name": "Python 3 (ipykernel)",
   "language": "python",
   "name": "python3"
  },
  "language_info": {
   "codemirror_mode": {
    "name": "ipython",
    "version": 3
   },
   "file_extension": ".py",
   "mimetype": "text/x-python",
   "name": "python",
   "nbconvert_exporter": "python",
   "pygments_lexer": "ipython3",
   "version": "3.8.6"
  },
  "toc": {
   "base_numbering": 1,
   "nav_menu": {},
   "number_sections": true,
   "sideBar": true,
   "skip_h1_title": false,
   "title_cell": "Table of Contents",
   "title_sidebar": "Contents",
   "toc_cell": false,
   "toc_position": {},
   "toc_section_display": true,
   "toc_window_display": true
  }
 },
 "nbformat": 4,
 "nbformat_minor": 5
}
