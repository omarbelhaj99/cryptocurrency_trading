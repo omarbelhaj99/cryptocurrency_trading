{
 "cells": [
  {
   "cell_type": "markdown",
   "id": "74d4628b",
   "metadata": {},
   "source": [
    "Objective: Predicting Bitcoin daily price movement "
   ]
  },
  {
   "cell_type": "markdown",
   "id": "420ea4a7",
   "metadata": {
    "heading_collapsed": true
   },
   "source": [
    "## Bitcoin Price data from 13-01-2017 to 12-01-2022 "
   ]
  },
  {
   "cell_type": "markdown",
   "id": "9744fa55",
   "metadata": {
    "hidden": true
   },
   "source": [
    "5 years of data"
   ]
  },
  {
   "cell_type": "markdown",
   "id": "ed9098fb",
   "metadata": {
    "hidden": true
   },
   "source": [
    "imports"
   ]
  },
  {
   "cell_type": "code",
   "execution_count": 25,
   "id": "85b61341",
   "metadata": {
    "hidden": true
   },
   "outputs": [],
   "source": [
    "import pandas as pd\n",
    "import matplotlib.pyplot as plt\n",
    "import requests"
   ]
  },
  {
   "cell_type": "code",
   "execution_count": 26,
   "id": "0c5bf0a1",
   "metadata": {
    "hidden": true,
    "scrolled": true
   },
   "outputs": [
    {
     "data": {
      "text/html": [
       "<div>\n",
       "<style scoped>\n",
       "    .dataframe tbody tr th:only-of-type {\n",
       "        vertical-align: middle;\n",
       "    }\n",
       "\n",
       "    .dataframe tbody tr th {\n",
       "        vertical-align: top;\n",
       "    }\n",
       "\n",
       "    .dataframe thead th {\n",
       "        text-align: right;\n",
       "    }\n",
       "</style>\n",
       "<table border=\"1\" class=\"dataframe\">\n",
       "  <thead>\n",
       "    <tr style=\"text-align: right;\">\n",
       "      <th></th>\n",
       "      <th>date</th>\n",
       "      <th>open</th>\n",
       "      <th>high</th>\n",
       "      <th>low</th>\n",
       "      <th>close</th>\n",
       "      <th>adjClose</th>\n",
       "      <th>volume</th>\n",
       "      <th>unadjustedVolume</th>\n",
       "      <th>change</th>\n",
       "      <th>changePercent</th>\n",
       "      <th>vwap</th>\n",
       "      <th>label</th>\n",
       "      <th>changeOverTime</th>\n",
       "    </tr>\n",
       "  </thead>\n",
       "  <tbody>\n",
       "    <tr>\n",
       "      <th>0</th>\n",
       "      <td>2022-01-12</td>\n",
       "      <td>42776.830200</td>\n",
       "      <td>42942.709400</td>\n",
       "      <td>42588.767200</td>\n",
       "      <td>42839.807600</td>\n",
       "      <td>42839.807600</td>\n",
       "      <td>2.654798e+10</td>\n",
       "      <td>2.654798e+10</td>\n",
       "      <td>62.97740</td>\n",
       "      <td>0.147</td>\n",
       "      <td>42790.42807</td>\n",
       "      <td>January 12, 22</td>\n",
       "      <td>0.00147</td>\n",
       "    </tr>\n",
       "    <tr>\n",
       "      <th>1</th>\n",
       "      <td>2022-01-11</td>\n",
       "      <td>41861.042700</td>\n",
       "      <td>42148.080100</td>\n",
       "      <td>41703.983200</td>\n",
       "      <td>42148.080100</td>\n",
       "      <td>42148.080100</td>\n",
       "      <td>3.467735e+10</td>\n",
       "      <td>3.467735e+10</td>\n",
       "      <td>287.03740</td>\n",
       "      <td>0.686</td>\n",
       "      <td>42000.04780</td>\n",
       "      <td>January 11, 22</td>\n",
       "      <td>0.00686</td>\n",
       "    </tr>\n",
       "    <tr>\n",
       "      <th>2</th>\n",
       "      <td>2022-01-10</td>\n",
       "      <td>41932.756900</td>\n",
       "      <td>42253.057500</td>\n",
       "      <td>41772.873600</td>\n",
       "      <td>41919.103900</td>\n",
       "      <td>41919.103900</td>\n",
       "      <td>2.200912e+10</td>\n",
       "      <td>2.200912e+10</td>\n",
       "      <td>-13.65300</td>\n",
       "      <td>-0.033</td>\n",
       "      <td>41981.67833</td>\n",
       "      <td>January 10, 22</td>\n",
       "      <td>-0.00033</td>\n",
       "    </tr>\n",
       "    <tr>\n",
       "      <th>3</th>\n",
       "      <td>2022-01-09</td>\n",
       "      <td>41808.563900</td>\n",
       "      <td>42710.280700</td>\n",
       "      <td>41473.902200</td>\n",
       "      <td>41963.416500</td>\n",
       "      <td>41963.416500</td>\n",
       "      <td>2.250029e+10</td>\n",
       "      <td>2.250029e+10</td>\n",
       "      <td>154.85260</td>\n",
       "      <td>0.370</td>\n",
       "      <td>42049.19980</td>\n",
       "      <td>January 09, 22</td>\n",
       "      <td>0.00370</td>\n",
       "    </tr>\n",
       "    <tr>\n",
       "      <th>4</th>\n",
       "      <td>2022-01-08</td>\n",
       "      <td>41578.373000</td>\n",
       "      <td>42270.547300</td>\n",
       "      <td>40465.070800</td>\n",
       "      <td>41862.367700</td>\n",
       "      <td>41862.367700</td>\n",
       "      <td>2.811234e+10</td>\n",
       "      <td>2.811234e+10</td>\n",
       "      <td>283.99470</td>\n",
       "      <td>0.683</td>\n",
       "      <td>41532.66193</td>\n",
       "      <td>January 08, 22</td>\n",
       "      <td>0.00683</td>\n",
       "    </tr>\n",
       "    <tr>\n",
       "      <th>...</th>\n",
       "      <td>...</td>\n",
       "      <td>...</td>\n",
       "      <td>...</td>\n",
       "      <td>...</td>\n",
       "      <td>...</td>\n",
       "      <td>...</td>\n",
       "      <td>...</td>\n",
       "      <td>...</td>\n",
       "      <td>...</td>\n",
       "      <td>...</td>\n",
       "      <td>...</td>\n",
       "      <td>...</td>\n",
       "      <td>...</td>\n",
       "    </tr>\n",
       "    <tr>\n",
       "      <th>1821</th>\n",
       "      <td>2017-01-17</td>\n",
       "      <td>830.945984</td>\n",
       "      <td>910.560974</td>\n",
       "      <td>830.796021</td>\n",
       "      <td>907.937988</td>\n",
       "      <td>907.937988</td>\n",
       "      <td>1.550950e+08</td>\n",
       "      <td>1.550950e+08</td>\n",
       "      <td>76.99200</td>\n",
       "      <td>9.266</td>\n",
       "      <td>883.09833</td>\n",
       "      <td>January 17, 17</td>\n",
       "      <td>0.09266</td>\n",
       "    </tr>\n",
       "    <tr>\n",
       "      <th>1822</th>\n",
       "      <td>2017-01-16</td>\n",
       "      <td>821.783020</td>\n",
       "      <td>834.530029</td>\n",
       "      <td>820.270996</td>\n",
       "      <td>831.533997</td>\n",
       "      <td>831.533997</td>\n",
       "      <td>8.275520e+07</td>\n",
       "      <td>8.275520e+07</td>\n",
       "      <td>9.75098</td>\n",
       "      <td>1.187</td>\n",
       "      <td>828.77834</td>\n",
       "      <td>January 16, 17</td>\n",
       "      <td>0.01187</td>\n",
       "    </tr>\n",
       "    <tr>\n",
       "      <th>1823</th>\n",
       "      <td>2017-01-15</td>\n",
       "      <td>818.142029</td>\n",
       "      <td>823.307007</td>\n",
       "      <td>812.870972</td>\n",
       "      <td>821.797974</td>\n",
       "      <td>821.797974</td>\n",
       "      <td>7.101360e+07</td>\n",
       "      <td>7.101360e+07</td>\n",
       "      <td>3.65595</td>\n",
       "      <td>0.447</td>\n",
       "      <td>819.32532</td>\n",
       "      <td>January 15, 17</td>\n",
       "      <td>0.00447</td>\n",
       "    </tr>\n",
       "    <tr>\n",
       "      <th>1824</th>\n",
       "      <td>2017-01-14</td>\n",
       "      <td>825.142029</td>\n",
       "      <td>835.085022</td>\n",
       "      <td>812.455994</td>\n",
       "      <td>818.411987</td>\n",
       "      <td>818.411987</td>\n",
       "      <td>9.306330e+07</td>\n",
       "      <td>9.306330e+07</td>\n",
       "      <td>-6.73004</td>\n",
       "      <td>-0.816</td>\n",
       "      <td>821.98433</td>\n",
       "      <td>January 14, 17</td>\n",
       "      <td>-0.00816</td>\n",
       "    </tr>\n",
       "    <tr>\n",
       "      <th>1825</th>\n",
       "      <td>2017-01-13</td>\n",
       "      <td>803.737000</td>\n",
       "      <td>829.000977</td>\n",
       "      <td>780.002991</td>\n",
       "      <td>823.984009</td>\n",
       "      <td>823.984009</td>\n",
       "      <td>1.689680e+08</td>\n",
       "      <td>1.689680e+08</td>\n",
       "      <td>20.24701</td>\n",
       "      <td>2.519</td>\n",
       "      <td>810.99599</td>\n",
       "      <td>January 13, 17</td>\n",
       "      <td>0.02519</td>\n",
       "    </tr>\n",
       "  </tbody>\n",
       "</table>\n",
       "<p>1826 rows × 13 columns</p>\n",
       "</div>"
      ],
      "text/plain": [
       "            date          open          high           low         close  \\\n",
       "0     2022-01-12  42776.830200  42942.709400  42588.767200  42839.807600   \n",
       "1     2022-01-11  41861.042700  42148.080100  41703.983200  42148.080100   \n",
       "2     2022-01-10  41932.756900  42253.057500  41772.873600  41919.103900   \n",
       "3     2022-01-09  41808.563900  42710.280700  41473.902200  41963.416500   \n",
       "4     2022-01-08  41578.373000  42270.547300  40465.070800  41862.367700   \n",
       "...          ...           ...           ...           ...           ...   \n",
       "1821  2017-01-17    830.945984    910.560974    830.796021    907.937988   \n",
       "1822  2017-01-16    821.783020    834.530029    820.270996    831.533997   \n",
       "1823  2017-01-15    818.142029    823.307007    812.870972    821.797974   \n",
       "1824  2017-01-14    825.142029    835.085022    812.455994    818.411987   \n",
       "1825  2017-01-13    803.737000    829.000977    780.002991    823.984009   \n",
       "\n",
       "          adjClose        volume  unadjustedVolume     change  changePercent  \\\n",
       "0     42839.807600  2.654798e+10      2.654798e+10   62.97740          0.147   \n",
       "1     42148.080100  3.467735e+10      3.467735e+10  287.03740          0.686   \n",
       "2     41919.103900  2.200912e+10      2.200912e+10  -13.65300         -0.033   \n",
       "3     41963.416500  2.250029e+10      2.250029e+10  154.85260          0.370   \n",
       "4     41862.367700  2.811234e+10      2.811234e+10  283.99470          0.683   \n",
       "...            ...           ...               ...        ...            ...   \n",
       "1821    907.937988  1.550950e+08      1.550950e+08   76.99200          9.266   \n",
       "1822    831.533997  8.275520e+07      8.275520e+07    9.75098          1.187   \n",
       "1823    821.797974  7.101360e+07      7.101360e+07    3.65595          0.447   \n",
       "1824    818.411987  9.306330e+07      9.306330e+07   -6.73004         -0.816   \n",
       "1825    823.984009  1.689680e+08      1.689680e+08   20.24701          2.519   \n",
       "\n",
       "             vwap           label  changeOverTime  \n",
       "0     42790.42807  January 12, 22         0.00147  \n",
       "1     42000.04780  January 11, 22         0.00686  \n",
       "2     41981.67833  January 10, 22        -0.00033  \n",
       "3     42049.19980  January 09, 22         0.00370  \n",
       "4     41532.66193  January 08, 22         0.00683  \n",
       "...           ...             ...             ...  \n",
       "1821    883.09833  January 17, 17         0.09266  \n",
       "1822    828.77834  January 16, 17         0.01187  \n",
       "1823    819.32532  January 15, 17         0.00447  \n",
       "1824    821.98433  January 14, 17        -0.00816  \n",
       "1825    810.99599  January 13, 17         0.02519  \n",
       "\n",
       "[1826 rows x 13 columns]"
      ]
     },
     "execution_count": 26,
     "metadata": {},
     "output_type": "execute_result"
    }
   ],
   "source": [
    "api_key='a58413697e8263de9c95cab92049ea3f'\n",
    "symbol='BTCUSD'\n",
    "query=f'https://financialmodelingprep.com/api/v3/historical-price-full/{symbol}?apikey={api_key}'\n",
    "response=requests.get(query)\n",
    "df = pd.DataFrame(response.json()['historical'])\n",
    "df"
   ]
  },
  {
   "cell_type": "code",
   "execution_count": 27,
   "id": "acd7e0f0",
   "metadata": {
    "hidden": true
   },
   "outputs": [],
   "source": [
    "df['date']= pd.to_datetime(df['date'])"
   ]
  },
  {
   "cell_type": "code",
   "execution_count": 28,
   "id": "0c8f0657",
   "metadata": {
    "hidden": true
   },
   "outputs": [],
   "source": [
    "df.set_index('date', inplace = True)"
   ]
  },
  {
   "cell_type": "code",
   "execution_count": 29,
   "id": "ea5e72e0",
   "metadata": {
    "hidden": true
   },
   "outputs": [],
   "source": [
    "data = df"
   ]
  },
  {
   "cell_type": "code",
   "execution_count": 30,
   "id": "16984b09",
   "metadata": {
    "hidden": true
   },
   "outputs": [
    {
     "data": {
      "text/plain": [
       "[None,\n",
       " None,\n",
       " None,\n",
       " None,\n",
       " None,\n",
       " None,\n",
       " None,\n",
       " None,\n",
       " None,\n",
       " None,\n",
       " None,\n",
       " None,\n",
       " None,\n",
       " None]"
      ]
     },
     "execution_count": 30,
     "metadata": {},
     "output_type": "execute_result"
    },
    {
     "data": {
      "image/png": "[encoded data removed]",
      "text/plain": [
       "<Figure size 648x360 with 1 Axes>"
      ]
     },
     "metadata": {
      "needs_background": "light"
     },
     "output_type": "display_data"
    }
   ],
   "source": [
    "plt.figure(figsize=(9,5))\n",
    "plt.plot(data['close'],lw=1, label='BTC Prices')\n",
    "plt.legend(loc=2,prop={'size':11})\n",
    "plt.grid(True)\n",
    "plt.setp(plt.gca().get_xticklabels(), rotation=30)"
   ]
  },
  {
   "cell_type": "markdown",
   "id": "95f021e3",
   "metadata": {},
   "source": [
    "## Sentiment data "
   ]
  },
  {
   "cell_type": "markdown",
   "id": "22549580",
   "metadata": {},
   "source": [
    "### Twitter data"
   ]
  },
  {
   "cell_type": "code",
   "execution_count": null,
   "id": "564b9fa2",
   "metadata": {},
   "outputs": [],
   "source": []
  },
  {
   "cell_type": "code",
   "execution_count": 38,
   "id": "b70e5aa5",
   "metadata": {},
   "outputs": [],
   "source": [
    "tweet_content_df = pd.read_csv('cryptocurrency_trading/data/tweet_content_010921.csv')"
   ]
  },
  {
   "cell_type": "code",
   "execution_count": 35,
   "id": "a0fafcfc",
   "metadata": {},
   "outputs": [
    {
     "data": {
      "text/html": [
       "<div>\n",
       "<style scoped>\n",
       "    .dataframe tbody tr th:only-of-type {\n",
       "        vertical-align: middle;\n",
       "    }\n",
       "\n",
       "    .dataframe tbody tr th {\n",
       "        vertical-align: top;\n",
       "    }\n",
       "\n",
       "    .dataframe thead th {\n",
       "        text-align: right;\n",
       "    }\n",
       "</style>\n",
       "<table border=\"1\" class=\"dataframe\">\n",
       "  <thead>\n",
       "    <tr style=\"text-align: right;\">\n",
       "      <th></th>\n",
       "      <th>Unnamed: 0</th>\n",
       "      <th>id</th>\n",
       "      <th>text</th>\n",
       "      <th>start</th>\n",
       "      <th>end</th>\n",
       "    </tr>\n",
       "  </thead>\n",
       "  <tbody>\n",
       "    <tr>\n",
       "      <th>0</th>\n",
       "      <td>0</td>\n",
       "      <td>1425623064121724929</td>\n",
       "      <td>RT @WClementeIII: 76.8% of Bitcoin's money sup...</td>\n",
       "      <td>2018-01-01 00:00:00+00:00</td>\n",
       "      <td>2018-01-02T00:00:00Z</td>\n",
       "    </tr>\n",
       "    <tr>\n",
       "      <th>1</th>\n",
       "      <td>1</td>\n",
       "      <td>1425622402176675842</td>\n",
       "      <td>RT @1MillionTokens: 🥰1000 #1MT #Giveaway ( wor...</td>\n",
       "      <td>2018-01-01 00:00:00+00:00</td>\n",
       "      <td>2018-01-02T00:00:00Z</td>\n",
       "    </tr>\n",
       "    <tr>\n",
       "      <th>2</th>\n",
       "      <td>2</td>\n",
       "      <td>1425622403439267849</td>\n",
       "      <td>RT @gladstein: 1/ My essay \"Inside Cuba's Bitc...</td>\n",
       "      <td>2018-01-01 00:00:00+00:00</td>\n",
       "      <td>2018-01-02T00:00:00Z</td>\n",
       "    </tr>\n",
       "    <tr>\n",
       "      <th>3</th>\n",
       "      <td>3</td>\n",
       "      <td>1425622403695058947</td>\n",
       "      <td>RT @AirdropDet: 🔍 New #Airdrop: META 1 Coin\\n\\...</td>\n",
       "      <td>2018-01-01 00:00:00+00:00</td>\n",
       "      <td>2018-01-02T00:00:00Z</td>\n",
       "    </tr>\n",
       "    <tr>\n",
       "      <th>4</th>\n",
       "      <td>4</td>\n",
       "      <td>1425622404194136066</td>\n",
       "      <td>RT @RewardHunters: Want to know about The Batt...</td>\n",
       "      <td>2018-01-01 00:00:00+00:00</td>\n",
       "      <td>2018-01-02T00:00:00Z</td>\n",
       "    </tr>\n",
       "  </tbody>\n",
       "</table>\n",
       "</div>"
      ],
      "text/plain": [
       "   Unnamed: 0                   id  \\\n",
       "0           0  1425623064121724929   \n",
       "1           1  1425622402176675842   \n",
       "2           2  1425622403439267849   \n",
       "3           3  1425622403695058947   \n",
       "4           4  1425622404194136066   \n",
       "\n",
       "                                                text  \\\n",
       "0  RT @WClementeIII: 76.8% of Bitcoin's money sup...   \n",
       "1  RT @1MillionTokens: 🥰1000 #1MT #Giveaway ( wor...   \n",
       "2  RT @gladstein: 1/ My essay \"Inside Cuba's Bitc...   \n",
       "3  RT @AirdropDet: 🔍 New #Airdrop: META 1 Coin\\n\\...   \n",
       "4  RT @RewardHunters: Want to know about The Batt...   \n",
       "\n",
       "                       start                   end  \n",
       "0  2018-01-01 00:00:00+00:00  2018-01-02T00:00:00Z  \n",
       "1  2018-01-01 00:00:00+00:00  2018-01-02T00:00:00Z  \n",
       "2  2018-01-01 00:00:00+00:00  2018-01-02T00:00:00Z  \n",
       "3  2018-01-01 00:00:00+00:00  2018-01-02T00:00:00Z  \n",
       "4  2018-01-01 00:00:00+00:00  2018-01-02T00:00:00Z  "
      ]
     },
     "execution_count": 35,
     "metadata": {},
     "output_type": "execute_result"
    }
   ],
   "source": [
    "tweet_content_df.head()"
   ]
  },
  {
   "cell_type": "markdown",
   "id": "8877abef",
   "metadata": {},
   "source": [
    "Example of tweet"
   ]
  },
  {
   "cell_type": "code",
   "execution_count": 37,
   "id": "09476027",
   "metadata": {
    "scrolled": true
   },
   "outputs": [
    {
     "data": {
      "text/plain": [
       "\"RT @WClementeIII: 76.8% of Bitcoin's money supply is held by strong hands.\\n\\nThroughout the asset's speculative history, a larger % of suppl…\""
      ]
     },
     "execution_count": 37,
     "metadata": {},
     "output_type": "execute_result"
    }
   ],
   "source": [
    "tweet_content_df['text'][0]"
   ]
  },
  {
   "cell_type": "markdown",
   "id": "a55a5eb0",
   "metadata": {},
   "source": [
    "Number of tweet containing the keyword 'Bitcoin' per day"
   ]
  },
  {
   "cell_type": "code",
   "execution_count": 39,
   "id": "c95ba45e",
   "metadata": {},
   "outputs": [],
   "source": [
    "tweet_count_df = pd.read_csv('cryptocurrency_trading/data/tweet_count_010921.csv')"
   ]
  },
  {
   "cell_type": "code",
   "execution_count": 48,
   "id": "06ee6674",
   "metadata": {},
   "outputs": [
    {
     "data": {
      "text/html": [
       "<div>\n",
       "<style scoped>\n",
       "    .dataframe tbody tr th:only-of-type {\n",
       "        vertical-align: middle;\n",
       "    }\n",
       "\n",
       "    .dataframe tbody tr th {\n",
       "        vertical-align: top;\n",
       "    }\n",
       "\n",
       "    .dataframe thead th {\n",
       "        text-align: right;\n",
       "    }\n",
       "</style>\n",
       "<table border=\"1\" class=\"dataframe\">\n",
       "  <thead>\n",
       "    <tr style=\"text-align: right;\">\n",
       "      <th></th>\n",
       "      <th>Unnamed: 0</th>\n",
       "      <th>end</th>\n",
       "      <th>start</th>\n",
       "      <th>tweet_count</th>\n",
       "    </tr>\n",
       "  </thead>\n",
       "  <tbody>\n",
       "    <tr>\n",
       "      <th>0</th>\n",
       "      <td>0</td>\n",
       "      <td>2018-01-02T00:00:00.000Z</td>\n",
       "      <td>2018-01-01T00:00:00.000Z</td>\n",
       "      <td>90414</td>\n",
       "    </tr>\n",
       "    <tr>\n",
       "      <th>1</th>\n",
       "      <td>1</td>\n",
       "      <td>2018-01-03T00:00:00.000Z</td>\n",
       "      <td>2018-01-02T00:00:00.000Z</td>\n",
       "      <td>125905</td>\n",
       "    </tr>\n",
       "    <tr>\n",
       "      <th>2</th>\n",
       "      <td>2</td>\n",
       "      <td>2018-01-04T00:00:00.000Z</td>\n",
       "      <td>2018-01-03T00:00:00.000Z</td>\n",
       "      <td>134825</td>\n",
       "    </tr>\n",
       "    <tr>\n",
       "      <th>3</th>\n",
       "      <td>3</td>\n",
       "      <td>2018-01-05T00:00:00.000Z</td>\n",
       "      <td>2018-01-04T00:00:00.000Z</td>\n",
       "      <td>126106</td>\n",
       "    </tr>\n",
       "    <tr>\n",
       "      <th>4</th>\n",
       "      <td>4</td>\n",
       "      <td>2018-01-06T00:00:00.000Z</td>\n",
       "      <td>2018-01-05T00:00:00.000Z</td>\n",
       "      <td>115883</td>\n",
       "    </tr>\n",
       "  </tbody>\n",
       "</table>\n",
       "</div>"
      ],
      "text/plain": [
       "   Unnamed: 0                       end                     start  tweet_count\n",
       "0           0  2018-01-02T00:00:00.000Z  2018-01-01T00:00:00.000Z        90414\n",
       "1           1  2018-01-03T00:00:00.000Z  2018-01-02T00:00:00.000Z       125905\n",
       "2           2  2018-01-04T00:00:00.000Z  2018-01-03T00:00:00.000Z       134825\n",
       "3           3  2018-01-05T00:00:00.000Z  2018-01-04T00:00:00.000Z       126106\n",
       "4           4  2018-01-06T00:00:00.000Z  2018-01-05T00:00:00.000Z       115883"
      ]
     },
     "execution_count": 48,
     "metadata": {},
     "output_type": "execute_result"
    }
   ],
   "source": [
    "tweet_count_df.head()"
   ]
  },
  {
   "cell_type": "code",
   "execution_count": 56,
   "id": "06d98cff",
   "metadata": {},
   "outputs": [
    {
     "data": {
      "text/plain": [
       "Index(['Unnamed: 0', 'end', 'start', 'tweet_count'], dtype='object')"
      ]
     },
     "execution_count": 56,
     "metadata": {},
     "output_type": "execute_result"
    }
   ],
   "source": [
    "tweet_count_df.columns"
   ]
  },
  {
   "cell_type": "code",
   "execution_count": 60,
   "id": "b6d92ea4",
   "metadata": {},
   "outputs": [],
   "source": [
    "tweet_count_df =  tweet_count_df.drop(['start','Unnamed: 0'], axis =1)"
   ]
  },
  {
   "cell_type": "code",
   "execution_count": 58,
   "id": "4946cea6",
   "metadata": {},
   "outputs": [],
   "source": [
    "tweet_count_df['end'] = pd.to_datetime(tweet_count_df['end'])"
   ]
  },
  {
   "cell_type": "code",
   "execution_count": 61,
   "id": "829e1375",
   "metadata": {},
   "outputs": [
    {
     "data": {
      "text/html": [
       "<div>\n",
       "<style scoped>\n",
       "    .dataframe tbody tr th:only-of-type {\n",
       "        vertical-align: middle;\n",
       "    }\n",
       "\n",
       "    .dataframe tbody tr th {\n",
       "        vertical-align: top;\n",
       "    }\n",
       "\n",
       "    .dataframe thead th {\n",
       "        text-align: right;\n",
       "    }\n",
       "</style>\n",
       "<table border=\"1\" class=\"dataframe\">\n",
       "  <thead>\n",
       "    <tr style=\"text-align: right;\">\n",
       "      <th></th>\n",
       "      <th>end</th>\n",
       "      <th>tweet_count</th>\n",
       "    </tr>\n",
       "  </thead>\n",
       "  <tbody>\n",
       "    <tr>\n",
       "      <th>0</th>\n",
       "      <td>2018-01-02 00:00:00+00:00</td>\n",
       "      <td>90414</td>\n",
       "    </tr>\n",
       "    <tr>\n",
       "      <th>1</th>\n",
       "      <td>2018-01-03 00:00:00+00:00</td>\n",
       "      <td>125905</td>\n",
       "    </tr>\n",
       "    <tr>\n",
       "      <th>2</th>\n",
       "      <td>2018-01-04 00:00:00+00:00</td>\n",
       "      <td>134825</td>\n",
       "    </tr>\n",
       "    <tr>\n",
       "      <th>3</th>\n",
       "      <td>2018-01-05 00:00:00+00:00</td>\n",
       "      <td>126106</td>\n",
       "    </tr>\n",
       "    <tr>\n",
       "      <th>4</th>\n",
       "      <td>2018-01-06 00:00:00+00:00</td>\n",
       "      <td>115883</td>\n",
       "    </tr>\n",
       "    <tr>\n",
       "      <th>...</th>\n",
       "      <td>...</td>\n",
       "      <td>...</td>\n",
       "    </tr>\n",
       "    <tr>\n",
       "      <th>1291</th>\n",
       "      <td>2021-08-29 00:00:00+00:00</td>\n",
       "      <td>275021</td>\n",
       "    </tr>\n",
       "    <tr>\n",
       "      <th>1292</th>\n",
       "      <td>2021-08-30 00:00:00+00:00</td>\n",
       "      <td>321682</td>\n",
       "    </tr>\n",
       "    <tr>\n",
       "      <th>1293</th>\n",
       "      <td>2021-08-31 00:00:00+00:00</td>\n",
       "      <td>305249</td>\n",
       "    </tr>\n",
       "    <tr>\n",
       "      <th>1294</th>\n",
       "      <td>2021-09-01 00:00:00+00:00</td>\n",
       "      <td>296186</td>\n",
       "    </tr>\n",
       "    <tr>\n",
       "      <th>1295</th>\n",
       "      <td>2021-09-01 22:00:07+00:00</td>\n",
       "      <td>287533</td>\n",
       "    </tr>\n",
       "  </tbody>\n",
       "</table>\n",
       "<p>1296 rows × 2 columns</p>\n",
       "</div>"
      ],
      "text/plain": [
       "                           end  tweet_count\n",
       "0    2018-01-02 00:00:00+00:00        90414\n",
       "1    2018-01-03 00:00:00+00:00       125905\n",
       "2    2018-01-04 00:00:00+00:00       134825\n",
       "3    2018-01-05 00:00:00+00:00       126106\n",
       "4    2018-01-06 00:00:00+00:00       115883\n",
       "...                        ...          ...\n",
       "1291 2021-08-29 00:00:00+00:00       275021\n",
       "1292 2021-08-30 00:00:00+00:00       321682\n",
       "1293 2021-08-31 00:00:00+00:00       305249\n",
       "1294 2021-09-01 00:00:00+00:00       296186\n",
       "1295 2021-09-01 22:00:07+00:00       287533\n",
       "\n",
       "[1296 rows x 2 columns]"
      ]
     },
     "execution_count": 61,
     "metadata": {},
     "output_type": "execute_result"
    }
   ],
   "source": [
    "tweet_count_df"
   ]
  },
  {
   "cell_type": "code",
   "execution_count": 64,
   "id": "bde53cfb",
   "metadata": {},
   "outputs": [],
   "source": [
    "tweet_count_df.set_index('end', inplace=True)"
   ]
  },
  {
   "cell_type": "code",
   "execution_count": 72,
   "id": "888714f8",
   "metadata": {},
   "outputs": [
    {
     "data": {
      "text/plain": [
       "Text(0.5, 1.0, 'Correlation between number of tweets and bitcoin price')"
      ]
     },
     "execution_count": 72,
     "metadata": {},
     "output_type": "execute_result"
    },
    {
     "data": {
      "image/png": "[encoded data removed]",
      "text/plain": [
       "<Figure size 648x360 with 1 Axes>"
      ]
     },
     "metadata": {
      "needs_background": "light"
     },
     "output_type": "display_data"
    }
   ],
   "source": [
    "plt.figure(figsize=(9,5))\n",
    "plt.plot(tweet_count_df['tweet_count'],lw=1, label='Tweet count')\n",
    "plt.plot(data['close'],lw=1, label='BTC Price')\n",
    "plt.legend(loc=2,prop={'size':11})\n",
    "plt.grid(True)\n",
    "plt.setp(plt.gca().get_xticklabels(), rotation=30)\n",
    "plt.title('Correlation between number of tweets and bitcoin price')"
   ]
  },
  {
   "cell_type": "markdown",
   "id": "67d42a02",
   "metadata": {},
   "source": [
    "###  Reddit data"
   ]
  },
  {
   "cell_type": "code",
   "execution_count": 74,
   "id": "8c31c11b",
   "metadata": {},
   "outputs": [],
   "source": [
    "reddit_df = pd.read_csv('cryptocurrency_trading/data/final_reddit_data.csv')"
   ]
  },
  {
   "cell_type": "code",
   "execution_count": 75,
   "id": "875dbbc9",
   "metadata": {},
   "outputs": [
    {
     "data": {
      "text/html": [
       "<div>\n",
       "<style scoped>\n",
       "    .dataframe tbody tr th:only-of-type {\n",
       "        vertical-align: middle;\n",
       "    }\n",
       "\n",
       "    .dataframe tbody tr th {\n",
       "        vertical-align: top;\n",
       "    }\n",
       "\n",
       "    .dataframe thead th {\n",
       "        text-align: right;\n",
       "    }\n",
       "</style>\n",
       "<table border=\"1\" class=\"dataframe\">\n",
       "  <thead>\n",
       "    <tr style=\"text-align: right;\">\n",
       "      <th></th>\n",
       "      <th>Unnamed: 0</th>\n",
       "      <th>date</th>\n",
       "      <th>real_score</th>\n",
       "      <th>post_per_day</th>\n",
       "    </tr>\n",
       "  </thead>\n",
       "  <tbody>\n",
       "    <tr>\n",
       "      <th>0</th>\n",
       "      <td>0</td>\n",
       "      <td>2018-01-01</td>\n",
       "      <td>0.191187</td>\n",
       "      <td>464</td>\n",
       "    </tr>\n",
       "    <tr>\n",
       "      <th>1</th>\n",
       "      <td>1</td>\n",
       "      <td>2018-01-02</td>\n",
       "      <td>0.476037</td>\n",
       "      <td>594</td>\n",
       "    </tr>\n",
       "    <tr>\n",
       "      <th>2</th>\n",
       "      <td>2</td>\n",
       "      <td>2018-01-03</td>\n",
       "      <td>0.689065</td>\n",
       "      <td>620</td>\n",
       "    </tr>\n",
       "    <tr>\n",
       "      <th>3</th>\n",
       "      <td>3</td>\n",
       "      <td>2018-01-04</td>\n",
       "      <td>-0.144155</td>\n",
       "      <td>629</td>\n",
       "    </tr>\n",
       "    <tr>\n",
       "      <th>4</th>\n",
       "      <td>4</td>\n",
       "      <td>2018-01-05</td>\n",
       "      <td>0.197948</td>\n",
       "      <td>686</td>\n",
       "    </tr>\n",
       "    <tr>\n",
       "      <th>...</th>\n",
       "      <td>...</td>\n",
       "      <td>...</td>\n",
       "      <td>...</td>\n",
       "      <td>...</td>\n",
       "    </tr>\n",
       "    <tr>\n",
       "      <th>1236</th>\n",
       "      <td>1236</td>\n",
       "      <td>2021-08-27</td>\n",
       "      <td>0.472290</td>\n",
       "      <td>269</td>\n",
       "    </tr>\n",
       "    <tr>\n",
       "      <th>1237</th>\n",
       "      <td>1237</td>\n",
       "      <td>2021-08-28</td>\n",
       "      <td>0.417047</td>\n",
       "      <td>219</td>\n",
       "    </tr>\n",
       "    <tr>\n",
       "      <th>1238</th>\n",
       "      <td>1238</td>\n",
       "      <td>2021-08-29</td>\n",
       "      <td>0.835773</td>\n",
       "      <td>199</td>\n",
       "    </tr>\n",
       "    <tr>\n",
       "      <th>1239</th>\n",
       "      <td>1239</td>\n",
       "      <td>2021-08-30</td>\n",
       "      <td>0.722232</td>\n",
       "      <td>232</td>\n",
       "    </tr>\n",
       "    <tr>\n",
       "      <th>1240</th>\n",
       "      <td>1240</td>\n",
       "      <td>2021-08-31</td>\n",
       "      <td>0.628596</td>\n",
       "      <td>259</td>\n",
       "    </tr>\n",
       "  </tbody>\n",
       "</table>\n",
       "<p>1241 rows × 4 columns</p>\n",
       "</div>"
      ],
      "text/plain": [
       "      Unnamed: 0        date  real_score  post_per_day\n",
       "0              0  2018-01-01    0.191187           464\n",
       "1              1  2018-01-02    0.476037           594\n",
       "2              2  2018-01-03    0.689065           620\n",
       "3              3  2018-01-04   -0.144155           629\n",
       "4              4  2018-01-05    0.197948           686\n",
       "...          ...         ...         ...           ...\n",
       "1236        1236  2021-08-27    0.472290           269\n",
       "1237        1237  2021-08-28    0.417047           219\n",
       "1238        1238  2021-08-29    0.835773           199\n",
       "1239        1239  2021-08-30    0.722232           232\n",
       "1240        1240  2021-08-31    0.628596           259\n",
       "\n",
       "[1241 rows x 4 columns]"
      ]
     },
     "execution_count": 75,
     "metadata": {},
     "output_type": "execute_result"
    }
   ],
   "source": [
    "reddit_df"
   ]
  },
  {
   "cell_type": "code",
   "execution_count": 76,
   "id": "3ff2ed6d",
   "metadata": {},
   "outputs": [],
   "source": [
    "reddit_df = reddit_content_df.drop(['Unnamed: 0'], axis =1)"
   ]
  },
  {
   "cell_type": "code",
   "execution_count": 79,
   "id": "c21eb1d0",
   "metadata": {
    "scrolled": true
   },
   "outputs": [],
   "source": [
    "reddit_df['date'] = pd.to_datetime(reddit_df['date'])"
   ]
  },
  {
   "cell_type": "code",
   "execution_count": 81,
   "id": "8a649831",
   "metadata": {},
   "outputs": [
    {
     "data": {
      "text/html": [
       "<div>\n",
       "<style scoped>\n",
       "    .dataframe tbody tr th:only-of-type {\n",
       "        vertical-align: middle;\n",
       "    }\n",
       "\n",
       "    .dataframe tbody tr th {\n",
       "        vertical-align: top;\n",
       "    }\n",
       "\n",
       "    .dataframe thead th {\n",
       "        text-align: right;\n",
       "    }\n",
       "</style>\n",
       "<table border=\"1\" class=\"dataframe\">\n",
       "  <thead>\n",
       "    <tr style=\"text-align: right;\">\n",
       "      <th></th>\n",
       "      <th>date</th>\n",
       "      <th>real_score</th>\n",
       "      <th>post_per_day</th>\n",
       "    </tr>\n",
       "  </thead>\n",
       "  <tbody>\n",
       "    <tr>\n",
       "      <th>0</th>\n",
       "      <td>2018-01-01</td>\n",
       "      <td>0.191187</td>\n",
       "      <td>464</td>\n",
       "    </tr>\n",
       "    <tr>\n",
       "      <th>1</th>\n",
       "      <td>2018-01-02</td>\n",
       "      <td>0.476037</td>\n",
       "      <td>594</td>\n",
       "    </tr>\n",
       "    <tr>\n",
       "      <th>2</th>\n",
       "      <td>2018-01-03</td>\n",
       "      <td>0.689065</td>\n",
       "      <td>620</td>\n",
       "    </tr>\n",
       "    <tr>\n",
       "      <th>3</th>\n",
       "      <td>2018-01-04</td>\n",
       "      <td>-0.144155</td>\n",
       "      <td>629</td>\n",
       "    </tr>\n",
       "    <tr>\n",
       "      <th>4</th>\n",
       "      <td>2018-01-05</td>\n",
       "      <td>0.197948</td>\n",
       "      <td>686</td>\n",
       "    </tr>\n",
       "  </tbody>\n",
       "</table>\n",
       "</div>"
      ],
      "text/plain": [
       "        date  real_score  post_per_day\n",
       "0 2018-01-01    0.191187           464\n",
       "1 2018-01-02    0.476037           594\n",
       "2 2018-01-03    0.689065           620\n",
       "3 2018-01-04   -0.144155           629\n",
       "4 2018-01-05    0.197948           686"
      ]
     },
     "execution_count": 81,
     "metadata": {},
     "output_type": "execute_result"
    }
   ],
   "source": [
    "reddit_df.head()"
   ]
  },
  {
   "cell_type": "code",
   "execution_count": 82,
   "id": "a6794314",
   "metadata": {},
   "outputs": [
    {
     "data": {
      "text/html": [
       "<div>\n",
       "<style scoped>\n",
       "    .dataframe tbody tr th:only-of-type {\n",
       "        vertical-align: middle;\n",
       "    }\n",
       "\n",
       "    .dataframe tbody tr th {\n",
       "        vertical-align: top;\n",
       "    }\n",
       "\n",
       "    .dataframe thead th {\n",
       "        text-align: right;\n",
       "    }\n",
       "</style>\n",
       "<table border=\"1\" class=\"dataframe\">\n",
       "  <thead>\n",
       "    <tr style=\"text-align: right;\">\n",
       "      <th></th>\n",
       "      <th>date</th>\n",
       "      <th>real_score</th>\n",
       "      <th>post_per_day</th>\n",
       "    </tr>\n",
       "  </thead>\n",
       "  <tbody>\n",
       "    <tr>\n",
       "      <th>1236</th>\n",
       "      <td>2021-08-27</td>\n",
       "      <td>0.472290</td>\n",
       "      <td>269</td>\n",
       "    </tr>\n",
       "    <tr>\n",
       "      <th>1237</th>\n",
       "      <td>2021-08-28</td>\n",
       "      <td>0.417047</td>\n",
       "      <td>219</td>\n",
       "    </tr>\n",
       "    <tr>\n",
       "      <th>1238</th>\n",
       "      <td>2021-08-29</td>\n",
       "      <td>0.835773</td>\n",
       "      <td>199</td>\n",
       "    </tr>\n",
       "    <tr>\n",
       "      <th>1239</th>\n",
       "      <td>2021-08-30</td>\n",
       "      <td>0.722232</td>\n",
       "      <td>232</td>\n",
       "    </tr>\n",
       "    <tr>\n",
       "      <th>1240</th>\n",
       "      <td>2021-08-31</td>\n",
       "      <td>0.628596</td>\n",
       "      <td>259</td>\n",
       "    </tr>\n",
       "  </tbody>\n",
       "</table>\n",
       "</div>"
      ],
      "text/plain": [
       "           date  real_score  post_per_day\n",
       "1236 2021-08-27    0.472290           269\n",
       "1237 2021-08-28    0.417047           219\n",
       "1238 2021-08-29    0.835773           199\n",
       "1239 2021-08-30    0.722232           232\n",
       "1240 2021-08-31    0.628596           259"
      ]
     },
     "execution_count": 82,
     "metadata": {},
     "output_type": "execute_result"
    }
   ],
   "source": [
    "reddit_df.tail()"
   ]
  },
  {
   "cell_type": "code",
   "execution_count": 84,
   "id": "56deb911",
   "metadata": {},
   "outputs": [],
   "source": [
    "reddit_df.set_index('date', inplace=True)"
   ]
  },
  {
   "cell_type": "code",
   "execution_count": 86,
   "id": "30370c23",
   "metadata": {
    "scrolled": false
   },
   "outputs": [
    {
     "data": {
      "text/plain": [
       "Text(0.5, 1.0, 'Correlation between number of tweets and bitcoin price')"
      ]
     },
     "execution_count": 86,
     "metadata": {},
     "output_type": "execute_result"
    },
    {
     "data": {
      "image/png": "[encoded data removed]",
      "text/plain": [
       "<Figure size 648x360 with 1 Axes>"
      ]
     },
     "metadata": {
      "needs_background": "light"
     },
     "output_type": "display_data"
    }
   ],
   "source": [
    "plt.figure(figsize=(9,5))\n",
    "plt.plot(reddit_df['post_per_day'],lw=1, label='Reddit post count')\n",
    "plt.plot(data['close']/100,lw=1, label='BTC Price')\n",
    "plt.legend(loc=2,prop={'size':11})\n",
    "plt.grid(True)\n",
    "plt.setp(plt.gca().get_xticklabels(), rotation=30)\n",
    "plt.title('Correlation between number of reddit posts and bitcoin price')"
   ]
  },
  {
   "cell_type": "code",
   "execution_count": null,
   "id": "a18736da",
   "metadata": {},
   "outputs": [],
   "source": []
  }
 ],
 "metadata": {
  "kernelspec": {
   "display_name": "Python 3 (ipykernel)",
   "language": "python",
   "name": "python3"
  },
  "language_info": {
   "codemirror_mode": {
    "name": "ipython",
    "version": 3
   },
   "file_extension": ".py",
   "mimetype": "text/x-python",
   "name": "python",
   "nbconvert_exporter": "python",
   "pygments_lexer": "ipython3",
   "version": "3.8.6"
  },
  "toc": {
   "base_numbering": 1,
   "nav_menu": {},
   "number_sections": true,
   "sideBar": true,
   "skip_h1_title": false,
   "title_cell": "Table of Contents",
   "title_sidebar": "Contents",
   "toc_cell": false,
   "toc_position": {},
   "toc_section_display": true,
   "toc_window_display": false
  }
 },
 "nbformat": 4,
 "nbformat_minor": 5
}
